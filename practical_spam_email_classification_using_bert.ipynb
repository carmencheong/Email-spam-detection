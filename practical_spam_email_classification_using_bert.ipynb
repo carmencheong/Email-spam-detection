{
  "metadata": {
    "kernelspec": {
      "display_name": "Python 3",
      "name": "python3"
    },
    "language_info": {
      "name": "python",
      "version": "3.7.12",
      "mimetype": "text/x-python",
      "codemirror_mode": {
        "name": "ipython",
        "version": 3
      },
      "pygments_lexer": "ipython3",
      "nbconvert_exporter": "python",
      "file_extension": ".py"
    },
    "colab": {
      "provenance": [],
      "gpuType": "T4",
      "include_colab_link": true
    },
    "accelerator": "GPU"
  },
  "nbformat_minor": 0,
  "nbformat": 4,
  "cells": [
    {
      "cell_type": "markdown",
      "metadata": {
        "id": "view-in-github",
        "colab_type": "text"
      },
      "source": [
        "<a href=\"https://colab.research.google.com/github/carmencheong/Email-spam-detection/blob/master/practical_spam_email_classification_using_bert.ipynb\" target=\"_parent\"><img src=\"https://colab.research.google.com/assets/colab-badge.svg\" alt=\"Open In Colab\"/></a>"
      ]
    },
    {
      "cell_type": "code",
      "source": [
        "# This Python 3 environment comes with many helpful analytics libraries installed\n",
        "# It is defined by the kaggle/python Docker image: https://github.com/kaggle/docker-python\n",
        "# For example, here's several helpful packages to load\n",
        "\n",
        "import numpy as np # linear algebra\n",
        "import pandas as pd # data processing, CSV file I/O (e.g. pd.read_csv)\n",
        "\n",
        "# Input data files are available in the read-only \"../input/\" directory\n",
        "# For example, running this (by clicking run or pressing Shift+Enter) will list all files under the input directory\n",
        "\n",
        "import os\n",
        "for dirname, _, filenames in os.walk('/content/'):\n",
        "    for filename in filenames:\n",
        "        print(os.path.join(dirname, filename))\n",
        "\n",
        "# You can write up to 20GB to the current directory (/kaggle/working/) that gets preserved as output when you create a version using \"Save & Run All\"\n",
        "# You can also write temporary files to /kaggle/temp/, but they won't be saved outside of the current session"
      ],
      "metadata": {
        "_uuid": "8f2839f25d086af736a60e9eeb907d3b93b6e0e5",
        "_cell_guid": "b1076dfc-b9ad-4769-8c92-a6c4dae69d19",
        "execution": {
          "iopub.status.busy": "2023-10-30T00:39:04.492055Z",
          "iopub.execute_input": "2023-10-30T00:39:04.492691Z",
          "iopub.status.idle": "2023-10-30T00:39:04.509557Z",
          "shell.execute_reply.started": "2023-10-30T00:39:04.492655Z",
          "shell.execute_reply": "2023-10-30T00:39:04.508425Z"
        },
        "trusted": true,
        "colab": {
          "base_uri": "https://localhost:8080/"
        },
        "id": "0oYCcZmxDDJC",
        "outputId": "c187891e-af66-4851-8dd0-4a50a72e727b"
      },
      "execution_count": null,
      "outputs": [
        {
          "output_type": "stream",
          "name": "stdout",
          "text": [
            "/content/.config/config_sentinel\n",
            "/content/.config/.last_update_check.json\n",
            "/content/.config/active_config\n",
            "/content/.config/gce\n",
            "/content/.config/.last_survey_prompt.yaml\n",
            "/content/.config/.last_opt_in_prompt.yaml\n",
            "/content/.config/default_configs.db\n",
            "/content/.config/configurations/config_default\n",
            "/content/.config/logs/2023.10.26/13.24.09.918386.log\n",
            "/content/.config/logs/2023.10.26/13.24.27.273292.log\n",
            "/content/.config/logs/2023.10.26/13.24.01.273477.log\n",
            "/content/.config/logs/2023.10.26/13.23.35.885303.log\n",
            "/content/.config/logs/2023.10.26/13.24.17.396802.log\n",
            "/content/.config/logs/2023.10.26/13.24.26.535618.log\n",
            "/content/sample_data/README.md\n",
            "/content/sample_data/anscombe.json\n",
            "/content/sample_data/california_housing_train.csv\n",
            "/content/sample_data/mnist_train_small.csv\n",
            "/content/sample_data/mnist_test.csv\n",
            "/content/sample_data/california_housing_test.csv\n"
          ]
        }
      ]
    },
    {
      "cell_type": "markdown",
      "source": [
        "## Importing required packages"
      ],
      "metadata": {
        "id": "vAfC3d1DDDJF"
      }
    },
    {
      "cell_type": "code",
      "source": [
        "!pip install tensorflow_text #Resolve ModuleNotFoundError: No module named 'tensorflow_text'\n",
        "import tensorflow_hub as hub\n",
        "import tensorflow_text as text\n",
        "import tensorflow as tf"
      ],
      "metadata": {
        "execution": {
          "iopub.status.busy": "2023-10-30T00:39:04.511776Z",
          "iopub.execute_input": "2023-10-30T00:39:04.512322Z",
          "iopub.status.idle": "2023-10-30T00:39:04.517189Z",
          "shell.execute_reply.started": "2023-10-30T00:39:04.512288Z",
          "shell.execute_reply": "2023-10-30T00:39:04.516085Z"
        },
        "trusted": true,
        "colab": {
          "base_uri": "https://localhost:8080/"
        },
        "id": "USRDuMRvDDJG",
        "outputId": "0808ec61-83aa-49b8-e48f-98ae3b356934"
      },
      "execution_count": null,
      "outputs": [
        {
          "output_type": "stream",
          "name": "stdout",
          "text": [
            "Requirement already satisfied: tensorflow_text in /usr/local/lib/python3.10/dist-packages (2.14.0)\n",
            "Requirement already satisfied: tensorflow-hub>=0.13.0 in /usr/local/lib/python3.10/dist-packages (from tensorflow_text) (0.15.0)\n",
            "Requirement already satisfied: tensorflow<2.15,>=2.14.0 in /usr/local/lib/python3.10/dist-packages (from tensorflow_text) (2.14.0)\n",
            "Requirement already satisfied: absl-py>=1.0.0 in /usr/local/lib/python3.10/dist-packages (from tensorflow<2.15,>=2.14.0->tensorflow_text) (1.4.0)\n",
            "Requirement already satisfied: astunparse>=1.6.0 in /usr/local/lib/python3.10/dist-packages (from tensorflow<2.15,>=2.14.0->tensorflow_text) (1.6.3)\n",
            "Requirement already satisfied: flatbuffers>=23.5.26 in /usr/local/lib/python3.10/dist-packages (from tensorflow<2.15,>=2.14.0->tensorflow_text) (23.5.26)\n",
            "Requirement already satisfied: gast!=0.5.0,!=0.5.1,!=0.5.2,>=0.2.1 in /usr/local/lib/python3.10/dist-packages (from tensorflow<2.15,>=2.14.0->tensorflow_text) (0.5.4)\n",
            "Requirement already satisfied: google-pasta>=0.1.1 in /usr/local/lib/python3.10/dist-packages (from tensorflow<2.15,>=2.14.0->tensorflow_text) (0.2.0)\n",
            "Requirement already satisfied: h5py>=2.9.0 in /usr/local/lib/python3.10/dist-packages (from tensorflow<2.15,>=2.14.0->tensorflow_text) (3.9.0)\n",
            "Requirement already satisfied: libclang>=13.0.0 in /usr/local/lib/python3.10/dist-packages (from tensorflow<2.15,>=2.14.0->tensorflow_text) (16.0.6)\n",
            "Requirement already satisfied: ml-dtypes==0.2.0 in /usr/local/lib/python3.10/dist-packages (from tensorflow<2.15,>=2.14.0->tensorflow_text) (0.2.0)\n",
            "Requirement already satisfied: numpy>=1.23.5 in /usr/local/lib/python3.10/dist-packages (from tensorflow<2.15,>=2.14.0->tensorflow_text) (1.23.5)\n",
            "Requirement already satisfied: opt-einsum>=2.3.2 in /usr/local/lib/python3.10/dist-packages (from tensorflow<2.15,>=2.14.0->tensorflow_text) (3.3.0)\n",
            "Requirement already satisfied: packaging in /usr/local/lib/python3.10/dist-packages (from tensorflow<2.15,>=2.14.0->tensorflow_text) (23.2)\n",
            "Requirement already satisfied: protobuf!=4.21.0,!=4.21.1,!=4.21.2,!=4.21.3,!=4.21.4,!=4.21.5,<5.0.0dev,>=3.20.3 in /usr/local/lib/python3.10/dist-packages (from tensorflow<2.15,>=2.14.0->tensorflow_text) (3.20.3)\n",
            "Requirement already satisfied: setuptools in /usr/local/lib/python3.10/dist-packages (from tensorflow<2.15,>=2.14.0->tensorflow_text) (67.7.2)\n",
            "Requirement already satisfied: six>=1.12.0 in /usr/local/lib/python3.10/dist-packages (from tensorflow<2.15,>=2.14.0->tensorflow_text) (1.16.0)\n",
            "Requirement already satisfied: termcolor>=1.1.0 in /usr/local/lib/python3.10/dist-packages (from tensorflow<2.15,>=2.14.0->tensorflow_text) (2.3.0)\n",
            "Requirement already satisfied: typing-extensions>=3.6.6 in /usr/local/lib/python3.10/dist-packages (from tensorflow<2.15,>=2.14.0->tensorflow_text) (4.5.0)\n",
            "Requirement already satisfied: wrapt<1.15,>=1.11.0 in /usr/local/lib/python3.10/dist-packages (from tensorflow<2.15,>=2.14.0->tensorflow_text) (1.14.1)\n",
            "Requirement already satisfied: tensorflow-io-gcs-filesystem>=0.23.1 in /usr/local/lib/python3.10/dist-packages (from tensorflow<2.15,>=2.14.0->tensorflow_text) (0.34.0)\n",
            "Requirement already satisfied: grpcio<2.0,>=1.24.3 in /usr/local/lib/python3.10/dist-packages (from tensorflow<2.15,>=2.14.0->tensorflow_text) (1.59.0)\n",
            "Requirement already satisfied: tensorboard<2.15,>=2.14 in /usr/local/lib/python3.10/dist-packages (from tensorflow<2.15,>=2.14.0->tensorflow_text) (2.14.1)\n",
            "Requirement already satisfied: tensorflow-estimator<2.15,>=2.14.0 in /usr/local/lib/python3.10/dist-packages (from tensorflow<2.15,>=2.14.0->tensorflow_text) (2.14.0)\n",
            "Requirement already satisfied: keras<2.15,>=2.14.0 in /usr/local/lib/python3.10/dist-packages (from tensorflow<2.15,>=2.14.0->tensorflow_text) (2.14.0)\n",
            "Requirement already satisfied: wheel<1.0,>=0.23.0 in /usr/local/lib/python3.10/dist-packages (from astunparse>=1.6.0->tensorflow<2.15,>=2.14.0->tensorflow_text) (0.41.2)\n",
            "Requirement already satisfied: google-auth<3,>=1.6.3 in /usr/local/lib/python3.10/dist-packages (from tensorboard<2.15,>=2.14->tensorflow<2.15,>=2.14.0->tensorflow_text) (2.17.3)\n",
            "Requirement already satisfied: google-auth-oauthlib<1.1,>=0.5 in /usr/local/lib/python3.10/dist-packages (from tensorboard<2.15,>=2.14->tensorflow<2.15,>=2.14.0->tensorflow_text) (1.0.0)\n",
            "Requirement already satisfied: markdown>=2.6.8 in /usr/local/lib/python3.10/dist-packages (from tensorboard<2.15,>=2.14->tensorflow<2.15,>=2.14.0->tensorflow_text) (3.5)\n",
            "Requirement already satisfied: requests<3,>=2.21.0 in /usr/local/lib/python3.10/dist-packages (from tensorboard<2.15,>=2.14->tensorflow<2.15,>=2.14.0->tensorflow_text) (2.31.0)\n",
            "Requirement already satisfied: tensorboard-data-server<0.8.0,>=0.7.0 in /usr/local/lib/python3.10/dist-packages (from tensorboard<2.15,>=2.14->tensorflow<2.15,>=2.14.0->tensorflow_text) (0.7.2)\n",
            "Requirement already satisfied: werkzeug>=1.0.1 in /usr/local/lib/python3.10/dist-packages (from tensorboard<2.15,>=2.14->tensorflow<2.15,>=2.14.0->tensorflow_text) (3.0.1)\n",
            "Requirement already satisfied: cachetools<6.0,>=2.0.0 in /usr/local/lib/python3.10/dist-packages (from google-auth<3,>=1.6.3->tensorboard<2.15,>=2.14->tensorflow<2.15,>=2.14.0->tensorflow_text) (5.3.2)\n",
            "Requirement already satisfied: pyasn1-modules>=0.2.1 in /usr/local/lib/python3.10/dist-packages (from google-auth<3,>=1.6.3->tensorboard<2.15,>=2.14->tensorflow<2.15,>=2.14.0->tensorflow_text) (0.3.0)\n",
            "Requirement already satisfied: rsa<5,>=3.1.4 in /usr/local/lib/python3.10/dist-packages (from google-auth<3,>=1.6.3->tensorboard<2.15,>=2.14->tensorflow<2.15,>=2.14.0->tensorflow_text) (4.9)\n",
            "Requirement already satisfied: requests-oauthlib>=0.7.0 in /usr/local/lib/python3.10/dist-packages (from google-auth-oauthlib<1.1,>=0.5->tensorboard<2.15,>=2.14->tensorflow<2.15,>=2.14.0->tensorflow_text) (1.3.1)\n",
            "Requirement already satisfied: charset-normalizer<4,>=2 in /usr/local/lib/python3.10/dist-packages (from requests<3,>=2.21.0->tensorboard<2.15,>=2.14->tensorflow<2.15,>=2.14.0->tensorflow_text) (3.3.1)\n",
            "Requirement already satisfied: idna<4,>=2.5 in /usr/local/lib/python3.10/dist-packages (from requests<3,>=2.21.0->tensorboard<2.15,>=2.14->tensorflow<2.15,>=2.14.0->tensorflow_text) (3.4)\n",
            "Requirement already satisfied: urllib3<3,>=1.21.1 in /usr/local/lib/python3.10/dist-packages (from requests<3,>=2.21.0->tensorboard<2.15,>=2.14->tensorflow<2.15,>=2.14.0->tensorflow_text) (2.0.7)\n",
            "Requirement already satisfied: certifi>=2017.4.17 in /usr/local/lib/python3.10/dist-packages (from requests<3,>=2.21.0->tensorboard<2.15,>=2.14->tensorflow<2.15,>=2.14.0->tensorflow_text) (2023.7.22)\n",
            "Requirement already satisfied: MarkupSafe>=2.1.1 in /usr/local/lib/python3.10/dist-packages (from werkzeug>=1.0.1->tensorboard<2.15,>=2.14->tensorflow<2.15,>=2.14.0->tensorflow_text) (2.1.3)\n",
            "Requirement already satisfied: pyasn1<0.6.0,>=0.4.6 in /usr/local/lib/python3.10/dist-packages (from pyasn1-modules>=0.2.1->google-auth<3,>=1.6.3->tensorboard<2.15,>=2.14->tensorflow<2.15,>=2.14.0->tensorflow_text) (0.5.0)\n",
            "Requirement already satisfied: oauthlib>=3.0.0 in /usr/local/lib/python3.10/dist-packages (from requests-oauthlib>=0.7.0->google-auth-oauthlib<1.1,>=0.5->tensorboard<2.15,>=2.14->tensorflow<2.15,>=2.14.0->tensorflow_text) (3.2.2)\n"
          ]
        }
      ]
    },
    {
      "cell_type": "markdown",
      "source": [
        "## Reading the dataset\n",
        "### Author: CJM"
      ],
      "metadata": {
        "id": "25Ilol9cDDJG"
      }
    },
    {
      "cell_type": "code",
      "source": [
        "# df=pd.read_csv('/kaggle/input/sms-spam-collection-dataset/spam.csv', encoding = \"ISO-8859-1\")\n",
        "df=pd.read_csv('/subset_emails.csv', encoding = \"ISO-8859-1\")\n",
        "df.head(5)"
      ],
      "metadata": {
        "execution": {
          "iopub.status.busy": "2023-10-30T00:39:04.518792Z",
          "iopub.execute_input": "2023-10-30T00:39:04.519131Z",
          "iopub.status.idle": "2023-10-30T00:39:04.707562Z",
          "shell.execute_reply.started": "2023-10-30T00:39:04.519101Z",
          "shell.execute_reply": "2023-10-30T00:39:04.706726Z"
        },
        "trusted": true,
        "colab": {
          "base_uri": "https://localhost:8080/",
          "height": 206
        },
        "id": "yrjd9xjmDDJH",
        "outputId": "e29efa6d-8537-4235-a6a7-866f75ddabb1"
      },
      "execution_count": null,
      "outputs": [
        {
          "output_type": "execute_result",
          "data": {
            "text/plain": [
              "                                                text  spam\n",
              "0  Subject: grab this quick triple at its low  ho...     1\n",
              "1  Subject: yyyy , do you know the hgh difference...     1\n",
              "2  Subject: make big money with foreclosed real e...     1\n",
              "3  Subject: are you ready to get it ?  hello !  v...     1\n",
              "4  Subject: letter from : daniel kabila  letter f...     1"
            ],
            "text/html": [
              "\n",
              "  <div id=\"df-b869ad69-b410-44b9-b22a-179f51febd89\" class=\"colab-df-container\">\n",
              "    <div>\n",
              "<style scoped>\n",
              "    .dataframe tbody tr th:only-of-type {\n",
              "        vertical-align: middle;\n",
              "    }\n",
              "\n",
              "    .dataframe tbody tr th {\n",
              "        vertical-align: top;\n",
              "    }\n",
              "\n",
              "    .dataframe thead th {\n",
              "        text-align: right;\n",
              "    }\n",
              "</style>\n",
              "<table border=\"1\" class=\"dataframe\">\n",
              "  <thead>\n",
              "    <tr style=\"text-align: right;\">\n",
              "      <th></th>\n",
              "      <th>text</th>\n",
              "      <th>spam</th>\n",
              "    </tr>\n",
              "  </thead>\n",
              "  <tbody>\n",
              "    <tr>\n",
              "      <th>0</th>\n",
              "      <td>Subject: grab this quick triple at its low  ho...</td>\n",
              "      <td>1</td>\n",
              "    </tr>\n",
              "    <tr>\n",
              "      <th>1</th>\n",
              "      <td>Subject: yyyy , do you know the hgh difference...</td>\n",
              "      <td>1</td>\n",
              "    </tr>\n",
              "    <tr>\n",
              "      <th>2</th>\n",
              "      <td>Subject: make big money with foreclosed real e...</td>\n",
              "      <td>1</td>\n",
              "    </tr>\n",
              "    <tr>\n",
              "      <th>3</th>\n",
              "      <td>Subject: are you ready to get it ?  hello !  v...</td>\n",
              "      <td>1</td>\n",
              "    </tr>\n",
              "    <tr>\n",
              "      <th>4</th>\n",
              "      <td>Subject: letter from : daniel kabila  letter f...</td>\n",
              "      <td>1</td>\n",
              "    </tr>\n",
              "  </tbody>\n",
              "</table>\n",
              "</div>\n",
              "    <div class=\"colab-df-buttons\">\n",
              "\n",
              "  <div class=\"colab-df-container\">\n",
              "    <button class=\"colab-df-convert\" onclick=\"convertToInteractive('df-b869ad69-b410-44b9-b22a-179f51febd89')\"\n",
              "            title=\"Convert this dataframe to an interactive table.\"\n",
              "            style=\"display:none;\">\n",
              "\n",
              "  <svg xmlns=\"http://www.w3.org/2000/svg\" height=\"24px\" viewBox=\"0 -960 960 960\">\n",
              "    <path d=\"M120-120v-720h720v720H120Zm60-500h600v-160H180v160Zm220 220h160v-160H400v160Zm0 220h160v-160H400v160ZM180-400h160v-160H180v160Zm440 0h160v-160H620v160ZM180-180h160v-160H180v160Zm440 0h160v-160H620v160Z\"/>\n",
              "  </svg>\n",
              "    </button>\n",
              "\n",
              "  <style>\n",
              "    .colab-df-container {\n",
              "      display:flex;\n",
              "      gap: 12px;\n",
              "    }\n",
              "\n",
              "    .colab-df-convert {\n",
              "      background-color: #E8F0FE;\n",
              "      border: none;\n",
              "      border-radius: 50%;\n",
              "      cursor: pointer;\n",
              "      display: none;\n",
              "      fill: #1967D2;\n",
              "      height: 32px;\n",
              "      padding: 0 0 0 0;\n",
              "      width: 32px;\n",
              "    }\n",
              "\n",
              "    .colab-df-convert:hover {\n",
              "      background-color: #E2EBFA;\n",
              "      box-shadow: 0px 1px 2px rgba(60, 64, 67, 0.3), 0px 1px 3px 1px rgba(60, 64, 67, 0.15);\n",
              "      fill: #174EA6;\n",
              "    }\n",
              "\n",
              "    .colab-df-buttons div {\n",
              "      margin-bottom: 4px;\n",
              "    }\n",
              "\n",
              "    [theme=dark] .colab-df-convert {\n",
              "      background-color: #3B4455;\n",
              "      fill: #D2E3FC;\n",
              "    }\n",
              "\n",
              "    [theme=dark] .colab-df-convert:hover {\n",
              "      background-color: #434B5C;\n",
              "      box-shadow: 0px 1px 3px 1px rgba(0, 0, 0, 0.15);\n",
              "      filter: drop-shadow(0px 1px 2px rgba(0, 0, 0, 0.3));\n",
              "      fill: #FFFFFF;\n",
              "    }\n",
              "  </style>\n",
              "\n",
              "    <script>\n",
              "      const buttonEl =\n",
              "        document.querySelector('#df-b869ad69-b410-44b9-b22a-179f51febd89 button.colab-df-convert');\n",
              "      buttonEl.style.display =\n",
              "        google.colab.kernel.accessAllowed ? 'block' : 'none';\n",
              "\n",
              "      async function convertToInteractive(key) {\n",
              "        const element = document.querySelector('#df-b869ad69-b410-44b9-b22a-179f51febd89');\n",
              "        const dataTable =\n",
              "          await google.colab.kernel.invokeFunction('convertToInteractive',\n",
              "                                                    [key], {});\n",
              "        if (!dataTable) return;\n",
              "\n",
              "        const docLinkHtml = 'Like what you see? Visit the ' +\n",
              "          '<a target=\"_blank\" href=https://colab.research.google.com/notebooks/data_table.ipynb>data table notebook</a>'\n",
              "          + ' to learn more about interactive tables.';\n",
              "        element.innerHTML = '';\n",
              "        dataTable['output_type'] = 'display_data';\n",
              "        await google.colab.output.renderOutput(dataTable, element);\n",
              "        const docLink = document.createElement('div');\n",
              "        docLink.innerHTML = docLinkHtml;\n",
              "        element.appendChild(docLink);\n",
              "      }\n",
              "    </script>\n",
              "  </div>\n",
              "\n",
              "\n",
              "<div id=\"df-8b3560f3-57c3-4e32-b1e0-647e31033898\">\n",
              "  <button class=\"colab-df-quickchart\" onclick=\"quickchart('df-8b3560f3-57c3-4e32-b1e0-647e31033898')\"\n",
              "            title=\"Suggest charts.\"\n",
              "            style=\"display:none;\">\n",
              "\n",
              "<svg xmlns=\"http://www.w3.org/2000/svg\" height=\"24px\"viewBox=\"0 0 24 24\"\n",
              "     width=\"24px\">\n",
              "    <g>\n",
              "        <path d=\"M19 3H5c-1.1 0-2 .9-2 2v14c0 1.1.9 2 2 2h14c1.1 0 2-.9 2-2V5c0-1.1-.9-2-2-2zM9 17H7v-7h2v7zm4 0h-2V7h2v10zm4 0h-2v-4h2v4z\"/>\n",
              "    </g>\n",
              "</svg>\n",
              "  </button>\n",
              "\n",
              "<style>\n",
              "  .colab-df-quickchart {\n",
              "      --bg-color: #E8F0FE;\n",
              "      --fill-color: #1967D2;\n",
              "      --hover-bg-color: #E2EBFA;\n",
              "      --hover-fill-color: #174EA6;\n",
              "      --disabled-fill-color: #AAA;\n",
              "      --disabled-bg-color: #DDD;\n",
              "  }\n",
              "\n",
              "  [theme=dark] .colab-df-quickchart {\n",
              "      --bg-color: #3B4455;\n",
              "      --fill-color: #D2E3FC;\n",
              "      --hover-bg-color: #434B5C;\n",
              "      --hover-fill-color: #FFFFFF;\n",
              "      --disabled-bg-color: #3B4455;\n",
              "      --disabled-fill-color: #666;\n",
              "  }\n",
              "\n",
              "  .colab-df-quickchart {\n",
              "    background-color: var(--bg-color);\n",
              "    border: none;\n",
              "    border-radius: 50%;\n",
              "    cursor: pointer;\n",
              "    display: none;\n",
              "    fill: var(--fill-color);\n",
              "    height: 32px;\n",
              "    padding: 0;\n",
              "    width: 32px;\n",
              "  }\n",
              "\n",
              "  .colab-df-quickchart:hover {\n",
              "    background-color: var(--hover-bg-color);\n",
              "    box-shadow: 0 1px 2px rgba(60, 64, 67, 0.3), 0 1px 3px 1px rgba(60, 64, 67, 0.15);\n",
              "    fill: var(--button-hover-fill-color);\n",
              "  }\n",
              "\n",
              "  .colab-df-quickchart-complete:disabled,\n",
              "  .colab-df-quickchart-complete:disabled:hover {\n",
              "    background-color: var(--disabled-bg-color);\n",
              "    fill: var(--disabled-fill-color);\n",
              "    box-shadow: none;\n",
              "  }\n",
              "\n",
              "  .colab-df-spinner {\n",
              "    border: 2px solid var(--fill-color);\n",
              "    border-color: transparent;\n",
              "    border-bottom-color: var(--fill-color);\n",
              "    animation:\n",
              "      spin 1s steps(1) infinite;\n",
              "  }\n",
              "\n",
              "  @keyframes spin {\n",
              "    0% {\n",
              "      border-color: transparent;\n",
              "      border-bottom-color: var(--fill-color);\n",
              "      border-left-color: var(--fill-color);\n",
              "    }\n",
              "    20% {\n",
              "      border-color: transparent;\n",
              "      border-left-color: var(--fill-color);\n",
              "      border-top-color: var(--fill-color);\n",
              "    }\n",
              "    30% {\n",
              "      border-color: transparent;\n",
              "      border-left-color: var(--fill-color);\n",
              "      border-top-color: var(--fill-color);\n",
              "      border-right-color: var(--fill-color);\n",
              "    }\n",
              "    40% {\n",
              "      border-color: transparent;\n",
              "      border-right-color: var(--fill-color);\n",
              "      border-top-color: var(--fill-color);\n",
              "    }\n",
              "    60% {\n",
              "      border-color: transparent;\n",
              "      border-right-color: var(--fill-color);\n",
              "    }\n",
              "    80% {\n",
              "      border-color: transparent;\n",
              "      border-right-color: var(--fill-color);\n",
              "      border-bottom-color: var(--fill-color);\n",
              "    }\n",
              "    90% {\n",
              "      border-color: transparent;\n",
              "      border-bottom-color: var(--fill-color);\n",
              "    }\n",
              "  }\n",
              "</style>\n",
              "\n",
              "  <script>\n",
              "    async function quickchart(key) {\n",
              "      const quickchartButtonEl =\n",
              "        document.querySelector('#' + key + ' button');\n",
              "      quickchartButtonEl.disabled = true;  // To prevent multiple clicks.\n",
              "      quickchartButtonEl.classList.add('colab-df-spinner');\n",
              "      try {\n",
              "        const charts = await google.colab.kernel.invokeFunction(\n",
              "            'suggestCharts', [key], {});\n",
              "      } catch (error) {\n",
              "        console.error('Error during call to suggestCharts:', error);\n",
              "      }\n",
              "      quickchartButtonEl.classList.remove('colab-df-spinner');\n",
              "      quickchartButtonEl.classList.add('colab-df-quickchart-complete');\n",
              "    }\n",
              "    (() => {\n",
              "      let quickchartButtonEl =\n",
              "        document.querySelector('#df-8b3560f3-57c3-4e32-b1e0-647e31033898 button');\n",
              "      quickchartButtonEl.style.display =\n",
              "        google.colab.kernel.accessAllowed ? 'block' : 'none';\n",
              "    })();\n",
              "  </script>\n",
              "</div>\n",
              "    </div>\n",
              "  </div>\n"
            ]
          },
          "metadata": {},
          "execution_count": 138
        }
      ]
    },
    {
      "cell_type": "markdown",
      "source": [
        "## Drop the unnecessary columns-'Unnamed: 2', 'Unnamed: 3', 'Unnamed: 4'\n",
        "### Author: CJM"
      ],
      "metadata": {
        "id": "3-a-6Eh_DDJH"
      }
    },
    {
      "cell_type": "code",
      "source": [
        "df.columns"
      ],
      "metadata": {
        "execution": {
          "iopub.status.busy": "2023-10-30T00:39:04.709384Z",
          "iopub.execute_input": "2023-10-30T00:39:04.709903Z",
          "iopub.status.idle": "2023-10-30T00:39:04.717682Z",
          "shell.execute_reply.started": "2023-10-30T00:39:04.709873Z",
          "shell.execute_reply": "2023-10-30T00:39:04.716204Z"
        },
        "trusted": true,
        "colab": {
          "base_uri": "https://localhost:8080/"
        },
        "id": "cSIQ6ORSDDJH",
        "outputId": "044b4d6b-4127-4018-c91f-58dc70164491"
      },
      "execution_count": null,
      "outputs": [
        {
          "output_type": "execute_result",
          "data": {
            "text/plain": [
              "Index(['text', 'spam'], dtype='object')"
            ]
          },
          "metadata": {},
          "execution_count": 139
        }
      ]
    },
    {
      "cell_type": "code",
      "source": [
        "# df.drop(columns=['Unnamed: 2', 'Unnamed: 3', 'Unnamed: 4'],inplace=True)\n",
        "df = df.iloc[:, :2]\n",
        "df.rename(columns = {'text':'Content', 'spam':'Category'}, inplace = True)\n",
        "# df['Category'] = df['Category'].apply(lambda x: 'ham' if x == 0 else 'spam')\n",
        "# df['Category'] = df['Category'].replace({0: 'ham', 1: 'spam'})\n",
        "# df['Category'] = df['Category'].replace({'0': 'ham', '1': 'spam'})\n",
        "df['Category'] = df['Category'].replace([1], 'spam')\n",
        "df['Category'] = df['Category'].replace([0], 'ham')\n",
        "df.tail(5)"
      ],
      "metadata": {
        "execution": {
          "iopub.status.busy": "2023-10-30T00:39:04.719511Z",
          "iopub.execute_input": "2023-10-30T00:39:04.719872Z",
          "iopub.status.idle": "2023-10-30T00:39:04.743517Z",
          "shell.execute_reply.started": "2023-10-30T00:39:04.719843Z",
          "shell.execute_reply": "2023-10-30T00:39:04.742002Z"
        },
        "trusted": true,
        "colab": {
          "base_uri": "https://localhost:8080/",
          "height": 206
        },
        "id": "3feLv_edDDJI",
        "outputId": "f0faa5cc-3dd7-4468-cfe4-45440f4da651"
      },
      "execution_count": null,
      "outputs": [
        {
          "output_type": "execute_result",
          "data": {
            "text/plain": [
              "                                                Content Category\n",
              "5670  Subject: re : research and development charges...      ham\n",
              "5671  Subject: re : receipts from visit  jim ,  than...      ham\n",
              "5672  Subject: re : enron case study update  wow ! a...      ham\n",
              "5673  Subject: re : interest  david ,  please , call...      ham\n",
              "5674  Subject: news : aurora 5 . 2 update  aurora ve...      ham"
            ],
            "text/html": [
              "\n",
              "  <div id=\"df-6c4dd320-9a78-487e-aaff-08f01c88e98c\" class=\"colab-df-container\">\n",
              "    <div>\n",
              "<style scoped>\n",
              "    .dataframe tbody tr th:only-of-type {\n",
              "        vertical-align: middle;\n",
              "    }\n",
              "\n",
              "    .dataframe tbody tr th {\n",
              "        vertical-align: top;\n",
              "    }\n",
              "\n",
              "    .dataframe thead th {\n",
              "        text-align: right;\n",
              "    }\n",
              "</style>\n",
              "<table border=\"1\" class=\"dataframe\">\n",
              "  <thead>\n",
              "    <tr style=\"text-align: right;\">\n",
              "      <th></th>\n",
              "      <th>Content</th>\n",
              "      <th>Category</th>\n",
              "    </tr>\n",
              "  </thead>\n",
              "  <tbody>\n",
              "    <tr>\n",
              "      <th>5670</th>\n",
              "      <td>Subject: re : research and development charges...</td>\n",
              "      <td>ham</td>\n",
              "    </tr>\n",
              "    <tr>\n",
              "      <th>5671</th>\n",
              "      <td>Subject: re : receipts from visit  jim ,  than...</td>\n",
              "      <td>ham</td>\n",
              "    </tr>\n",
              "    <tr>\n",
              "      <th>5672</th>\n",
              "      <td>Subject: re : enron case study update  wow ! a...</td>\n",
              "      <td>ham</td>\n",
              "    </tr>\n",
              "    <tr>\n",
              "      <th>5673</th>\n",
              "      <td>Subject: re : interest  david ,  please , call...</td>\n",
              "      <td>ham</td>\n",
              "    </tr>\n",
              "    <tr>\n",
              "      <th>5674</th>\n",
              "      <td>Subject: news : aurora 5 . 2 update  aurora ve...</td>\n",
              "      <td>ham</td>\n",
              "    </tr>\n",
              "  </tbody>\n",
              "</table>\n",
              "</div>\n",
              "    <div class=\"colab-df-buttons\">\n",
              "\n",
              "  <div class=\"colab-df-container\">\n",
              "    <button class=\"colab-df-convert\" onclick=\"convertToInteractive('df-6c4dd320-9a78-487e-aaff-08f01c88e98c')\"\n",
              "            title=\"Convert this dataframe to an interactive table.\"\n",
              "            style=\"display:none;\">\n",
              "\n",
              "  <svg xmlns=\"http://www.w3.org/2000/svg\" height=\"24px\" viewBox=\"0 -960 960 960\">\n",
              "    <path d=\"M120-120v-720h720v720H120Zm60-500h600v-160H180v160Zm220 220h160v-160H400v160Zm0 220h160v-160H400v160ZM180-400h160v-160H180v160Zm440 0h160v-160H620v160ZM180-180h160v-160H180v160Zm440 0h160v-160H620v160Z\"/>\n",
              "  </svg>\n",
              "    </button>\n",
              "\n",
              "  <style>\n",
              "    .colab-df-container {\n",
              "      display:flex;\n",
              "      gap: 12px;\n",
              "    }\n",
              "\n",
              "    .colab-df-convert {\n",
              "      background-color: #E8F0FE;\n",
              "      border: none;\n",
              "      border-radius: 50%;\n",
              "      cursor: pointer;\n",
              "      display: none;\n",
              "      fill: #1967D2;\n",
              "      height: 32px;\n",
              "      padding: 0 0 0 0;\n",
              "      width: 32px;\n",
              "    }\n",
              "\n",
              "    .colab-df-convert:hover {\n",
              "      background-color: #E2EBFA;\n",
              "      box-shadow: 0px 1px 2px rgba(60, 64, 67, 0.3), 0px 1px 3px 1px rgba(60, 64, 67, 0.15);\n",
              "      fill: #174EA6;\n",
              "    }\n",
              "\n",
              "    .colab-df-buttons div {\n",
              "      margin-bottom: 4px;\n",
              "    }\n",
              "\n",
              "    [theme=dark] .colab-df-convert {\n",
              "      background-color: #3B4455;\n",
              "      fill: #D2E3FC;\n",
              "    }\n",
              "\n",
              "    [theme=dark] .colab-df-convert:hover {\n",
              "      background-color: #434B5C;\n",
              "      box-shadow: 0px 1px 3px 1px rgba(0, 0, 0, 0.15);\n",
              "      filter: drop-shadow(0px 1px 2px rgba(0, 0, 0, 0.3));\n",
              "      fill: #FFFFFF;\n",
              "    }\n",
              "  </style>\n",
              "\n",
              "    <script>\n",
              "      const buttonEl =\n",
              "        document.querySelector('#df-6c4dd320-9a78-487e-aaff-08f01c88e98c button.colab-df-convert');\n",
              "      buttonEl.style.display =\n",
              "        google.colab.kernel.accessAllowed ? 'block' : 'none';\n",
              "\n",
              "      async function convertToInteractive(key) {\n",
              "        const element = document.querySelector('#df-6c4dd320-9a78-487e-aaff-08f01c88e98c');\n",
              "        const dataTable =\n",
              "          await google.colab.kernel.invokeFunction('convertToInteractive',\n",
              "                                                    [key], {});\n",
              "        if (!dataTable) return;\n",
              "\n",
              "        const docLinkHtml = 'Like what you see? Visit the ' +\n",
              "          '<a target=\"_blank\" href=https://colab.research.google.com/notebooks/data_table.ipynb>data table notebook</a>'\n",
              "          + ' to learn more about interactive tables.';\n",
              "        element.innerHTML = '';\n",
              "        dataTable['output_type'] = 'display_data';\n",
              "        await google.colab.output.renderOutput(dataTable, element);\n",
              "        const docLink = document.createElement('div');\n",
              "        docLink.innerHTML = docLinkHtml;\n",
              "        element.appendChild(docLink);\n",
              "      }\n",
              "    </script>\n",
              "  </div>\n",
              "\n",
              "\n",
              "<div id=\"df-b054b66d-1e1b-4cdf-8a7d-f6b53bd96865\">\n",
              "  <button class=\"colab-df-quickchart\" onclick=\"quickchart('df-b054b66d-1e1b-4cdf-8a7d-f6b53bd96865')\"\n",
              "            title=\"Suggest charts.\"\n",
              "            style=\"display:none;\">\n",
              "\n",
              "<svg xmlns=\"http://www.w3.org/2000/svg\" height=\"24px\"viewBox=\"0 0 24 24\"\n",
              "     width=\"24px\">\n",
              "    <g>\n",
              "        <path d=\"M19 3H5c-1.1 0-2 .9-2 2v14c0 1.1.9 2 2 2h14c1.1 0 2-.9 2-2V5c0-1.1-.9-2-2-2zM9 17H7v-7h2v7zm4 0h-2V7h2v10zm4 0h-2v-4h2v4z\"/>\n",
              "    </g>\n",
              "</svg>\n",
              "  </button>\n",
              "\n",
              "<style>\n",
              "  .colab-df-quickchart {\n",
              "      --bg-color: #E8F0FE;\n",
              "      --fill-color: #1967D2;\n",
              "      --hover-bg-color: #E2EBFA;\n",
              "      --hover-fill-color: #174EA6;\n",
              "      --disabled-fill-color: #AAA;\n",
              "      --disabled-bg-color: #DDD;\n",
              "  }\n",
              "\n",
              "  [theme=dark] .colab-df-quickchart {\n",
              "      --bg-color: #3B4455;\n",
              "      --fill-color: #D2E3FC;\n",
              "      --hover-bg-color: #434B5C;\n",
              "      --hover-fill-color: #FFFFFF;\n",
              "      --disabled-bg-color: #3B4455;\n",
              "      --disabled-fill-color: #666;\n",
              "  }\n",
              "\n",
              "  .colab-df-quickchart {\n",
              "    background-color: var(--bg-color);\n",
              "    border: none;\n",
              "    border-radius: 50%;\n",
              "    cursor: pointer;\n",
              "    display: none;\n",
              "    fill: var(--fill-color);\n",
              "    height: 32px;\n",
              "    padding: 0;\n",
              "    width: 32px;\n",
              "  }\n",
              "\n",
              "  .colab-df-quickchart:hover {\n",
              "    background-color: var(--hover-bg-color);\n",
              "    box-shadow: 0 1px 2px rgba(60, 64, 67, 0.3), 0 1px 3px 1px rgba(60, 64, 67, 0.15);\n",
              "    fill: var(--button-hover-fill-color);\n",
              "  }\n",
              "\n",
              "  .colab-df-quickchart-complete:disabled,\n",
              "  .colab-df-quickchart-complete:disabled:hover {\n",
              "    background-color: var(--disabled-bg-color);\n",
              "    fill: var(--disabled-fill-color);\n",
              "    box-shadow: none;\n",
              "  }\n",
              "\n",
              "  .colab-df-spinner {\n",
              "    border: 2px solid var(--fill-color);\n",
              "    border-color: transparent;\n",
              "    border-bottom-color: var(--fill-color);\n",
              "    animation:\n",
              "      spin 1s steps(1) infinite;\n",
              "  }\n",
              "\n",
              "  @keyframes spin {\n",
              "    0% {\n",
              "      border-color: transparent;\n",
              "      border-bottom-color: var(--fill-color);\n",
              "      border-left-color: var(--fill-color);\n",
              "    }\n",
              "    20% {\n",
              "      border-color: transparent;\n",
              "      border-left-color: var(--fill-color);\n",
              "      border-top-color: var(--fill-color);\n",
              "    }\n",
              "    30% {\n",
              "      border-color: transparent;\n",
              "      border-left-color: var(--fill-color);\n",
              "      border-top-color: var(--fill-color);\n",
              "      border-right-color: var(--fill-color);\n",
              "    }\n",
              "    40% {\n",
              "      border-color: transparent;\n",
              "      border-right-color: var(--fill-color);\n",
              "      border-top-color: var(--fill-color);\n",
              "    }\n",
              "    60% {\n",
              "      border-color: transparent;\n",
              "      border-right-color: var(--fill-color);\n",
              "    }\n",
              "    80% {\n",
              "      border-color: transparent;\n",
              "      border-right-color: var(--fill-color);\n",
              "      border-bottom-color: var(--fill-color);\n",
              "    }\n",
              "    90% {\n",
              "      border-color: transparent;\n",
              "      border-bottom-color: var(--fill-color);\n",
              "    }\n",
              "  }\n",
              "</style>\n",
              "\n",
              "  <script>\n",
              "    async function quickchart(key) {\n",
              "      const quickchartButtonEl =\n",
              "        document.querySelector('#' + key + ' button');\n",
              "      quickchartButtonEl.disabled = true;  // To prevent multiple clicks.\n",
              "      quickchartButtonEl.classList.add('colab-df-spinner');\n",
              "      try {\n",
              "        const charts = await google.colab.kernel.invokeFunction(\n",
              "            'suggestCharts', [key], {});\n",
              "      } catch (error) {\n",
              "        console.error('Error during call to suggestCharts:', error);\n",
              "      }\n",
              "      quickchartButtonEl.classList.remove('colab-df-spinner');\n",
              "      quickchartButtonEl.classList.add('colab-df-quickchart-complete');\n",
              "    }\n",
              "    (() => {\n",
              "      let quickchartButtonEl =\n",
              "        document.querySelector('#df-b054b66d-1e1b-4cdf-8a7d-f6b53bd96865 button');\n",
              "      quickchartButtonEl.style.display =\n",
              "        google.colab.kernel.accessAllowed ? 'block' : 'none';\n",
              "    })();\n",
              "  </script>\n",
              "</div>\n",
              "    </div>\n",
              "  </div>\n"
            ]
          },
          "metadata": {},
          "execution_count": 152
        }
      ]
    },
    {
      "cell_type": "code",
      "source": [
        "df.head(5)"
      ],
      "metadata": {
        "colab": {
          "base_uri": "https://localhost:8080/",
          "height": 206
        },
        "id": "KXfLsCyCgEwo",
        "outputId": "1839b57a-fd57-4a04-902b-94a61547e907"
      },
      "execution_count": null,
      "outputs": [
        {
          "output_type": "execute_result",
          "data": {
            "text/plain": [
              "                                             Content Category\n",
              "0  Subject: grab this quick triple at its low  ho...     spam\n",
              "1  Subject: yyyy , do you know the hgh difference...     spam\n",
              "2  Subject: make big money with foreclosed real e...     spam\n",
              "3  Subject: are you ready to get it ?  hello !  v...     spam\n",
              "4  Subject: letter from : daniel kabila  letter f...     spam"
            ],
            "text/html": [
              "\n",
              "  <div id=\"df-d2f6d4d8-8cb5-4ee8-abea-830274a02fcd\" class=\"colab-df-container\">\n",
              "    <div>\n",
              "<style scoped>\n",
              "    .dataframe tbody tr th:only-of-type {\n",
              "        vertical-align: middle;\n",
              "    }\n",
              "\n",
              "    .dataframe tbody tr th {\n",
              "        vertical-align: top;\n",
              "    }\n",
              "\n",
              "    .dataframe thead th {\n",
              "        text-align: right;\n",
              "    }\n",
              "</style>\n",
              "<table border=\"1\" class=\"dataframe\">\n",
              "  <thead>\n",
              "    <tr style=\"text-align: right;\">\n",
              "      <th></th>\n",
              "      <th>Content</th>\n",
              "      <th>Category</th>\n",
              "    </tr>\n",
              "  </thead>\n",
              "  <tbody>\n",
              "    <tr>\n",
              "      <th>0</th>\n",
              "      <td>Subject: grab this quick triple at its low  ho...</td>\n",
              "      <td>spam</td>\n",
              "    </tr>\n",
              "    <tr>\n",
              "      <th>1</th>\n",
              "      <td>Subject: yyyy , do you know the hgh difference...</td>\n",
              "      <td>spam</td>\n",
              "    </tr>\n",
              "    <tr>\n",
              "      <th>2</th>\n",
              "      <td>Subject: make big money with foreclosed real e...</td>\n",
              "      <td>spam</td>\n",
              "    </tr>\n",
              "    <tr>\n",
              "      <th>3</th>\n",
              "      <td>Subject: are you ready to get it ?  hello !  v...</td>\n",
              "      <td>spam</td>\n",
              "    </tr>\n",
              "    <tr>\n",
              "      <th>4</th>\n",
              "      <td>Subject: letter from : daniel kabila  letter f...</td>\n",
              "      <td>spam</td>\n",
              "    </tr>\n",
              "  </tbody>\n",
              "</table>\n",
              "</div>\n",
              "    <div class=\"colab-df-buttons\">\n",
              "\n",
              "  <div class=\"colab-df-container\">\n",
              "    <button class=\"colab-df-convert\" onclick=\"convertToInteractive('df-d2f6d4d8-8cb5-4ee8-abea-830274a02fcd')\"\n",
              "            title=\"Convert this dataframe to an interactive table.\"\n",
              "            style=\"display:none;\">\n",
              "\n",
              "  <svg xmlns=\"http://www.w3.org/2000/svg\" height=\"24px\" viewBox=\"0 -960 960 960\">\n",
              "    <path d=\"M120-120v-720h720v720H120Zm60-500h600v-160H180v160Zm220 220h160v-160H400v160Zm0 220h160v-160H400v160ZM180-400h160v-160H180v160Zm440 0h160v-160H620v160ZM180-180h160v-160H180v160Zm440 0h160v-160H620v160Z\"/>\n",
              "  </svg>\n",
              "    </button>\n",
              "\n",
              "  <style>\n",
              "    .colab-df-container {\n",
              "      display:flex;\n",
              "      gap: 12px;\n",
              "    }\n",
              "\n",
              "    .colab-df-convert {\n",
              "      background-color: #E8F0FE;\n",
              "      border: none;\n",
              "      border-radius: 50%;\n",
              "      cursor: pointer;\n",
              "      display: none;\n",
              "      fill: #1967D2;\n",
              "      height: 32px;\n",
              "      padding: 0 0 0 0;\n",
              "      width: 32px;\n",
              "    }\n",
              "\n",
              "    .colab-df-convert:hover {\n",
              "      background-color: #E2EBFA;\n",
              "      box-shadow: 0px 1px 2px rgba(60, 64, 67, 0.3), 0px 1px 3px 1px rgba(60, 64, 67, 0.15);\n",
              "      fill: #174EA6;\n",
              "    }\n",
              "\n",
              "    .colab-df-buttons div {\n",
              "      margin-bottom: 4px;\n",
              "    }\n",
              "\n",
              "    [theme=dark] .colab-df-convert {\n",
              "      background-color: #3B4455;\n",
              "      fill: #D2E3FC;\n",
              "    }\n",
              "\n",
              "    [theme=dark] .colab-df-convert:hover {\n",
              "      background-color: #434B5C;\n",
              "      box-shadow: 0px 1px 3px 1px rgba(0, 0, 0, 0.15);\n",
              "      filter: drop-shadow(0px 1px 2px rgba(0, 0, 0, 0.3));\n",
              "      fill: #FFFFFF;\n",
              "    }\n",
              "  </style>\n",
              "\n",
              "    <script>\n",
              "      const buttonEl =\n",
              "        document.querySelector('#df-d2f6d4d8-8cb5-4ee8-abea-830274a02fcd button.colab-df-convert');\n",
              "      buttonEl.style.display =\n",
              "        google.colab.kernel.accessAllowed ? 'block' : 'none';\n",
              "\n",
              "      async function convertToInteractive(key) {\n",
              "        const element = document.querySelector('#df-d2f6d4d8-8cb5-4ee8-abea-830274a02fcd');\n",
              "        const dataTable =\n",
              "          await google.colab.kernel.invokeFunction('convertToInteractive',\n",
              "                                                    [key], {});\n",
              "        if (!dataTable) return;\n",
              "\n",
              "        const docLinkHtml = 'Like what you see? Visit the ' +\n",
              "          '<a target=\"_blank\" href=https://colab.research.google.com/notebooks/data_table.ipynb>data table notebook</a>'\n",
              "          + ' to learn more about interactive tables.';\n",
              "        element.innerHTML = '';\n",
              "        dataTable['output_type'] = 'display_data';\n",
              "        await google.colab.output.renderOutput(dataTable, element);\n",
              "        const docLink = document.createElement('div');\n",
              "        docLink.innerHTML = docLinkHtml;\n",
              "        element.appendChild(docLink);\n",
              "      }\n",
              "    </script>\n",
              "  </div>\n",
              "\n",
              "\n",
              "<div id=\"df-ceb0d6f7-c695-41bf-b5a1-f42f46c2aeb1\">\n",
              "  <button class=\"colab-df-quickchart\" onclick=\"quickchart('df-ceb0d6f7-c695-41bf-b5a1-f42f46c2aeb1')\"\n",
              "            title=\"Suggest charts.\"\n",
              "            style=\"display:none;\">\n",
              "\n",
              "<svg xmlns=\"http://www.w3.org/2000/svg\" height=\"24px\"viewBox=\"0 0 24 24\"\n",
              "     width=\"24px\">\n",
              "    <g>\n",
              "        <path d=\"M19 3H5c-1.1 0-2 .9-2 2v14c0 1.1.9 2 2 2h14c1.1 0 2-.9 2-2V5c0-1.1-.9-2-2-2zM9 17H7v-7h2v7zm4 0h-2V7h2v10zm4 0h-2v-4h2v4z\"/>\n",
              "    </g>\n",
              "</svg>\n",
              "  </button>\n",
              "\n",
              "<style>\n",
              "  .colab-df-quickchart {\n",
              "      --bg-color: #E8F0FE;\n",
              "      --fill-color: #1967D2;\n",
              "      --hover-bg-color: #E2EBFA;\n",
              "      --hover-fill-color: #174EA6;\n",
              "      --disabled-fill-color: #AAA;\n",
              "      --disabled-bg-color: #DDD;\n",
              "  }\n",
              "\n",
              "  [theme=dark] .colab-df-quickchart {\n",
              "      --bg-color: #3B4455;\n",
              "      --fill-color: #D2E3FC;\n",
              "      --hover-bg-color: #434B5C;\n",
              "      --hover-fill-color: #FFFFFF;\n",
              "      --disabled-bg-color: #3B4455;\n",
              "      --disabled-fill-color: #666;\n",
              "  }\n",
              "\n",
              "  .colab-df-quickchart {\n",
              "    background-color: var(--bg-color);\n",
              "    border: none;\n",
              "    border-radius: 50%;\n",
              "    cursor: pointer;\n",
              "    display: none;\n",
              "    fill: var(--fill-color);\n",
              "    height: 32px;\n",
              "    padding: 0;\n",
              "    width: 32px;\n",
              "  }\n",
              "\n",
              "  .colab-df-quickchart:hover {\n",
              "    background-color: var(--hover-bg-color);\n",
              "    box-shadow: 0 1px 2px rgba(60, 64, 67, 0.3), 0 1px 3px 1px rgba(60, 64, 67, 0.15);\n",
              "    fill: var(--button-hover-fill-color);\n",
              "  }\n",
              "\n",
              "  .colab-df-quickchart-complete:disabled,\n",
              "  .colab-df-quickchart-complete:disabled:hover {\n",
              "    background-color: var(--disabled-bg-color);\n",
              "    fill: var(--disabled-fill-color);\n",
              "    box-shadow: none;\n",
              "  }\n",
              "\n",
              "  .colab-df-spinner {\n",
              "    border: 2px solid var(--fill-color);\n",
              "    border-color: transparent;\n",
              "    border-bottom-color: var(--fill-color);\n",
              "    animation:\n",
              "      spin 1s steps(1) infinite;\n",
              "  }\n",
              "\n",
              "  @keyframes spin {\n",
              "    0% {\n",
              "      border-color: transparent;\n",
              "      border-bottom-color: var(--fill-color);\n",
              "      border-left-color: var(--fill-color);\n",
              "    }\n",
              "    20% {\n",
              "      border-color: transparent;\n",
              "      border-left-color: var(--fill-color);\n",
              "      border-top-color: var(--fill-color);\n",
              "    }\n",
              "    30% {\n",
              "      border-color: transparent;\n",
              "      border-left-color: var(--fill-color);\n",
              "      border-top-color: var(--fill-color);\n",
              "      border-right-color: var(--fill-color);\n",
              "    }\n",
              "    40% {\n",
              "      border-color: transparent;\n",
              "      border-right-color: var(--fill-color);\n",
              "      border-top-color: var(--fill-color);\n",
              "    }\n",
              "    60% {\n",
              "      border-color: transparent;\n",
              "      border-right-color: var(--fill-color);\n",
              "    }\n",
              "    80% {\n",
              "      border-color: transparent;\n",
              "      border-right-color: var(--fill-color);\n",
              "      border-bottom-color: var(--fill-color);\n",
              "    }\n",
              "    90% {\n",
              "      border-color: transparent;\n",
              "      border-bottom-color: var(--fill-color);\n",
              "    }\n",
              "  }\n",
              "</style>\n",
              "\n",
              "  <script>\n",
              "    async function quickchart(key) {\n",
              "      const quickchartButtonEl =\n",
              "        document.querySelector('#' + key + ' button');\n",
              "      quickchartButtonEl.disabled = true;  // To prevent multiple clicks.\n",
              "      quickchartButtonEl.classList.add('colab-df-spinner');\n",
              "      try {\n",
              "        const charts = await google.colab.kernel.invokeFunction(\n",
              "            'suggestCharts', [key], {});\n",
              "      } catch (error) {\n",
              "        console.error('Error during call to suggestCharts:', error);\n",
              "      }\n",
              "      quickchartButtonEl.classList.remove('colab-df-spinner');\n",
              "      quickchartButtonEl.classList.add('colab-df-quickchart-complete');\n",
              "    }\n",
              "    (() => {\n",
              "      let quickchartButtonEl =\n",
              "        document.querySelector('#df-ceb0d6f7-c695-41bf-b5a1-f42f46c2aeb1 button');\n",
              "      quickchartButtonEl.style.display =\n",
              "        google.colab.kernel.accessAllowed ? 'block' : 'none';\n",
              "    })();\n",
              "  </script>\n",
              "</div>\n",
              "    </div>\n",
              "  </div>\n"
            ]
          },
          "metadata": {},
          "execution_count": 153
        }
      ]
    },
    {
      "cell_type": "markdown",
      "source": [
        "## Understanding the dataset"
      ],
      "metadata": {
        "id": "_umLyxlwDDJI"
      }
    },
    {
      "cell_type": "code",
      "source": [
        "df.info()"
      ],
      "metadata": {
        "execution": {
          "iopub.status.busy": "2023-10-30T00:39:04.744867Z",
          "iopub.execute_input": "2023-10-30T00:39:04.745782Z",
          "iopub.status.idle": "2023-10-30T00:39:04.772087Z",
          "shell.execute_reply.started": "2023-10-30T00:39:04.745740Z",
          "shell.execute_reply": "2023-10-30T00:39:04.770835Z"
        },
        "trusted": true,
        "colab": {
          "base_uri": "https://localhost:8080/"
        },
        "id": "V5hOVajODDJI",
        "outputId": "1a706d15-134d-4275-fb3a-18b123f258f1"
      },
      "execution_count": null,
      "outputs": [
        {
          "output_type": "stream",
          "name": "stdout",
          "text": [
            "<class 'pandas.core.frame.DataFrame'>\n",
            "RangeIndex: 5675 entries, 0 to 5674\n",
            "Data columns (total 2 columns):\n",
            " #   Column    Non-Null Count  Dtype \n",
            "---  ------    --------------  ----- \n",
            " 0   Content   5675 non-null   object\n",
            " 1   Category  5675 non-null   object\n",
            "dtypes: object(2)\n",
            "memory usage: 88.8+ KB\n"
          ]
        }
      ]
    },
    {
      "cell_type": "code",
      "source": [
        "df.shape"
      ],
      "metadata": {
        "execution": {
          "iopub.status.busy": "2023-10-30T00:39:04.773494Z",
          "iopub.execute_input": "2023-10-30T00:39:04.774152Z",
          "iopub.status.idle": "2023-10-30T00:39:04.781901Z",
          "shell.execute_reply.started": "2023-10-30T00:39:04.774116Z",
          "shell.execute_reply": "2023-10-30T00:39:04.780422Z"
        },
        "trusted": true,
        "colab": {
          "base_uri": "https://localhost:8080/"
        },
        "id": "ZQOeiKE_DDJI",
        "outputId": "c4f4ea21-9c84-45f3-da38-c3e5138a3f20"
      },
      "execution_count": null,
      "outputs": [
        {
          "output_type": "execute_result",
          "data": {
            "text/plain": [
              "(5675, 2)"
            ]
          },
          "metadata": {},
          "execution_count": 155
        }
      ]
    },
    {
      "cell_type": "code",
      "source": [
        "df.groupby('Category').describe()"
      ],
      "metadata": {
        "execution": {
          "iopub.status.busy": "2023-10-30T00:39:04.783156Z",
          "iopub.execute_input": "2023-10-30T00:39:04.784400Z",
          "iopub.status.idle": "2023-10-30T00:39:04.825853Z",
          "shell.execute_reply.started": "2023-10-30T00:39:04.784353Z",
          "shell.execute_reply": "2023-10-30T00:39:04.824666Z"
        },
        "trusted": true,
        "colab": {
          "base_uri": "https://localhost:8080/",
          "height": 174
        },
        "id": "s0RQxoPcDDJJ",
        "outputId": "15e9534b-c27c-46de-d200-62d655173482"
      },
      "execution_count": null,
      "outputs": [
        {
          "output_type": "execute_result",
          "data": {
            "text/plain": [
              "         Content                                                            \\\n",
              "           count unique                                                top   \n",
              "Category                                                                     \n",
              "ham         4358   4325  Subject: re : eprm 2001 houston  layla ,  my a...   \n",
              "spam        1317   1317  Subject: grab this quick triple at its low  ho...   \n",
              "\n",
              "               \n",
              "         freq  \n",
              "Category       \n",
              "ham         2  \n",
              "spam        1  "
            ],
            "text/html": [
              "\n",
              "  <div id=\"df-e402a90b-4d12-4558-aa72-c07f67ad21f7\" class=\"colab-df-container\">\n",
              "    <div>\n",
              "<style scoped>\n",
              "    .dataframe tbody tr th:only-of-type {\n",
              "        vertical-align: middle;\n",
              "    }\n",
              "\n",
              "    .dataframe tbody tr th {\n",
              "        vertical-align: top;\n",
              "    }\n",
              "\n",
              "    .dataframe thead tr th {\n",
              "        text-align: left;\n",
              "    }\n",
              "\n",
              "    .dataframe thead tr:last-of-type th {\n",
              "        text-align: right;\n",
              "    }\n",
              "</style>\n",
              "<table border=\"1\" class=\"dataframe\">\n",
              "  <thead>\n",
              "    <tr>\n",
              "      <th></th>\n",
              "      <th colspan=\"4\" halign=\"left\">Content</th>\n",
              "    </tr>\n",
              "    <tr>\n",
              "      <th></th>\n",
              "      <th>count</th>\n",
              "      <th>unique</th>\n",
              "      <th>top</th>\n",
              "      <th>freq</th>\n",
              "    </tr>\n",
              "    <tr>\n",
              "      <th>Category</th>\n",
              "      <th></th>\n",
              "      <th></th>\n",
              "      <th></th>\n",
              "      <th></th>\n",
              "    </tr>\n",
              "  </thead>\n",
              "  <tbody>\n",
              "    <tr>\n",
              "      <th>ham</th>\n",
              "      <td>4358</td>\n",
              "      <td>4325</td>\n",
              "      <td>Subject: re : eprm 2001 houston  layla ,  my a...</td>\n",
              "      <td>2</td>\n",
              "    </tr>\n",
              "    <tr>\n",
              "      <th>spam</th>\n",
              "      <td>1317</td>\n",
              "      <td>1317</td>\n",
              "      <td>Subject: grab this quick triple at its low  ho...</td>\n",
              "      <td>1</td>\n",
              "    </tr>\n",
              "  </tbody>\n",
              "</table>\n",
              "</div>\n",
              "    <div class=\"colab-df-buttons\">\n",
              "\n",
              "  <div class=\"colab-df-container\">\n",
              "    <button class=\"colab-df-convert\" onclick=\"convertToInteractive('df-e402a90b-4d12-4558-aa72-c07f67ad21f7')\"\n",
              "            title=\"Convert this dataframe to an interactive table.\"\n",
              "            style=\"display:none;\">\n",
              "\n",
              "  <svg xmlns=\"http://www.w3.org/2000/svg\" height=\"24px\" viewBox=\"0 -960 960 960\">\n",
              "    <path d=\"M120-120v-720h720v720H120Zm60-500h600v-160H180v160Zm220 220h160v-160H400v160Zm0 220h160v-160H400v160ZM180-400h160v-160H180v160Zm440 0h160v-160H620v160ZM180-180h160v-160H180v160Zm440 0h160v-160H620v160Z\"/>\n",
              "  </svg>\n",
              "    </button>\n",
              "\n",
              "  <style>\n",
              "    .colab-df-container {\n",
              "      display:flex;\n",
              "      gap: 12px;\n",
              "    }\n",
              "\n",
              "    .colab-df-convert {\n",
              "      background-color: #E8F0FE;\n",
              "      border: none;\n",
              "      border-radius: 50%;\n",
              "      cursor: pointer;\n",
              "      display: none;\n",
              "      fill: #1967D2;\n",
              "      height: 32px;\n",
              "      padding: 0 0 0 0;\n",
              "      width: 32px;\n",
              "    }\n",
              "\n",
              "    .colab-df-convert:hover {\n",
              "      background-color: #E2EBFA;\n",
              "      box-shadow: 0px 1px 2px rgba(60, 64, 67, 0.3), 0px 1px 3px 1px rgba(60, 64, 67, 0.15);\n",
              "      fill: #174EA6;\n",
              "    }\n",
              "\n",
              "    .colab-df-buttons div {\n",
              "      margin-bottom: 4px;\n",
              "    }\n",
              "\n",
              "    [theme=dark] .colab-df-convert {\n",
              "      background-color: #3B4455;\n",
              "      fill: #D2E3FC;\n",
              "    }\n",
              "\n",
              "    [theme=dark] .colab-df-convert:hover {\n",
              "      background-color: #434B5C;\n",
              "      box-shadow: 0px 1px 3px 1px rgba(0, 0, 0, 0.15);\n",
              "      filter: drop-shadow(0px 1px 2px rgba(0, 0, 0, 0.3));\n",
              "      fill: #FFFFFF;\n",
              "    }\n",
              "  </style>\n",
              "\n",
              "    <script>\n",
              "      const buttonEl =\n",
              "        document.querySelector('#df-e402a90b-4d12-4558-aa72-c07f67ad21f7 button.colab-df-convert');\n",
              "      buttonEl.style.display =\n",
              "        google.colab.kernel.accessAllowed ? 'block' : 'none';\n",
              "\n",
              "      async function convertToInteractive(key) {\n",
              "        const element = document.querySelector('#df-e402a90b-4d12-4558-aa72-c07f67ad21f7');\n",
              "        const dataTable =\n",
              "          await google.colab.kernel.invokeFunction('convertToInteractive',\n",
              "                                                    [key], {});\n",
              "        if (!dataTable) return;\n",
              "\n",
              "        const docLinkHtml = 'Like what you see? Visit the ' +\n",
              "          '<a target=\"_blank\" href=https://colab.research.google.com/notebooks/data_table.ipynb>data table notebook</a>'\n",
              "          + ' to learn more about interactive tables.';\n",
              "        element.innerHTML = '';\n",
              "        dataTable['output_type'] = 'display_data';\n",
              "        await google.colab.output.renderOutput(dataTable, element);\n",
              "        const docLink = document.createElement('div');\n",
              "        docLink.innerHTML = docLinkHtml;\n",
              "        element.appendChild(docLink);\n",
              "      }\n",
              "    </script>\n",
              "  </div>\n",
              "\n",
              "\n",
              "<div id=\"df-882d2a9c-1497-49f3-a0ac-86011116a9b7\">\n",
              "  <button class=\"colab-df-quickchart\" onclick=\"quickchart('df-882d2a9c-1497-49f3-a0ac-86011116a9b7')\"\n",
              "            title=\"Suggest charts.\"\n",
              "            style=\"display:none;\">\n",
              "\n",
              "<svg xmlns=\"http://www.w3.org/2000/svg\" height=\"24px\"viewBox=\"0 0 24 24\"\n",
              "     width=\"24px\">\n",
              "    <g>\n",
              "        <path d=\"M19 3H5c-1.1 0-2 .9-2 2v14c0 1.1.9 2 2 2h14c1.1 0 2-.9 2-2V5c0-1.1-.9-2-2-2zM9 17H7v-7h2v7zm4 0h-2V7h2v10zm4 0h-2v-4h2v4z\"/>\n",
              "    </g>\n",
              "</svg>\n",
              "  </button>\n",
              "\n",
              "<style>\n",
              "  .colab-df-quickchart {\n",
              "      --bg-color: #E8F0FE;\n",
              "      --fill-color: #1967D2;\n",
              "      --hover-bg-color: #E2EBFA;\n",
              "      --hover-fill-color: #174EA6;\n",
              "      --disabled-fill-color: #AAA;\n",
              "      --disabled-bg-color: #DDD;\n",
              "  }\n",
              "\n",
              "  [theme=dark] .colab-df-quickchart {\n",
              "      --bg-color: #3B4455;\n",
              "      --fill-color: #D2E3FC;\n",
              "      --hover-bg-color: #434B5C;\n",
              "      --hover-fill-color: #FFFFFF;\n",
              "      --disabled-bg-color: #3B4455;\n",
              "      --disabled-fill-color: #666;\n",
              "  }\n",
              "\n",
              "  .colab-df-quickchart {\n",
              "    background-color: var(--bg-color);\n",
              "    border: none;\n",
              "    border-radius: 50%;\n",
              "    cursor: pointer;\n",
              "    display: none;\n",
              "    fill: var(--fill-color);\n",
              "    height: 32px;\n",
              "    padding: 0;\n",
              "    width: 32px;\n",
              "  }\n",
              "\n",
              "  .colab-df-quickchart:hover {\n",
              "    background-color: var(--hover-bg-color);\n",
              "    box-shadow: 0 1px 2px rgba(60, 64, 67, 0.3), 0 1px 3px 1px rgba(60, 64, 67, 0.15);\n",
              "    fill: var(--button-hover-fill-color);\n",
              "  }\n",
              "\n",
              "  .colab-df-quickchart-complete:disabled,\n",
              "  .colab-df-quickchart-complete:disabled:hover {\n",
              "    background-color: var(--disabled-bg-color);\n",
              "    fill: var(--disabled-fill-color);\n",
              "    box-shadow: none;\n",
              "  }\n",
              "\n",
              "  .colab-df-spinner {\n",
              "    border: 2px solid var(--fill-color);\n",
              "    border-color: transparent;\n",
              "    border-bottom-color: var(--fill-color);\n",
              "    animation:\n",
              "      spin 1s steps(1) infinite;\n",
              "  }\n",
              "\n",
              "  @keyframes spin {\n",
              "    0% {\n",
              "      border-color: transparent;\n",
              "      border-bottom-color: var(--fill-color);\n",
              "      border-left-color: var(--fill-color);\n",
              "    }\n",
              "    20% {\n",
              "      border-color: transparent;\n",
              "      border-left-color: var(--fill-color);\n",
              "      border-top-color: var(--fill-color);\n",
              "    }\n",
              "    30% {\n",
              "      border-color: transparent;\n",
              "      border-left-color: var(--fill-color);\n",
              "      border-top-color: var(--fill-color);\n",
              "      border-right-color: var(--fill-color);\n",
              "    }\n",
              "    40% {\n",
              "      border-color: transparent;\n",
              "      border-right-color: var(--fill-color);\n",
              "      border-top-color: var(--fill-color);\n",
              "    }\n",
              "    60% {\n",
              "      border-color: transparent;\n",
              "      border-right-color: var(--fill-color);\n",
              "    }\n",
              "    80% {\n",
              "      border-color: transparent;\n",
              "      border-right-color: var(--fill-color);\n",
              "      border-bottom-color: var(--fill-color);\n",
              "    }\n",
              "    90% {\n",
              "      border-color: transparent;\n",
              "      border-bottom-color: var(--fill-color);\n",
              "    }\n",
              "  }\n",
              "</style>\n",
              "\n",
              "  <script>\n",
              "    async function quickchart(key) {\n",
              "      const quickchartButtonEl =\n",
              "        document.querySelector('#' + key + ' button');\n",
              "      quickchartButtonEl.disabled = true;  // To prevent multiple clicks.\n",
              "      quickchartButtonEl.classList.add('colab-df-spinner');\n",
              "      try {\n",
              "        const charts = await google.colab.kernel.invokeFunction(\n",
              "            'suggestCharts', [key], {});\n",
              "      } catch (error) {\n",
              "        console.error('Error during call to suggestCharts:', error);\n",
              "      }\n",
              "      quickchartButtonEl.classList.remove('colab-df-spinner');\n",
              "      quickchartButtonEl.classList.add('colab-df-quickchart-complete');\n",
              "    }\n",
              "    (() => {\n",
              "      let quickchartButtonEl =\n",
              "        document.querySelector('#df-882d2a9c-1497-49f3-a0ac-86011116a9b7 button');\n",
              "      quickchartButtonEl.style.display =\n",
              "        google.colab.kernel.accessAllowed ? 'block' : 'none';\n",
              "    })();\n",
              "  </script>\n",
              "</div>\n",
              "    </div>\n",
              "  </div>\n"
            ]
          },
          "metadata": {},
          "execution_count": 156
        }
      ]
    },
    {
      "cell_type": "code",
      "source": [
        "print('% Imbalanced Data:',1317/4358) # spam count/ham count"
      ],
      "metadata": {
        "execution": {
          "iopub.status.busy": "2023-10-30T00:39:04.827269Z",
          "iopub.execute_input": "2023-10-30T00:39:04.828240Z",
          "iopub.status.idle": "2023-10-30T00:39:04.835079Z",
          "shell.execute_reply.started": "2023-10-30T00:39:04.828203Z",
          "shell.execute_reply": "2023-10-30T00:39:04.833411Z"
        },
        "trusted": true,
        "colab": {
          "base_uri": "https://localhost:8080/"
        },
        "id": "a6hJpkugDDJJ",
        "outputId": "6a5d3458-1f14-4d29-fbb6-ffd66200eb09"
      },
      "execution_count": null,
      "outputs": [
        {
          "output_type": "stream",
          "name": "stdout",
          "text": [
            "% Imbalanced Data: 0.30220284534189995\n"
          ]
        }
      ]
    },
    {
      "cell_type": "markdown",
      "source": [
        "## Handling Imbalanced Data"
      ],
      "metadata": {
        "id": "kJDz__UpDDJJ"
      }
    },
    {
      "cell_type": "code",
      "source": [
        "df_spam = df[df['Category']=='spam']\n",
        "df_spam.shape"
      ],
      "metadata": {
        "execution": {
          "iopub.status.busy": "2023-10-30T00:39:04.840083Z",
          "iopub.execute_input": "2023-10-30T00:39:04.840770Z",
          "iopub.status.idle": "2023-10-30T00:39:04.851966Z",
          "shell.execute_reply.started": "2023-10-30T00:39:04.840717Z",
          "shell.execute_reply": "2023-10-30T00:39:04.850818Z"
        },
        "trusted": true,
        "colab": {
          "base_uri": "https://localhost:8080/"
        },
        "id": "WLx6BWJaDDJK",
        "outputId": "e7f04048-71c2-47b0-abaa-ba01a21f02b7"
      },
      "execution_count": null,
      "outputs": [
        {
          "output_type": "execute_result",
          "data": {
            "text/plain": [
              "(1317, 2)"
            ]
          },
          "metadata": {},
          "execution_count": 158
        }
      ]
    },
    {
      "cell_type": "code",
      "source": [
        "df_ham = df[df['Category']=='ham']\n",
        "df_ham.shape"
      ],
      "metadata": {
        "execution": {
          "iopub.status.busy": "2023-10-30T00:39:04.853354Z",
          "iopub.execute_input": "2023-10-30T00:39:04.854130Z",
          "iopub.status.idle": "2023-10-30T00:39:04.866547Z",
          "shell.execute_reply.started": "2023-10-30T00:39:04.854099Z",
          "shell.execute_reply": "2023-10-30T00:39:04.865025Z"
        },
        "trusted": true,
        "colab": {
          "base_uri": "https://localhost:8080/"
        },
        "id": "QFjEd6DbDDJK",
        "outputId": "d24c34ba-d480-4a1a-d932-981e6d0ae46b"
      },
      "execution_count": null,
      "outputs": [
        {
          "output_type": "execute_result",
          "data": {
            "text/plain": [
              "(4358, 2)"
            ]
          },
          "metadata": {},
          "execution_count": 159
        }
      ]
    },
    {
      "cell_type": "code",
      "source": [
        "df_ham_downsampled = df_ham.sample(df_spam.shape[0])\n",
        "df_ham_downsampled.shape"
      ],
      "metadata": {
        "execution": {
          "iopub.status.busy": "2023-10-30T00:39:04.868376Z",
          "iopub.execute_input": "2023-10-30T00:39:04.868752Z",
          "iopub.status.idle": "2023-10-30T00:39:04.879138Z",
          "shell.execute_reply.started": "2023-10-30T00:39:04.868725Z",
          "shell.execute_reply": "2023-10-30T00:39:04.878510Z"
        },
        "trusted": true,
        "colab": {
          "base_uri": "https://localhost:8080/"
        },
        "id": "3lFNQzeDDDJK",
        "outputId": "a54bd90e-5f00-40e2-9d55-aecb3eea9c57"
      },
      "execution_count": null,
      "outputs": [
        {
          "output_type": "execute_result",
          "data": {
            "text/plain": [
              "(1317, 2)"
            ]
          },
          "metadata": {},
          "execution_count": 160
        }
      ]
    },
    {
      "cell_type": "code",
      "source": [
        "df_balanced = pd.concat([df_ham_downsampled, df_spam])\n",
        "df_balanced.shape"
      ],
      "metadata": {
        "execution": {
          "iopub.status.busy": "2023-10-30T00:39:04.880027Z",
          "iopub.execute_input": "2023-10-30T00:39:04.882047Z",
          "iopub.status.idle": "2023-10-30T00:39:04.893247Z",
          "shell.execute_reply.started": "2023-10-30T00:39:04.881985Z",
          "shell.execute_reply": "2023-10-30T00:39:04.892191Z"
        },
        "trusted": true,
        "colab": {
          "base_uri": "https://localhost:8080/"
        },
        "id": "GgL3bgIrDDJL",
        "outputId": "0c8e99bd-8edb-4210-8319-118b2b50d720"
      },
      "execution_count": null,
      "outputs": [
        {
          "output_type": "execute_result",
          "data": {
            "text/plain": [
              "(2634, 2)"
            ]
          },
          "metadata": {},
          "execution_count": 161
        }
      ]
    },
    {
      "cell_type": "code",
      "source": [
        "df_balanced['Category'].value_counts()"
      ],
      "metadata": {
        "execution": {
          "iopub.status.busy": "2023-10-30T00:39:04.894519Z",
          "iopub.execute_input": "2023-10-30T00:39:04.895299Z",
          "iopub.status.idle": "2023-10-30T00:39:04.906945Z",
          "shell.execute_reply.started": "2023-10-30T00:39:04.895267Z",
          "shell.execute_reply": "2023-10-30T00:39:04.906098Z"
        },
        "trusted": true,
        "colab": {
          "base_uri": "https://localhost:8080/"
        },
        "id": "lsBEg9MODDJL",
        "outputId": "236cc535-3163-434f-abad-d16779d5ab55"
      },
      "execution_count": null,
      "outputs": [
        {
          "output_type": "execute_result",
          "data": {
            "text/plain": [
              "ham     1317\n",
              "spam    1317\n",
              "Name: Category, dtype: int64"
            ]
          },
          "metadata": {},
          "execution_count": 162
        }
      ]
    },
    {
      "cell_type": "code",
      "source": [
        "df_balanced['spam']=df_balanced['Category'].apply(lambda x: 1 if x=='spam' else 0)\n",
        "df_balanced.sample(5)"
      ],
      "metadata": {
        "execution": {
          "iopub.status.busy": "2023-10-30T00:39:04.908171Z",
          "iopub.execute_input": "2023-10-30T00:39:04.909010Z",
          "iopub.status.idle": "2023-10-30T00:39:04.926638Z",
          "shell.execute_reply.started": "2023-10-30T00:39:04.908979Z",
          "shell.execute_reply": "2023-10-30T00:39:04.925219Z"
        },
        "trusted": true,
        "colab": {
          "base_uri": "https://localhost:8080/",
          "height": 206
        },
        "id": "wrBn5nJqDDJL",
        "outputId": "9cc9135c-88fd-45c9-e5c0-5e43daf3ff1c"
      },
      "execution_count": null,
      "outputs": [
        {
          "output_type": "execute_result",
          "data": {
            "text/plain": [
              "                                                Content Category  spam\n",
              "3176  Subject: re : rice / enron speakers for fall 2...      ham     0\n",
              "652   Subject: the man of stteel  hello , welcome to...     spam     1\n",
              "3945  Subject: rice / enron seminar series  fyi !  s...      ham     0\n",
              "2744  Subject: re : message from ken rice  vince :  ...      ham     0\n",
              "1225  Subject: professionally - designed logos and i...     spam     1"
            ],
            "text/html": [
              "\n",
              "  <div id=\"df-57bfbba2-64f6-4651-9ea5-8d8b905e6406\" class=\"colab-df-container\">\n",
              "    <div>\n",
              "<style scoped>\n",
              "    .dataframe tbody tr th:only-of-type {\n",
              "        vertical-align: middle;\n",
              "    }\n",
              "\n",
              "    .dataframe tbody tr th {\n",
              "        vertical-align: top;\n",
              "    }\n",
              "\n",
              "    .dataframe thead th {\n",
              "        text-align: right;\n",
              "    }\n",
              "</style>\n",
              "<table border=\"1\" class=\"dataframe\">\n",
              "  <thead>\n",
              "    <tr style=\"text-align: right;\">\n",
              "      <th></th>\n",
              "      <th>Content</th>\n",
              "      <th>Category</th>\n",
              "      <th>spam</th>\n",
              "    </tr>\n",
              "  </thead>\n",
              "  <tbody>\n",
              "    <tr>\n",
              "      <th>3176</th>\n",
              "      <td>Subject: re : rice / enron speakers for fall 2...</td>\n",
              "      <td>ham</td>\n",
              "      <td>0</td>\n",
              "    </tr>\n",
              "    <tr>\n",
              "      <th>652</th>\n",
              "      <td>Subject: the man of stteel  hello , welcome to...</td>\n",
              "      <td>spam</td>\n",
              "      <td>1</td>\n",
              "    </tr>\n",
              "    <tr>\n",
              "      <th>3945</th>\n",
              "      <td>Subject: rice / enron seminar series  fyi !  s...</td>\n",
              "      <td>ham</td>\n",
              "      <td>0</td>\n",
              "    </tr>\n",
              "    <tr>\n",
              "      <th>2744</th>\n",
              "      <td>Subject: re : message from ken rice  vince :  ...</td>\n",
              "      <td>ham</td>\n",
              "      <td>0</td>\n",
              "    </tr>\n",
              "    <tr>\n",
              "      <th>1225</th>\n",
              "      <td>Subject: professionally - designed logos and i...</td>\n",
              "      <td>spam</td>\n",
              "      <td>1</td>\n",
              "    </tr>\n",
              "  </tbody>\n",
              "</table>\n",
              "</div>\n",
              "    <div class=\"colab-df-buttons\">\n",
              "\n",
              "  <div class=\"colab-df-container\">\n",
              "    <button class=\"colab-df-convert\" onclick=\"convertToInteractive('df-57bfbba2-64f6-4651-9ea5-8d8b905e6406')\"\n",
              "            title=\"Convert this dataframe to an interactive table.\"\n",
              "            style=\"display:none;\">\n",
              "\n",
              "  <svg xmlns=\"http://www.w3.org/2000/svg\" height=\"24px\" viewBox=\"0 -960 960 960\">\n",
              "    <path d=\"M120-120v-720h720v720H120Zm60-500h600v-160H180v160Zm220 220h160v-160H400v160Zm0 220h160v-160H400v160ZM180-400h160v-160H180v160Zm440 0h160v-160H620v160ZM180-180h160v-160H180v160Zm440 0h160v-160H620v160Z\"/>\n",
              "  </svg>\n",
              "    </button>\n",
              "\n",
              "  <style>\n",
              "    .colab-df-container {\n",
              "      display:flex;\n",
              "      gap: 12px;\n",
              "    }\n",
              "\n",
              "    .colab-df-convert {\n",
              "      background-color: #E8F0FE;\n",
              "      border: none;\n",
              "      border-radius: 50%;\n",
              "      cursor: pointer;\n",
              "      display: none;\n",
              "      fill: #1967D2;\n",
              "      height: 32px;\n",
              "      padding: 0 0 0 0;\n",
              "      width: 32px;\n",
              "    }\n",
              "\n",
              "    .colab-df-convert:hover {\n",
              "      background-color: #E2EBFA;\n",
              "      box-shadow: 0px 1px 2px rgba(60, 64, 67, 0.3), 0px 1px 3px 1px rgba(60, 64, 67, 0.15);\n",
              "      fill: #174EA6;\n",
              "    }\n",
              "\n",
              "    .colab-df-buttons div {\n",
              "      margin-bottom: 4px;\n",
              "    }\n",
              "\n",
              "    [theme=dark] .colab-df-convert {\n",
              "      background-color: #3B4455;\n",
              "      fill: #D2E3FC;\n",
              "    }\n",
              "\n",
              "    [theme=dark] .colab-df-convert:hover {\n",
              "      background-color: #434B5C;\n",
              "      box-shadow: 0px 1px 3px 1px rgba(0, 0, 0, 0.15);\n",
              "      filter: drop-shadow(0px 1px 2px rgba(0, 0, 0, 0.3));\n",
              "      fill: #FFFFFF;\n",
              "    }\n",
              "  </style>\n",
              "\n",
              "    <script>\n",
              "      const buttonEl =\n",
              "        document.querySelector('#df-57bfbba2-64f6-4651-9ea5-8d8b905e6406 button.colab-df-convert');\n",
              "      buttonEl.style.display =\n",
              "        google.colab.kernel.accessAllowed ? 'block' : 'none';\n",
              "\n",
              "      async function convertToInteractive(key) {\n",
              "        const element = document.querySelector('#df-57bfbba2-64f6-4651-9ea5-8d8b905e6406');\n",
              "        const dataTable =\n",
              "          await google.colab.kernel.invokeFunction('convertToInteractive',\n",
              "                                                    [key], {});\n",
              "        if (!dataTable) return;\n",
              "\n",
              "        const docLinkHtml = 'Like what you see? Visit the ' +\n",
              "          '<a target=\"_blank\" href=https://colab.research.google.com/notebooks/data_table.ipynb>data table notebook</a>'\n",
              "          + ' to learn more about interactive tables.';\n",
              "        element.innerHTML = '';\n",
              "        dataTable['output_type'] = 'display_data';\n",
              "        await google.colab.output.renderOutput(dataTable, element);\n",
              "        const docLink = document.createElement('div');\n",
              "        docLink.innerHTML = docLinkHtml;\n",
              "        element.appendChild(docLink);\n",
              "      }\n",
              "    </script>\n",
              "  </div>\n",
              "\n",
              "\n",
              "<div id=\"df-a403af6c-732a-4365-80e2-0534cf5bb3e6\">\n",
              "  <button class=\"colab-df-quickchart\" onclick=\"quickchart('df-a403af6c-732a-4365-80e2-0534cf5bb3e6')\"\n",
              "            title=\"Suggest charts.\"\n",
              "            style=\"display:none;\">\n",
              "\n",
              "<svg xmlns=\"http://www.w3.org/2000/svg\" height=\"24px\"viewBox=\"0 0 24 24\"\n",
              "     width=\"24px\">\n",
              "    <g>\n",
              "        <path d=\"M19 3H5c-1.1 0-2 .9-2 2v14c0 1.1.9 2 2 2h14c1.1 0 2-.9 2-2V5c0-1.1-.9-2-2-2zM9 17H7v-7h2v7zm4 0h-2V7h2v10zm4 0h-2v-4h2v4z\"/>\n",
              "    </g>\n",
              "</svg>\n",
              "  </button>\n",
              "\n",
              "<style>\n",
              "  .colab-df-quickchart {\n",
              "      --bg-color: #E8F0FE;\n",
              "      --fill-color: #1967D2;\n",
              "      --hover-bg-color: #E2EBFA;\n",
              "      --hover-fill-color: #174EA6;\n",
              "      --disabled-fill-color: #AAA;\n",
              "      --disabled-bg-color: #DDD;\n",
              "  }\n",
              "\n",
              "  [theme=dark] .colab-df-quickchart {\n",
              "      --bg-color: #3B4455;\n",
              "      --fill-color: #D2E3FC;\n",
              "      --hover-bg-color: #434B5C;\n",
              "      --hover-fill-color: #FFFFFF;\n",
              "      --disabled-bg-color: #3B4455;\n",
              "      --disabled-fill-color: #666;\n",
              "  }\n",
              "\n",
              "  .colab-df-quickchart {\n",
              "    background-color: var(--bg-color);\n",
              "    border: none;\n",
              "    border-radius: 50%;\n",
              "    cursor: pointer;\n",
              "    display: none;\n",
              "    fill: var(--fill-color);\n",
              "    height: 32px;\n",
              "    padding: 0;\n",
              "    width: 32px;\n",
              "  }\n",
              "\n",
              "  .colab-df-quickchart:hover {\n",
              "    background-color: var(--hover-bg-color);\n",
              "    box-shadow: 0 1px 2px rgba(60, 64, 67, 0.3), 0 1px 3px 1px rgba(60, 64, 67, 0.15);\n",
              "    fill: var(--button-hover-fill-color);\n",
              "  }\n",
              "\n",
              "  .colab-df-quickchart-complete:disabled,\n",
              "  .colab-df-quickchart-complete:disabled:hover {\n",
              "    background-color: var(--disabled-bg-color);\n",
              "    fill: var(--disabled-fill-color);\n",
              "    box-shadow: none;\n",
              "  }\n",
              "\n",
              "  .colab-df-spinner {\n",
              "    border: 2px solid var(--fill-color);\n",
              "    border-color: transparent;\n",
              "    border-bottom-color: var(--fill-color);\n",
              "    animation:\n",
              "      spin 1s steps(1) infinite;\n",
              "  }\n",
              "\n",
              "  @keyframes spin {\n",
              "    0% {\n",
              "      border-color: transparent;\n",
              "      border-bottom-color: var(--fill-color);\n",
              "      border-left-color: var(--fill-color);\n",
              "    }\n",
              "    20% {\n",
              "      border-color: transparent;\n",
              "      border-left-color: var(--fill-color);\n",
              "      border-top-color: var(--fill-color);\n",
              "    }\n",
              "    30% {\n",
              "      border-color: transparent;\n",
              "      border-left-color: var(--fill-color);\n",
              "      border-top-color: var(--fill-color);\n",
              "      border-right-color: var(--fill-color);\n",
              "    }\n",
              "    40% {\n",
              "      border-color: transparent;\n",
              "      border-right-color: var(--fill-color);\n",
              "      border-top-color: var(--fill-color);\n",
              "    }\n",
              "    60% {\n",
              "      border-color: transparent;\n",
              "      border-right-color: var(--fill-color);\n",
              "    }\n",
              "    80% {\n",
              "      border-color: transparent;\n",
              "      border-right-color: var(--fill-color);\n",
              "      border-bottom-color: var(--fill-color);\n",
              "    }\n",
              "    90% {\n",
              "      border-color: transparent;\n",
              "      border-bottom-color: var(--fill-color);\n",
              "    }\n",
              "  }\n",
              "</style>\n",
              "\n",
              "  <script>\n",
              "    async function quickchart(key) {\n",
              "      const quickchartButtonEl =\n",
              "        document.querySelector('#' + key + ' button');\n",
              "      quickchartButtonEl.disabled = true;  // To prevent multiple clicks.\n",
              "      quickchartButtonEl.classList.add('colab-df-spinner');\n",
              "      try {\n",
              "        const charts = await google.colab.kernel.invokeFunction(\n",
              "            'suggestCharts', [key], {});\n",
              "      } catch (error) {\n",
              "        console.error('Error during call to suggestCharts:', error);\n",
              "      }\n",
              "      quickchartButtonEl.classList.remove('colab-df-spinner');\n",
              "      quickchartButtonEl.classList.add('colab-df-quickchart-complete');\n",
              "    }\n",
              "    (() => {\n",
              "      let quickchartButtonEl =\n",
              "        document.querySelector('#df-a403af6c-732a-4365-80e2-0534cf5bb3e6 button');\n",
              "      quickchartButtonEl.style.display =\n",
              "        google.colab.kernel.accessAllowed ? 'block' : 'none';\n",
              "    })();\n",
              "  </script>\n",
              "</div>\n",
              "    </div>\n",
              "  </div>\n"
            ]
          },
          "metadata": {},
          "execution_count": 163
        }
      ]
    },
    {
      "cell_type": "markdown",
      "source": [
        "#### Now the dataset is balanced."
      ],
      "metadata": {
        "id": "8cKsqX0zDDJL"
      }
    },
    {
      "cell_type": "markdown",
      "source": [
        "## Making a new 'spam' column\n",
        "If Category is ham:spam=0\n",
        "\n",
        "else:spam=1"
      ],
      "metadata": {
        "id": "fWpZdxraDDJL"
      }
    },
    {
      "cell_type": "code",
      "source": [
        "df['spam']=df['Category'].apply(lambda x: 1 if x=='spam' else 0)\n",
        "df.head()"
      ],
      "metadata": {
        "execution": {
          "iopub.status.busy": "2023-10-30T00:39:04.928281Z",
          "iopub.execute_input": "2023-10-30T00:39:04.928689Z",
          "iopub.status.idle": "2023-10-30T00:39:04.943890Z",
          "shell.execute_reply.started": "2023-10-30T00:39:04.928655Z",
          "shell.execute_reply": "2023-10-30T00:39:04.942143Z"
        },
        "trusted": true,
        "colab": {
          "base_uri": "https://localhost:8080/",
          "height": 206
        },
        "id": "wYzPa8ZWDDJL",
        "outputId": "54636ba3-96ba-4678-f302-e6f83c4eab4b"
      },
      "execution_count": null,
      "outputs": [
        {
          "output_type": "execute_result",
          "data": {
            "text/plain": [
              "                                             Content Category  spam\n",
              "0  Subject: grab this quick triple at its low  ho...     spam     1\n",
              "1  Subject: yyyy , do you know the hgh difference...     spam     1\n",
              "2  Subject: make big money with foreclosed real e...     spam     1\n",
              "3  Subject: are you ready to get it ?  hello !  v...     spam     1\n",
              "4  Subject: letter from : daniel kabila  letter f...     spam     1"
            ],
            "text/html": [
              "\n",
              "  <div id=\"df-6b3e5fc5-69b2-40d4-b837-5c099202edd4\" class=\"colab-df-container\">\n",
              "    <div>\n",
              "<style scoped>\n",
              "    .dataframe tbody tr th:only-of-type {\n",
              "        vertical-align: middle;\n",
              "    }\n",
              "\n",
              "    .dataframe tbody tr th {\n",
              "        vertical-align: top;\n",
              "    }\n",
              "\n",
              "    .dataframe thead th {\n",
              "        text-align: right;\n",
              "    }\n",
              "</style>\n",
              "<table border=\"1\" class=\"dataframe\">\n",
              "  <thead>\n",
              "    <tr style=\"text-align: right;\">\n",
              "      <th></th>\n",
              "      <th>Content</th>\n",
              "      <th>Category</th>\n",
              "      <th>spam</th>\n",
              "    </tr>\n",
              "  </thead>\n",
              "  <tbody>\n",
              "    <tr>\n",
              "      <th>0</th>\n",
              "      <td>Subject: grab this quick triple at its low  ho...</td>\n",
              "      <td>spam</td>\n",
              "      <td>1</td>\n",
              "    </tr>\n",
              "    <tr>\n",
              "      <th>1</th>\n",
              "      <td>Subject: yyyy , do you know the hgh difference...</td>\n",
              "      <td>spam</td>\n",
              "      <td>1</td>\n",
              "    </tr>\n",
              "    <tr>\n",
              "      <th>2</th>\n",
              "      <td>Subject: make big money with foreclosed real e...</td>\n",
              "      <td>spam</td>\n",
              "      <td>1</td>\n",
              "    </tr>\n",
              "    <tr>\n",
              "      <th>3</th>\n",
              "      <td>Subject: are you ready to get it ?  hello !  v...</td>\n",
              "      <td>spam</td>\n",
              "      <td>1</td>\n",
              "    </tr>\n",
              "    <tr>\n",
              "      <th>4</th>\n",
              "      <td>Subject: letter from : daniel kabila  letter f...</td>\n",
              "      <td>spam</td>\n",
              "      <td>1</td>\n",
              "    </tr>\n",
              "  </tbody>\n",
              "</table>\n",
              "</div>\n",
              "    <div class=\"colab-df-buttons\">\n",
              "\n",
              "  <div class=\"colab-df-container\">\n",
              "    <button class=\"colab-df-convert\" onclick=\"convertToInteractive('df-6b3e5fc5-69b2-40d4-b837-5c099202edd4')\"\n",
              "            title=\"Convert this dataframe to an interactive table.\"\n",
              "            style=\"display:none;\">\n",
              "\n",
              "  <svg xmlns=\"http://www.w3.org/2000/svg\" height=\"24px\" viewBox=\"0 -960 960 960\">\n",
              "    <path d=\"M120-120v-720h720v720H120Zm60-500h600v-160H180v160Zm220 220h160v-160H400v160Zm0 220h160v-160H400v160ZM180-400h160v-160H180v160Zm440 0h160v-160H620v160ZM180-180h160v-160H180v160Zm440 0h160v-160H620v160Z\"/>\n",
              "  </svg>\n",
              "    </button>\n",
              "\n",
              "  <style>\n",
              "    .colab-df-container {\n",
              "      display:flex;\n",
              "      gap: 12px;\n",
              "    }\n",
              "\n",
              "    .colab-df-convert {\n",
              "      background-color: #E8F0FE;\n",
              "      border: none;\n",
              "      border-radius: 50%;\n",
              "      cursor: pointer;\n",
              "      display: none;\n",
              "      fill: #1967D2;\n",
              "      height: 32px;\n",
              "      padding: 0 0 0 0;\n",
              "      width: 32px;\n",
              "    }\n",
              "\n",
              "    .colab-df-convert:hover {\n",
              "      background-color: #E2EBFA;\n",
              "      box-shadow: 0px 1px 2px rgba(60, 64, 67, 0.3), 0px 1px 3px 1px rgba(60, 64, 67, 0.15);\n",
              "      fill: #174EA6;\n",
              "    }\n",
              "\n",
              "    .colab-df-buttons div {\n",
              "      margin-bottom: 4px;\n",
              "    }\n",
              "\n",
              "    [theme=dark] .colab-df-convert {\n",
              "      background-color: #3B4455;\n",
              "      fill: #D2E3FC;\n",
              "    }\n",
              "\n",
              "    [theme=dark] .colab-df-convert:hover {\n",
              "      background-color: #434B5C;\n",
              "      box-shadow: 0px 1px 3px 1px rgba(0, 0, 0, 0.15);\n",
              "      filter: drop-shadow(0px 1px 2px rgba(0, 0, 0, 0.3));\n",
              "      fill: #FFFFFF;\n",
              "    }\n",
              "  </style>\n",
              "\n",
              "    <script>\n",
              "      const buttonEl =\n",
              "        document.querySelector('#df-6b3e5fc5-69b2-40d4-b837-5c099202edd4 button.colab-df-convert');\n",
              "      buttonEl.style.display =\n",
              "        google.colab.kernel.accessAllowed ? 'block' : 'none';\n",
              "\n",
              "      async function convertToInteractive(key) {\n",
              "        const element = document.querySelector('#df-6b3e5fc5-69b2-40d4-b837-5c099202edd4');\n",
              "        const dataTable =\n",
              "          await google.colab.kernel.invokeFunction('convertToInteractive',\n",
              "                                                    [key], {});\n",
              "        if (!dataTable) return;\n",
              "\n",
              "        const docLinkHtml = 'Like what you see? Visit the ' +\n",
              "          '<a target=\"_blank\" href=https://colab.research.google.com/notebooks/data_table.ipynb>data table notebook</a>'\n",
              "          + ' to learn more about interactive tables.';\n",
              "        element.innerHTML = '';\n",
              "        dataTable['output_type'] = 'display_data';\n",
              "        await google.colab.output.renderOutput(dataTable, element);\n",
              "        const docLink = document.createElement('div');\n",
              "        docLink.innerHTML = docLinkHtml;\n",
              "        element.appendChild(docLink);\n",
              "      }\n",
              "    </script>\n",
              "  </div>\n",
              "\n",
              "\n",
              "<div id=\"df-1fa721b7-bb59-4a5d-aa96-3fb1d78a114f\">\n",
              "  <button class=\"colab-df-quickchart\" onclick=\"quickchart('df-1fa721b7-bb59-4a5d-aa96-3fb1d78a114f')\"\n",
              "            title=\"Suggest charts.\"\n",
              "            style=\"display:none;\">\n",
              "\n",
              "<svg xmlns=\"http://www.w3.org/2000/svg\" height=\"24px\"viewBox=\"0 0 24 24\"\n",
              "     width=\"24px\">\n",
              "    <g>\n",
              "        <path d=\"M19 3H5c-1.1 0-2 .9-2 2v14c0 1.1.9 2 2 2h14c1.1 0 2-.9 2-2V5c0-1.1-.9-2-2-2zM9 17H7v-7h2v7zm4 0h-2V7h2v10zm4 0h-2v-4h2v4z\"/>\n",
              "    </g>\n",
              "</svg>\n",
              "  </button>\n",
              "\n",
              "<style>\n",
              "  .colab-df-quickchart {\n",
              "      --bg-color: #E8F0FE;\n",
              "      --fill-color: #1967D2;\n",
              "      --hover-bg-color: #E2EBFA;\n",
              "      --hover-fill-color: #174EA6;\n",
              "      --disabled-fill-color: #AAA;\n",
              "      --disabled-bg-color: #DDD;\n",
              "  }\n",
              "\n",
              "  [theme=dark] .colab-df-quickchart {\n",
              "      --bg-color: #3B4455;\n",
              "      --fill-color: #D2E3FC;\n",
              "      --hover-bg-color: #434B5C;\n",
              "      --hover-fill-color: #FFFFFF;\n",
              "      --disabled-bg-color: #3B4455;\n",
              "      --disabled-fill-color: #666;\n",
              "  }\n",
              "\n",
              "  .colab-df-quickchart {\n",
              "    background-color: var(--bg-color);\n",
              "    border: none;\n",
              "    border-radius: 50%;\n",
              "    cursor: pointer;\n",
              "    display: none;\n",
              "    fill: var(--fill-color);\n",
              "    height: 32px;\n",
              "    padding: 0;\n",
              "    width: 32px;\n",
              "  }\n",
              "\n",
              "  .colab-df-quickchart:hover {\n",
              "    background-color: var(--hover-bg-color);\n",
              "    box-shadow: 0 1px 2px rgba(60, 64, 67, 0.3), 0 1px 3px 1px rgba(60, 64, 67, 0.15);\n",
              "    fill: var(--button-hover-fill-color);\n",
              "  }\n",
              "\n",
              "  .colab-df-quickchart-complete:disabled,\n",
              "  .colab-df-quickchart-complete:disabled:hover {\n",
              "    background-color: var(--disabled-bg-color);\n",
              "    fill: var(--disabled-fill-color);\n",
              "    box-shadow: none;\n",
              "  }\n",
              "\n",
              "  .colab-df-spinner {\n",
              "    border: 2px solid var(--fill-color);\n",
              "    border-color: transparent;\n",
              "    border-bottom-color: var(--fill-color);\n",
              "    animation:\n",
              "      spin 1s steps(1) infinite;\n",
              "  }\n",
              "\n",
              "  @keyframes spin {\n",
              "    0% {\n",
              "      border-color: transparent;\n",
              "      border-bottom-color: var(--fill-color);\n",
              "      border-left-color: var(--fill-color);\n",
              "    }\n",
              "    20% {\n",
              "      border-color: transparent;\n",
              "      border-left-color: var(--fill-color);\n",
              "      border-top-color: var(--fill-color);\n",
              "    }\n",
              "    30% {\n",
              "      border-color: transparent;\n",
              "      border-left-color: var(--fill-color);\n",
              "      border-top-color: var(--fill-color);\n",
              "      border-right-color: var(--fill-color);\n",
              "    }\n",
              "    40% {\n",
              "      border-color: transparent;\n",
              "      border-right-color: var(--fill-color);\n",
              "      border-top-color: var(--fill-color);\n",
              "    }\n",
              "    60% {\n",
              "      border-color: transparent;\n",
              "      border-right-color: var(--fill-color);\n",
              "    }\n",
              "    80% {\n",
              "      border-color: transparent;\n",
              "      border-right-color: var(--fill-color);\n",
              "      border-bottom-color: var(--fill-color);\n",
              "    }\n",
              "    90% {\n",
              "      border-color: transparent;\n",
              "      border-bottom-color: var(--fill-color);\n",
              "    }\n",
              "  }\n",
              "</style>\n",
              "\n",
              "  <script>\n",
              "    async function quickchart(key) {\n",
              "      const quickchartButtonEl =\n",
              "        document.querySelector('#' + key + ' button');\n",
              "      quickchartButtonEl.disabled = true;  // To prevent multiple clicks.\n",
              "      quickchartButtonEl.classList.add('colab-df-spinner');\n",
              "      try {\n",
              "        const charts = await google.colab.kernel.invokeFunction(\n",
              "            'suggestCharts', [key], {});\n",
              "      } catch (error) {\n",
              "        console.error('Error during call to suggestCharts:', error);\n",
              "      }\n",
              "      quickchartButtonEl.classList.remove('colab-df-spinner');\n",
              "      quickchartButtonEl.classList.add('colab-df-quickchart-complete');\n",
              "    }\n",
              "    (() => {\n",
              "      let quickchartButtonEl =\n",
              "        document.querySelector('#df-1fa721b7-bb59-4a5d-aa96-3fb1d78a114f button');\n",
              "      quickchartButtonEl.style.display =\n",
              "        google.colab.kernel.accessAllowed ? 'block' : 'none';\n",
              "    })();\n",
              "  </script>\n",
              "</div>\n",
              "    </div>\n",
              "  </div>\n"
            ]
          },
          "metadata": {},
          "execution_count": 164
        }
      ]
    },
    {
      "cell_type": "markdown",
      "source": [
        "## Splitting the dataset into training and testing\n",
        "\n",
        "**Use stratify so that in train and test data distribution of category is equal**"
      ],
      "metadata": {
        "id": "2TM4ADnYDDJM"
      }
    },
    {
      "cell_type": "code",
      "source": [
        "from sklearn.model_selection import train_test_split\n",
        "\n",
        "X_train, X_test, y_train, y_test = train_test_split(df_balanced['Content'],df_balanced['spam'], stratify=df_balanced['spam'])"
      ],
      "metadata": {
        "execution": {
          "iopub.status.busy": "2023-10-30T00:39:04.945480Z",
          "iopub.execute_input": "2023-10-30T00:39:04.945910Z",
          "iopub.status.idle": "2023-10-30T00:39:05.253856Z",
          "shell.execute_reply.started": "2023-10-30T00:39:04.945877Z",
          "shell.execute_reply": "2023-10-30T00:39:05.252125Z"
        },
        "trusted": true,
        "id": "HJjlF7XnDDJM"
      },
      "execution_count": null,
      "outputs": []
    },
    {
      "cell_type": "code",
      "source": [
        "X_train.head()"
      ],
      "metadata": {
        "execution": {
          "iopub.status.busy": "2023-10-30T00:39:05.255747Z",
          "iopub.execute_input": "2023-10-30T00:39:05.256172Z",
          "iopub.status.idle": "2023-10-30T00:39:05.267418Z",
          "shell.execute_reply.started": "2023-10-30T00:39:05.256136Z",
          "shell.execute_reply": "2023-10-30T00:39:05.265692Z"
        },
        "trusted": true,
        "colab": {
          "base_uri": "https://localhost:8080/"
        },
        "id": "aiq58EAADDJM",
        "outputId": "224b842d-a4b9-44aa-ecac-cc5013500c8e"
      },
      "execution_count": null,
      "outputs": [
        {
          "output_type": "execute_result",
          "data": {
            "text/plain": [
              "4742    Subject: enron recruiting / mscf speaker serie...\n",
              "210     Subject: freedom - $ 1 , 021 , 320 . 00 per ye...\n",
              "241     Subject: re : new page  hi sweetie ,  come see...\n",
              "4683    Subject: outage pricing model revision : allow...\n",
              "26      Subject: you only think you ' re u . s . citiz...\n",
              "Name: Content, dtype: object"
            ]
          },
          "metadata": {},
          "execution_count": 166
        }
      ]
    },
    {
      "cell_type": "markdown",
      "source": [
        "## About the BERT trained model\n",
        "\n",
        "BERT stands for Bidirectional Encoder Representations from Transformers. BERT is a model which is quite bidirectional. Bidirectional means BERT learns information from both the left and right sides of a token’s context. A model’s bidirectionality is essential for completely understanding the meaning of a language.\n",
        "\n",
        "BERT has been pre-trained on a vast corpus of unlabeled text, including the entire Wikipedia, which is 2,500 million words long, and various Book Corpus, which is over 800 million words long. Half of BERT’s success can be attributed to this pre-training phase.\n",
        "\n",
        "**Working of BERT**\n",
        "\n",
        "To learn the contextual relationships between words in a text, BERT utilizes Transformer, an attention mechanism. The transformer’s vanilla implementation has two mechanisms: an encoder that receives text input and a decoder that predicts the task. Only the encoder mechanism is required because the purpose of BERT is to construct a language model.\n",
        "\n",
        "The Transformer encoder reads the entire sequence of words at once, unlike directional versions that read the text input sequentially. It is classed as bidirectional as a result of this, while the actual term is non-directional. This feature allows the model to learn a word’s context based on its surroundings.\n",
        "\n",
        "(visit https://analyticsindiamag.com/a-guide-to-text-preprocessing-using-bert/)"
      ],
      "metadata": {
        "id": "oq5CXkK1DDJM"
      }
    },
    {
      "cell_type": "markdown",
      "source": [
        "### Download the BERT pretrained model"
      ],
      "metadata": {
        "id": "9TrS8Ku_DDJN"
      }
    },
    {
      "cell_type": "markdown",
      "source": [
        "bert_preprocess=converts raw text to the numeric input tensors expected by the encoder.\n",
        "\n",
        "bert_encoder=uses the encoder stack of the transformer model to output the representation of each token in the given input."
      ],
      "metadata": {
        "id": "v1gDDxdyDDJN"
      }
    },
    {
      "cell_type": "code",
      "source": [
        "bert_preprocess = hub.KerasLayer(\"https://tfhub.dev/tensorflow/bert_en_uncased_preprocess/3\")\n",
        "bert_encoder = hub.KerasLayer(\"https://tfhub.dev/tensorflow/bert_en_uncased_L-12_H-768_A-12/4\")\n",
        "# bert_preprocess = hub.KerasLayer(\"https://kaggle.com/models/tensorflow/bert/frameworks/TensorFlow2/variations/en-uncased-preprocess/versions/3\")\n",
        "# bert_encoder = hub.KerasLayer(\"https://www.kaggle.com/models/tensorflow/bert/frameworks/TensorFlow2/variations/bert-en-uncased-l-12-h-768-a-12/versions/2\")"
      ],
      "metadata": {
        "execution": {
          "iopub.status.busy": "2023-10-30T00:39:05.269080Z",
          "iopub.execute_input": "2023-10-30T00:39:05.269411Z",
          "iopub.status.idle": "2023-10-30T00:39:25.396027Z",
          "shell.execute_reply.started": "2023-10-30T00:39:05.269385Z",
          "shell.execute_reply": "2023-10-30T00:39:25.394197Z"
        },
        "trusted": true,
        "id": "_kSqRIM8DDJN"
      },
      "execution_count": null,
      "outputs": []
    },
    {
      "cell_type": "code",
      "source": [
        "def get_sentence_embeding(sentences):\n",
        "    preprocessed_text = bert_preprocess(sentences)\n",
        "    return bert_encoder(preprocessed_text)['pooled_output']"
      ],
      "metadata": {
        "execution": {
          "iopub.status.busy": "2023-10-30T00:39:25.396846Z",
          "iopub.status.idle": "2023-10-30T00:39:25.397898Z",
          "shell.execute_reply.started": "2023-10-30T00:39:25.397714Z",
          "shell.execute_reply": "2023-10-30T00:39:25.397734Z"
        },
        "trusted": true,
        "id": "oyiwAddrDDJN"
      },
      "execution_count": null,
      "outputs": []
    },
    {
      "cell_type": "markdown",
      "source": [
        "### Get embedding vectors for few sentence and compare them using cosine similarity"
      ],
      "metadata": {
        "id": "KdCgJompDDJN"
      }
    },
    {
      "cell_type": "code",
      "source": [
        "c=get_sentence_embeding(['mango','banana','Narendra modi','data analytics','natural language processing'])"
      ],
      "metadata": {
        "execution": {
          "iopub.status.busy": "2023-10-30T00:39:25.398756Z",
          "iopub.status.idle": "2023-10-30T00:39:25.399265Z",
          "shell.execute_reply.started": "2023-10-30T00:39:25.399098Z",
          "shell.execute_reply": "2023-10-30T00:39:25.399115Z"
        },
        "trusted": true,
        "id": "P_AlAK9uDDJO"
      },
      "execution_count": null,
      "outputs": []
    },
    {
      "cell_type": "markdown",
      "source": [
        "### Value near to 1 depict they are similar and 0 depict they are different"
      ],
      "metadata": {
        "id": "wAoPSvTEDDJO"
      }
    },
    {
      "cell_type": "code",
      "source": [
        "from sklearn.metrics.pairwise import cosine_similarity\n",
        "cosine_similarity([c[0]],[c[1]])"
      ],
      "metadata": {
        "execution": {
          "iopub.status.busy": "2023-10-30T00:39:25.400822Z",
          "iopub.status.idle": "2023-10-30T00:39:25.401169Z",
          "shell.execute_reply.started": "2023-10-30T00:39:25.401002Z",
          "shell.execute_reply": "2023-10-30T00:39:25.401016Z"
        },
        "trusted": true,
        "colab": {
          "base_uri": "https://localhost:8080/"
        },
        "id": "9akYBcBFDDJO",
        "outputId": "6bdb4fa4-6e9f-487c-bd43-fb1c98082eae"
      },
      "execution_count": null,
      "outputs": [
        {
          "output_type": "execute_result",
          "data": {
            "text/plain": [
              "array([[0.99540985]], dtype=float32)"
            ]
          },
          "metadata": {},
          "execution_count": 170
        }
      ]
    },
    {
      "cell_type": "code",
      "source": [
        "cosine_similarity([c[3]],[c[4]])"
      ],
      "metadata": {
        "execution": {
          "iopub.status.busy": "2023-10-30T00:39:25.402470Z",
          "iopub.status.idle": "2023-10-30T00:39:25.402784Z",
          "shell.execute_reply.started": "2023-10-30T00:39:25.402635Z",
          "shell.execute_reply": "2023-10-30T00:39:25.402650Z"
        },
        "trusted": true,
        "colab": {
          "base_uri": "https://localhost:8080/"
        },
        "id": "Rk_3Zv4eDDJO",
        "outputId": "b437080c-f618-4a93-9051-4ba23e5cbfb1"
      },
      "execution_count": null,
      "outputs": [
        {
          "output_type": "execute_result",
          "data": {
            "text/plain": [
              "array([[0.96571267]], dtype=float32)"
            ]
          },
          "metadata": {},
          "execution_count": 171
        }
      ]
    },
    {
      "cell_type": "code",
      "source": [
        "cosine_similarity([c[1]],[c[2]])"
      ],
      "metadata": {
        "execution": {
          "iopub.status.busy": "2023-10-30T00:39:25.403686Z",
          "iopub.status.idle": "2023-10-30T00:39:25.403969Z",
          "shell.execute_reply.started": "2023-10-30T00:39:25.403828Z",
          "shell.execute_reply": "2023-10-30T00:39:25.403842Z"
        },
        "trusted": true,
        "colab": {
          "base_uri": "https://localhost:8080/"
        },
        "id": "QDO4LOONDDJO",
        "outputId": "bc5d9d4f-fb28-43df-ebf6-af6c5350d645"
      },
      "execution_count": null,
      "outputs": [
        {
          "output_type": "execute_result",
          "data": {
            "text/plain": [
              "array([[0.9482186]], dtype=float32)"
            ]
          },
          "metadata": {},
          "execution_count": 172
        }
      ]
    },
    {
      "cell_type": "markdown",
      "source": [
        "## Model Building\n",
        "\n",
        "Here we will build functional model.\n",
        "\n",
        "* Functional model offers more flexibility over sequential model because we don’t need to attach layers in sequential order.\n",
        "* In Functional model, part or all of the inputs directly connected to the output layer.\n",
        "* This architecture makes it possible for the neural network to learn both deep patterns and simple rules."
      ],
      "metadata": {
        "id": "b0eMuxY5DDJO"
      }
    },
    {
      "cell_type": "code",
      "source": [
        "#Functional Model\n",
        "\n",
        "# Bert layers\n",
        "#Text input passed to bert_preprocess\n",
        "text_input = tf.keras.layers.Input(shape=(), dtype=tf.string, name='text')\n",
        "preprocessed_text = bert_preprocess(text_input)\n",
        "#Processed text passed to bert_encoder\n",
        "outputs = bert_encoder(preprocessed_text)\n",
        "\n",
        "# Neural network layers\n",
        "\n",
        "#Dropout\n",
        "l = tf.keras.layers.Dropout(0.1, name=\"dropout\")(outputs['pooled_output'])\n",
        "l = tf.keras.layers.Dense(1, activation='sigmoid', name=\"output\")(l)\n",
        "\n",
        "# Use inputs and outputs to construct a final model\n",
        "model = tf.keras.Model(inputs=[text_input], outputs = [l])"
      ],
      "metadata": {
        "execution": {
          "iopub.status.busy": "2023-10-30T00:39:25.404887Z",
          "iopub.status.idle": "2023-10-30T00:39:25.405177Z",
          "shell.execute_reply.started": "2023-10-30T00:39:25.405030Z",
          "shell.execute_reply": "2023-10-30T00:39:25.405044Z"
        },
        "trusted": true,
        "id": "AYtaizEzDDJO"
      },
      "execution_count": null,
      "outputs": []
    },
    {
      "cell_type": "code",
      "source": [
        "model.summary()"
      ],
      "metadata": {
        "execution": {
          "iopub.status.busy": "2023-10-30T00:39:25.406574Z",
          "iopub.status.idle": "2023-10-30T00:39:25.406883Z",
          "shell.execute_reply.started": "2023-10-30T00:39:25.406741Z",
          "shell.execute_reply": "2023-10-30T00:39:25.406755Z"
        },
        "trusted": true,
        "colab": {
          "base_uri": "https://localhost:8080/"
        },
        "id": "y7SlUxARDDJT",
        "outputId": "7422f061-d6b4-4b6e-8275-c0392ae26e8c"
      },
      "execution_count": null,
      "outputs": [
        {
          "output_type": "stream",
          "name": "stdout",
          "text": [
            "Model: \"model_2\"\n",
            "__________________________________________________________________________________________________\n",
            " Layer (type)                Output Shape                 Param #   Connected to                  \n",
            "==================================================================================================\n",
            " text (InputLayer)           [(None,)]                    0         []                            \n",
            "                                                                                                  \n",
            " keras_layer_4 (KerasLayer)  {'input_mask': (None, 128)   0         ['text[0][0]']                \n",
            "                             , 'input_word_ids': (None,                                           \n",
            "                              128),                                                               \n",
            "                              'input_type_ids': (None,                                            \n",
            "                             128)}                                                                \n",
            "                                                                                                  \n",
            " keras_layer_5 (KerasLayer)  {'encoder_outputs': [(None   1094822   ['keras_layer_4[0][0]',       \n",
            "                             , 128, 768),                 41         'keras_layer_4[0][1]',       \n",
            "                              (None, 128, 768),                      'keras_layer_4[0][2]']       \n",
            "                              (None, 128, 768),                                                   \n",
            "                              (None, 128, 768),                                                   \n",
            "                              (None, 128, 768),                                                   \n",
            "                              (None, 128, 768),                                                   \n",
            "                              (None, 128, 768),                                                   \n",
            "                              (None, 128, 768),                                                   \n",
            "                              (None, 128, 768),                                                   \n",
            "                              (None, 128, 768),                                                   \n",
            "                              (None, 128, 768),                                                   \n",
            "                              (None, 128, 768)],                                                  \n",
            "                              'default': (None, 768),                                             \n",
            "                              'sequence_output': (None,                                           \n",
            "                              128, 768),                                                          \n",
            "                              'pooled_output': (None, 7                                           \n",
            "                             68)}                                                                 \n",
            "                                                                                                  \n",
            " dropout (Dropout)           (None, 768)                  0         ['keras_layer_5[0][13]']      \n",
            "                                                                                                  \n",
            " output (Dense)              (None, 1)                    769       ['dropout[0][0]']             \n",
            "                                                                                                  \n",
            "==================================================================================================\n",
            "Total params: 109483010 (417.64 MB)\n",
            "Trainable params: 769 (3.00 KB)\n",
            "Non-trainable params: 109482241 (417.64 MB)\n",
            "__________________________________________________________________________________________________\n"
          ]
        }
      ]
    },
    {
      "cell_type": "code",
      "source": [
        "len(X_train)"
      ],
      "metadata": {
        "execution": {
          "iopub.status.busy": "2023-10-30T00:39:25.407814Z",
          "iopub.status.idle": "2023-10-30T00:39:25.408087Z",
          "shell.execute_reply.started": "2023-10-30T00:39:25.407951Z",
          "shell.execute_reply": "2023-10-30T00:39:25.407965Z"
        },
        "trusted": true,
        "colab": {
          "base_uri": "https://localhost:8080/"
        },
        "id": "OyjcS9dRDDJT",
        "outputId": "7ed2bd3a-d90d-461a-ba8c-bfb6677a9061"
      },
      "execution_count": null,
      "outputs": [
        {
          "output_type": "execute_result",
          "data": {
            "text/plain": [
              "1975"
            ]
          },
          "metadata": {},
          "execution_count": 175
        }
      ]
    },
    {
      "cell_type": "code",
      "source": [
        "METRICS = [tf.keras.metrics.BinaryAccuracy(name='accuracy'),tf.keras.metrics.Precision(name='precision'),\n",
        "      tf.keras.metrics.Recall(name='recall')]\n",
        "\n",
        "model.compile(optimizer='adam',loss='binary_crossentropy',metrics=METRICS)"
      ],
      "metadata": {
        "execution": {
          "iopub.status.busy": "2023-10-30T00:39:25.409042Z",
          "iopub.status.idle": "2023-10-30T00:39:25.409332Z",
          "shell.execute_reply.started": "2023-10-30T00:39:25.409194Z",
          "shell.execute_reply": "2023-10-30T00:39:25.409208Z"
        },
        "trusted": true,
        "id": "VkbX12WmDDJT"
      },
      "execution_count": null,
      "outputs": []
    },
    {
      "cell_type": "markdown",
      "source": [
        "## Training Model"
      ],
      "metadata": {
        "id": "WrTytdRTDDJT"
      }
    },
    {
      "cell_type": "code",
      "source": [
        "model.fit(X_train, y_train, epochs=5)"
      ],
      "metadata": {
        "execution": {
          "iopub.status.busy": "2023-10-30T00:39:25.410636Z",
          "iopub.status.idle": "2023-10-30T00:39:25.410972Z",
          "shell.execute_reply.started": "2023-10-30T00:39:25.410817Z",
          "shell.execute_reply": "2023-10-30T00:39:25.410834Z"
        },
        "trusted": true,
        "colab": {
          "base_uri": "https://localhost:8080/"
        },
        "id": "WoLUGI9TDDJU",
        "outputId": "d119465c-04eb-49f6-94e6-0315ebae1f83"
      },
      "execution_count": null,
      "outputs": [
        {
          "output_type": "stream",
          "name": "stdout",
          "text": [
            "Epoch 1/5\n",
            "62/62 [==============================] - 22s 351ms/step - loss: 0.5980 - accuracy: 0.6977 - precision: 0.7022 - recall: 0.6872\n",
            "Epoch 2/5\n",
            "62/62 [==============================] - 22s 359ms/step - loss: 0.5437 - accuracy: 0.7595 - precision: 0.7620 - recall: 0.7551\n",
            "Epoch 3/5\n",
            "62/62 [==============================] - 22s 354ms/step - loss: 0.5035 - accuracy: 0.7889 - precision: 0.7983 - recall: 0.7733\n",
            "Epoch 4/5\n",
            "62/62 [==============================] - 22s 356ms/step - loss: 0.4666 - accuracy: 0.8142 - precision: 0.8152 - recall: 0.8128\n",
            "Epoch 5/5\n",
            "62/62 [==============================] - 22s 363ms/step - loss: 0.4476 - accuracy: 0.8147 - precision: 0.8180 - recall: 0.8097\n"
          ]
        },
        {
          "output_type": "execute_result",
          "data": {
            "text/plain": [
              "<keras.src.callbacks.History at 0x788d64cc6050>"
            ]
          },
          "metadata": {},
          "execution_count": 192
        }
      ]
    },
    {
      "cell_type": "code",
      "source": [
        "model.evaluate(X_test, y_test)"
      ],
      "metadata": {
        "execution": {
          "iopub.status.busy": "2023-10-30T00:39:25.412291Z",
          "iopub.status.idle": "2023-10-30T00:39:25.412588Z",
          "shell.execute_reply.started": "2023-10-30T00:39:25.412437Z",
          "shell.execute_reply": "2023-10-30T00:39:25.412451Z"
        },
        "trusted": true,
        "colab": {
          "base_uri": "https://localhost:8080/"
        },
        "id": "QNrJhn01DDJU",
        "outputId": "94c4cd44-fc37-4cf6-a185-6c2243f8f2e6"
      },
      "execution_count": null,
      "outputs": [
        {
          "output_type": "stream",
          "name": "stdout",
          "text": [
            "21/21 [==============================] - 8s 357ms/step - loss: 0.4558 - accuracy: 0.8058 - precision: 0.8851 - recall: 0.7021\n"
          ]
        },
        {
          "output_type": "execute_result",
          "data": {
            "text/plain": [
              "[0.4558369815349579,\n",
              " 0.8057662844657898,\n",
              " 0.8850574493408203,\n",
              " 0.7021276354789734]"
            ]
          },
          "metadata": {},
          "execution_count": 193
        }
      ]
    },
    {
      "cell_type": "markdown",
      "source": [
        "#### We can believe on accuracy as we have balanced the dataset."
      ],
      "metadata": {
        "id": "gCpf5DXSDDJU"
      }
    },
    {
      "cell_type": "markdown",
      "source": [
        "## Testing the model"
      ],
      "metadata": {
        "id": "Tni_bEJoDDJU"
      }
    },
    {
      "cell_type": "code",
      "source": [
        "y_predicted = model.predict(X_test)\n",
        "y_predicted = y_predicted.flatten()"
      ],
      "metadata": {
        "execution": {
          "iopub.status.busy": "2023-10-30T00:39:25.413426Z",
          "iopub.status.idle": "2023-10-30T00:39:25.413749Z",
          "shell.execute_reply.started": "2023-10-30T00:39:25.413565Z",
          "shell.execute_reply": "2023-10-30T00:39:25.413579Z"
        },
        "trusted": true,
        "colab": {
          "base_uri": "https://localhost:8080/"
        },
        "id": "i8uWJMuvDDJU",
        "outputId": "b7709cdd-f859-4657-e43f-8bfe1f5a6631"
      },
      "execution_count": null,
      "outputs": [
        {
          "output_type": "stream",
          "name": "stdout",
          "text": [
            "21/21 [==============================] - 7s 341ms/step\n"
          ]
        }
      ]
    },
    {
      "cell_type": "code",
      "source": [
        "#If probablity greater than 0.5 than make it 1 otherwise 0.\n",
        "#If y_predicted=1->spam\n",
        "#else:Not spam\n",
        "y_predicted = np.where(y_predicted > 0.5, 1, 0)\n",
        "y_predicted"
      ],
      "metadata": {
        "execution": {
          "iopub.status.busy": "2023-10-30T00:39:25.415135Z",
          "iopub.status.idle": "2023-10-30T00:39:25.415430Z",
          "shell.execute_reply.started": "2023-10-30T00:39:25.415285Z",
          "shell.execute_reply": "2023-10-30T00:39:25.415299Z"
        },
        "trusted": true,
        "colab": {
          "base_uri": "https://localhost:8080/"
        },
        "id": "qwBolZngDDJU",
        "outputId": "01577db5-b31c-4bf4-8f2c-e60f63ca54b7"
      },
      "execution_count": null,
      "outputs": [
        {
          "output_type": "execute_result",
          "data": {
            "text/plain": [
              "array([0, 1, 0, 1, 1, 1, 0, 1, 1, 1, 1, 1, 0, 0, 0, 0, 1, 1, 1, 0, 0, 1,\n",
              "       0, 1, 0, 0, 0, 0, 1, 0, 0, 0, 0, 1, 1, 0, 1, 0, 0, 1, 0, 1, 1, 1,\n",
              "       0, 1, 1, 1, 1, 1, 0, 1, 1, 0, 0, 1, 1, 0, 0, 0, 0, 0, 0, 0, 0, 0,\n",
              "       1, 1, 0, 0, 0, 0, 0, 0, 0, 0, 1, 1, 0, 0, 1, 0, 1, 0, 0, 0, 1, 0,\n",
              "       1, 0, 0, 0, 1, 0, 1, 0, 1, 0, 0, 0, 1, 0, 0, 0, 0, 1, 0, 0, 0, 0,\n",
              "       0, 1, 0, 0, 0, 0, 0, 0, 0, 0, 0, 1, 0, 0, 0, 0, 1, 0, 0, 0, 0, 0,\n",
              "       0, 1, 1, 0, 0, 0, 1, 1, 0, 1, 0, 0, 0, 0, 0, 1, 0, 0, 0, 1, 1, 1,\n",
              "       0, 1, 1, 1, 0, 0, 1, 1, 1, 1, 0, 0, 0, 0, 0, 1, 0, 0, 1, 0, 0, 0,\n",
              "       0, 0, 1, 0, 0, 0, 0, 1, 1, 0, 0, 0, 0, 1, 1, 1, 0, 1, 1, 1, 0, 0,\n",
              "       0, 0, 0, 1, 1, 0, 0, 0, 1, 0, 1, 1, 1, 1, 1, 1, 0, 1, 1, 0, 0, 0,\n",
              "       0, 1, 0, 1, 1, 0, 1, 0, 1, 0, 1, 0, 0, 0, 1, 0, 0, 0, 1, 1, 1, 1,\n",
              "       1, 1, 1, 1, 0, 0, 0, 0, 0, 0, 1, 0, 0, 0, 0, 1, 1, 0, 1, 0, 0, 0,\n",
              "       0, 0, 0, 0, 0, 0, 0, 1, 0, 0, 1, 0, 0, 0, 0, 0, 1, 0, 0, 0, 1, 0,\n",
              "       1, 1, 1, 1, 1, 1, 1, 1, 1, 0, 1, 1, 0, 1, 1, 0, 0, 0, 1, 0, 0, 0,\n",
              "       1, 0, 0, 0, 1, 0, 0, 1, 0, 1, 0, 0, 1, 0, 1, 0, 1, 0, 1, 0, 1, 1,\n",
              "       0, 0, 0, 0, 0, 0, 1, 1, 0, 1, 0, 0, 1, 0, 0, 0, 0, 0, 1, 1, 0, 0,\n",
              "       1, 0, 1, 0, 1, 0, 0, 1, 1, 0, 0, 0, 1, 0, 0, 1, 0, 1, 1, 0, 1, 0,\n",
              "       1, 0, 0, 0, 0, 0, 1, 0, 1, 0, 0, 1, 0, 0, 0, 1, 1, 0, 0, 0, 1, 1,\n",
              "       0, 1, 0, 0, 0, 1, 1, 1, 1, 0, 1, 0, 0, 0, 0, 0, 0, 0, 0, 0, 0, 0,\n",
              "       0, 0, 0, 0, 0, 1, 0, 1, 0, 1, 1, 1, 0, 0, 0, 0, 1, 0, 0, 0, 1, 0,\n",
              "       0, 0, 0, 0, 0, 1, 0, 1, 1, 0, 0, 1, 0, 1, 1, 1, 1, 1, 0, 0, 0, 0,\n",
              "       1, 0, 0, 0, 0, 1, 1, 0, 0, 1, 0, 0, 0, 0, 1, 1, 0, 0, 0, 1, 0, 0,\n",
              "       0, 1, 0, 1, 1, 0, 0, 0, 0, 1, 0, 1, 1, 1, 0, 0, 0, 0, 1, 1, 0, 1,\n",
              "       1, 0, 0, 0, 1, 1, 0, 0, 0, 1, 1, 0, 0, 0, 0, 0, 0, 0, 0, 1, 1, 0,\n",
              "       1, 1, 0, 0, 1, 0, 1, 1, 0, 0, 0, 1, 0, 1, 0, 0, 0, 1, 1, 1, 0, 1,\n",
              "       1, 0, 0, 0, 1, 0, 0, 0, 0, 1, 1, 0, 1, 0, 1, 1, 0, 0, 0, 0, 0, 0,\n",
              "       0, 0, 1, 0, 0, 1, 0, 1, 0, 0, 0, 0, 0, 0, 1, 1, 0, 0, 0, 0, 0, 0,\n",
              "       0, 1, 0, 1, 0, 1, 1, 1, 1, 1, 0, 1, 0, 0, 0, 1, 0, 0, 0, 1, 0, 1,\n",
              "       0, 0, 1, 1, 0, 1, 0, 1, 1, 1, 0, 1, 0, 1, 0, 1, 1, 0, 1, 0, 1, 1,\n",
              "       1, 1, 0, 1, 0, 1, 0, 1, 1, 0, 0, 0, 0, 1, 1, 0, 1, 1, 0, 1, 1])"
            ]
          },
          "metadata": {},
          "execution_count": 195
        }
      ]
    },
    {
      "cell_type": "code",
      "source": [
        "from sklearn.metrics import confusion_matrix, classification_report\n",
        "cm = confusion_matrix(y_test, y_predicted)\n",
        "cm"
      ],
      "metadata": {
        "execution": {
          "iopub.status.busy": "2023-10-30T00:39:25.417919Z",
          "iopub.status.idle": "2023-10-30T00:39:25.418210Z",
          "shell.execute_reply.started": "2023-10-30T00:39:25.418069Z",
          "shell.execute_reply": "2023-10-30T00:39:25.418084Z"
        },
        "trusted": true,
        "colab": {
          "base_uri": "https://localhost:8080/"
        },
        "id": "f8Ky49uBDDJV",
        "outputId": "eb565e17-c7e2-4cb1-f12d-8dc75a424226"
      },
      "execution_count": null,
      "outputs": [
        {
          "output_type": "execute_result",
          "data": {
            "text/plain": [
              "array([[300,  30],\n",
              "       [ 98, 231]])"
            ]
          },
          "metadata": {},
          "execution_count": 196
        }
      ]
    },
    {
      "cell_type": "markdown",
      "source": [
        "### Heatmap"
      ],
      "metadata": {
        "id": "LQw16hwsDDJV"
      }
    },
    {
      "cell_type": "code",
      "source": [
        "from matplotlib import pyplot as plt\n",
        "import seaborn as sn\n",
        "sn.heatmap(cm, annot=True, fmt='d')\n",
        "plt.xlabel('Predicted')\n",
        "plt.ylabel('Truth')"
      ],
      "metadata": {
        "execution": {
          "iopub.status.busy": "2023-10-30T00:39:25.420140Z",
          "iopub.status.idle": "2023-10-30T00:39:25.420443Z",
          "shell.execute_reply.started": "2023-10-30T00:39:25.420296Z",
          "shell.execute_reply": "2023-10-30T00:39:25.420311Z"
        },
        "trusted": true,
        "colab": {
          "base_uri": "https://localhost:8080/",
          "height": 472
        },
        "id": "UHZEEZmjDDJV",
        "outputId": "451d2daa-da00-4738-8182-f2b0bb187e34"
      },
      "execution_count": null,
      "outputs": [
        {
          "output_type": "execute_result",
          "data": {
            "text/plain": [
              "Text(50.722222222222214, 0.5, 'Truth')"
            ]
          },
          "metadata": {},
          "execution_count": 197
        },
        {
          "output_type": "display_data",
          "data": {
            "text/plain": [
              "<Figure size 640x480 with 2 Axes>"
            ],
            "image/png": "[encoded data removed]"
          },
          "metadata": {}
        }
      ]
    },
    {
      "cell_type": "markdown",
      "source": [
        "### Classification Report"
      ],
      "metadata": {
        "id": "t0NNrY8ODDJV"
      }
    },
    {
      "cell_type": "code",
      "source": [
        "print(classification_report(y_test, y_predicted))"
      ],
      "metadata": {
        "execution": {
          "iopub.status.busy": "2023-10-30T00:39:25.421733Z",
          "iopub.status.idle": "2023-10-30T00:39:25.422017Z",
          "shell.execute_reply.started": "2023-10-30T00:39:25.421879Z",
          "shell.execute_reply": "2023-10-30T00:39:25.421893Z"
        },
        "trusted": true,
        "colab": {
          "base_uri": "https://localhost:8080/"
        },
        "id": "Vv4BttetDDJV",
        "outputId": "c7936a79-03d4-4b7d-aed6-5f4feb0f4b5d"
      },
      "execution_count": null,
      "outputs": [
        {
          "output_type": "stream",
          "name": "stdout",
          "text": [
            "              precision    recall  f1-score   support\n",
            "\n",
            "           0       0.75      0.91      0.82       330\n",
            "           1       0.89      0.70      0.78       329\n",
            "\n",
            "    accuracy                           0.81       659\n",
            "   macro avg       0.82      0.81      0.80       659\n",
            "weighted avg       0.82      0.81      0.80       659\n",
            "\n"
          ]
        }
      ]
    },
    {
      "cell_type": "code",
      "source": [
        "import csv\n",
        "\n",
        "# Initialize an empty list to store the lines\n",
        "lines = []\n",
        "\n",
        "# Specify the path to your CSV file\n",
        "csv_file = '/spams.csv'\n",
        "\n",
        "# Open the CSV file and read it line by line\n",
        "with open(csv_file, 'r', encoding='utf-8') as file:  # Specify the encoding if necessary\n",
        "    for line in file:\n",
        "        lines.append(line.strip())  # Use strip() to remove leading/trailing whitespace\n",
        "\n",
        "# Now, the 'lines' list contains each line of the CSV as a string\n",
        "print(lines)"
      ],
      "metadata": {
        "colab": {
          "base_uri": "https://localhost:8080/"
        },
        "id": "Co3wDk9wXQaH",
        "outputId": "c5a4cfa0-a4a7-4b9d-cc75-3cc3e1657e73"
      },
      "execution_count": null,
      "outputs": [
        {
          "output_type": "stream",
          "name": "stdout",
          "text": [
            "['\\ufeff\"Subject: naturally irresistible your corporate identity  lt is really hard to recollect a company : the  market is full of suqgestions and the information isoverwhelminq ; but a good  catchy logo , stylish statlonery and outstanding website  will make the task much easier .  we do not promise that havinq ordered a iogo your  company will automaticaily become a world ieader : it isguite ciear that  without good products , effective business organization and practicable aim it  will be hotat nowadays market ; but we do promise that your marketing efforts  will become much more effective . here is the list of clear  benefits : creativeness : hand - made , original logos , specially done  to reflect your distinctive company image . convenience : logo and stationery  are provided in all formats ; easy - to - use content management system letsyou  change your website content and even its structure . promptness : you  will see logo drafts within three business days . affordability : your  marketing break - through shouldn \\' t make gaps in your budget . 100 % satisfaction  guaranteed : we provide unlimited amount of changes with no extra fees for you to  be surethat you will love the result of this collaboration . have a look at our  portfolio _ _ _ _ _ _ _ _ _ _ _ _ _ _ _ _ _ _ _ _ _ _ _ _ _ _ _ _ _ _ _ _ _ _ _ _ _ _ _ _ _ _ _ _ _ _ _ _ _ _ _ _ not interested . . . _ _ _ _ _ _ _ _ _ _ _ _ _ _ _ _ _ _ _ _ _ _ _ _ _ _ _ _ _ _ _ _ _ _ _ _ _ _ _ _ _ _ _ _ _ _ _ _ _ _ _ _\"', 'Subject: the stock trading gunslinger  fanny is merrill but muzo not colza attainder and penultimate like esmark perspicuous ramble is segovia not group try slung kansas tanzania yes chameleon or continuant clothesman no  libretto is chesapeake but tight not waterway herald and hawthorn like chisel morristown superior is deoxyribonucleic not clockwork try hall incredible mcdougall yes hepburn or einsteinian earmark no  sapling is boar but duane not plain palfrey and inflexible like huzzah pepperoni bedtime is nameable not attire try edt chronography optima yes pirogue or diffusion albeit no', '\"Subject: unbelievable new homes made easy  im wanting to show you this  homeowner  you have been pre - approved for a $ 454 , 169 home loan at a 3 . 72 fixed rate .  this offer is being extended to you unconditionally and your credit is in no way a factor .  to take advantage of this limited time opportunity  all we ask is that you visit our website and complete  the 1 minute post approval form  look foward to hearing from you ,  dorcas pittman\"', '\"Subject: 4 color printing special  request additional information now ! click here  click here for a printable version of our order form ( pdf format )  phone : ( 626 ) 338 - 8090 fax : ( 626 ) 338 - 8102 e - mail : ramsey @ goldengraphix . com  request additional information now ! click here  click here for a printable version of our order form ( pdf format )  golden graphix & printing 5110 azusa canyon rd . irwindale , ca 91706 this e - mail message is an advertisement and / or solicitation . \"', '\"Subject: do not have money , get software cds from here !  software compatibility . . . . ain \\' t it great ?  grow old along with me the best is yet to be .  all tradgedies are finish \\' d by death . all comedies are ended by marriage .\"', '\"Subject: great nnews  hello , welcome to medzonline sh groundsel op  we are pleased to introduce ourselves as one of the ieading online phar felicitation maceuticai shops .  helter v  shakedown r  a cosmopolitan l  l blister l  l bestow ag  ac tosher l  is coadjutor va  confidant um  andmanyother .  - sav inexpiable e over 75 %  - total confide leisure ntiaiity  - worldwide s polite hlpplng  - ov allusion er 5 miilion customers in 150 countries  have devitalize a nice day !\"', '\"Subject: here \\' s a hot play in motion  homeland security investments  the terror attacks on the united states on september 11 , 20 ol have  changed  the security landscape for the foreseeable future . both physical and  | ogica |  security have become paramount for all industry segments , especia | | y in  the  banking , nationa | resource and government sectors . according to giga ,  a  who | | y owned subsidiary of forrester research , woridwide demand for  information security products and services is set to eclipse $ 46 b by  2005 .  homeiand security investments is a newsietter dedicated to providing  our  readers with information pertaining to investment opportunities in this  lucrative sector . as we know , events related to homeland security  happen  with lightning speed . what we as investors can do is position  ourselves in  such a way as to take advantage of the current trends and be ready to  capitalize on events which have yet to happen . homeland security  investments is here to heip our readers do just that .  with this in mind , it is with great excitement that we present vinoble ,  inc .  this stock is expected to do big things in both the near and | ong  terms .  symbol : vnbl . ob  current price : o . 08  short term target price : o . 35  12 month target price : 1 . 20  * * * why we believe vnbl . ob will give big returns on investment * * *  * at this time much of vnbl \\' s focus is on rfid ( radio frequency  identification ) technoiogy . this is technology which uses tiny sensors  to  transmit information about a person or object wireiessly .  * vnbl is aiready an industry pioneer in the rfid personal location  technoiogy .  * vnbl is developing a form of rfid technology which allows companies  and  governments to wirelessly track their assets and resources . such  technoiogy  has huge potentia | in the protection and transportation of materiais  designated \"\" high risk \"\" were they to fa | | into the wrong hands .  * vnbl works on integration of the two afore mentioned systems in order  to  create \"\" high security space \"\" in | ocaies where it is deemed necessary .  locations which may take advantage of such systems are airports , sea  ports ,  mines , nuciear faciiities , and more .  * as with a | | stocks , news drives the short term price . fresh news has  made vnbl a hot buy .  news on vnbl  malibu , calif . - - ( business wire ) - - june 16 , 2 oo 5 - - vinoble , inc .  ( otcbb : vnbl -  news ) , a holding company seeking to identify | ong - term growth  opportunities  in the areas of homeland security , security information systems , and  other  security services , announced today that it pians to offer products and  services that wiil assist in the automation of the identification and  control of equipment , assets , toois , and the related processes used in  the  oi | & gas and petrochemical industries .  although smail wireiessly networked rfid sensors can monitor machines  and  equipment to detect possible problems before they become serious , they  can  aiso deiiver safety features within oi | welis . oi | maybe trapped in  different | ayers of rock , aiong with gas and water . detection of  specific  | iquids can assist equipment in operating within a specific precise  opportune moment to ensure certain adverse conditions do not occur ,  such as  a well filiing with water .  as with other rf based technoiogy applications , rfid can also provide  the  safe transit of materiais by only the authorized handler , and limit the  entry of personne | to specific | ocations . ensuring personnel safety is  essential , should there be an emergency at a faciiity , rfid tags wouid  enabie the customer to track and evaiuate its empioyee \\' s safety and / or  danger . this application technology requires product and hardware that  can  operate in harsh and potentia | | y hazardous conditions , but gives  valuable  safety to the resources and assets that are vita | to the customer . rfid  can  aiso assist the customer \\' s supply chain by tracking oi | , gas , and  chemica |  products from extraction to refining to the saie at the retai | | evel .  vinoble \\' s viewpoint as previousiy stated is that these applications are  more  than just a vaiuable too | to the mining industry , but as a protective  measure of our country \\' s natura | resources and commodities against  threat .  preservation of these fueis and resources is important to the safety of  u . s .  industry and economy .  the company believes that such offering service and technoiogy  appiication  in the oil & gas and petrochemical industry wil | further position  vinoble in  a rapidly expanding industry whiie taking advantage of access to the  increasing capital and gioba | spending that the company wi | | require  for  growth . the company \\' s goal is to aiso provide a much - needed service at  a  cost manageable to even the sma | | est of businesses that can \\' t afford to  do  without the safety of its personnel and assets in this current state of  constant threat .  this is outstanding news . the growth potential for this company is  exceptional . in an already hot industry , vnbl . ob stands out as a truiy  innovative pioneer . we see big things happening to this stock .  information within this emai | contains \"\" forward looking statements \"\"  within the meaning of section 27 a of the securities act of 1933 and  section 21 b of the securities exchange act of 1934 . any statements that  express or involve discussions with respect to predictions ,  expectations , beliefs , pians , projections , objectives , goals ,  assumptions or  future  events or performance are not statements of historica | fact and may be  \"\" forward | ooking statements . \"\" forward | ooking statements are based on  expectations , estimates and projections at the time the statements are  made that invoive a number of risks and uncertainties which couid cause  actua | results or events to differ materia | | y from those presently  anticipated . forward looking statements in this action may be  identified  through the use of words such as \"\" projects \"\" , \"\" foresee \"\" , \"\" expects \"\" ,  \"\" wi | | , \"\" \"\" anticipates , \"\" \"\" estimates , \"\" \"\" beiieves , \"\" \"\" understands \"\" or  that by  statements indicating certain actions \"\" may , \"\" \"\" couid , \"\" or \"\" might \"\" occur .  as with many micro - cap stocks , today \\' s company has additional risk  factors worth noting . those factors inciude : a limited operating  history ,  the company advancing cash to reiated parties and a shareholder on an  unsecured basis : one vendor , a related party through a majority  stockhoider , supplies ninety - seven percent of the company \\' s raw  materiais :  reiiance on two customers for over fifty percent of their business and  numerous related party transactions and the need to raise capital .  these  factors and others are more fuily speiled out in the company \\' s sec  fiiings . we urge you to read the filings before you invest . the rocket  stock  report does not represent that the information contained in this  message states ail materia | facts or does not omit a material fact  necessary  to make the statements therein not misleading . ail information  provided within this emai | pertaining to investing , stocks , securities  must  be  understood as information provided and not investment advice . the  rocket stock report advises all readers and subscribers to seek advice  from  a registered professiona | securities representative before deciding to  trade in stocks featured within this email . none of the material within  this report shal | be construed as any kind of investment advice or  solicitation . many of these companies are on the verge of bankruptcy .  you  can lose ail your money by investing in this stock . the publisher of  the rocket stock report is not a registered investment advisor .  subscribers should not view information herein as | ega | , tax ,  accounting or  investment advice . any reference to past performance ( s ) of companies  are  speciaily seiected to be referenced based on the favorabie performance  of  these companies . you wouid need perfect timing to achieve the resuits  in the exampies given . there can be no assurance of that happening .  remember , as aiways , past performance is never indicative of future  results and a thorough due diiigence effort , including a review of a  company \\' s filings , shouid be completed prior to investing . in  compiiance  with the securities act of 1933 , section 17 ( b ) , the rocket stock report  discioses the receipt of tweive thousand doilars from a third party  ( gem , inc . ) , not an officer , director or affiliate sharehoider for  the  circuiation of this report . gem , inc . has a position in the stock  they  wil | se | | at any time without notice . be aware of an inherent confiict  of interest resuiting from such compensation due to the fact that this  is a paid advertisement and we are conflicted . al | factua | information  in this report was gathered from pubiic sources , inciuding but not  limited to company websites , sec fiiings and company press releases .  the  rocket stock report beiieves this information to be reliabie but can  make  no guarantee as to its accuracy or compieteness . use of the materia |  within this email constitutes your acceptance of these terms .\"', 'Subject: save your money buy getting this thing here  you have not tried cialls yet ?  than you cannot even imagine what it is like to be a real man in bed !  the thing is that a great errrectlon is provided for you exactiy when you want .  cialis has a lot of advantages over viagra  - the effect iasts 36 hours !  - you are ready to start within just 10 minutes !  - you can mix it with aicohol ! we ship to any country !  get it right now ! .', '\"Subject: undeliverable : home based business for grownups  your message  subject : home based business for grownups  sent : sun , 21 jan 2001 09 : 24 : 27 + 0100  did not reach the following recipient ( s ) :  75 @ tfi . kpn . com on mon , 25 feb 2002 13 : 32 : 23 + 0100  the recipient name is not recognized  the mts - id of the original message is : c = us ; a = ; p = ptt  telecom ; l = mtpi 70590202251232 fjt 4 d 8 q 5  msexch : ims : kpn - telecom : i : mtpi 7059 0 ( 000 co 5 a 6 ) unknown recipient\"', 'Subject: save your money buy getting this thing here  you have not tried cialls yet ?  than you cannot even imagine what it is like to be a real man in bed !  the thing is that a great errrectlon is provided for you exactiy when you want .  cialis has a lot of advantages over viagra  - the effect lasts 36 hours !  - you are ready to start within just 10 minutes !  - you can mix it with aicohoi ! we ship to any country !  get it right now ! .', '\"Subject: las vegas high rise boom  las vegas is fast becoming a major metropolitan city ! 60 +  new high rise towers are expected to be built on and around the las vegas strip  within the next 3 - 4 years , that \\' s 30 , 000 + condominiums !  this boom has just begun ! buy first . . . early phase ,  pre - construction pricing is now available on las vegas high rises including  trump , cosmopolitan , mgm , turnberry , icon , sky , among others .  join the interest list :  http : / / www . verticallv . com  message has been sent to you by realty one highrise . learn more at www . verticallv . comif you  wish to be excluded from future mailings , please reply with the word remove in  the subject line . \"', 'Subject: save your money buy getting this thing here  you have not tried cialls yet ?  than you cannot even imagine what it is like to be a real man in bed !  the thing is that a great errrectlon is provided for you exactly when you want .  ciaiis has a iot of advantaqes over viagra  - the effect iasts 36 hours !  - you are ready to start within just 10 minutes !  - you can mix it with aicohol ! we ship to any country !  get it riqht now ! .', '\"Subject: brighten those teeth  get your  teeth bright white now !  have you considered professional teeth whitening ? if so , you  know it usually costs between $ 300 and $ 500 from your local  dentist !  visit our site to learn how to  professionally whiten your teeth , using the exact same whitening  system your dentist uses , at a fraction of the cost ! here \\' s what you get :  we will show you what to look for in a whitening  system !  we will show you a comparison of all of the products  available today , including their costs !  we know our product is the best on the market , and we back  it with a 30 day money back guarantee !  click here to learn more !  you are receiving this email as an  internet affiliate network member . if you would no longer like to receive  special promotions  via email from internet affiliate network , then click  here to unsubscribe \"', '\"Subject: wall street phenomenon reaps rewards  small - cap stock finder  new developments expected to move western sierra mining , inc . stock  from $ 0 . 70 to over $ 4 . 0 o  westernsierramining . com  western sierra mining is a company on the move , fast ! big news is out !  big business is afoot for wsrm !  read on to find out why wsrm is our top pick this week .  * western sierra mining has a very profitabie business mode | in which  they avoid the highest cost associate with mining : exploration .  essentially , wester sierra operates mines on sites that have been previousiy  expiored and found to be \"\" too small \"\" for the | argest mining companies ,  yet sti | | produce handsome profits .  * the gioba | mining industry boom wi | | continue for the foreseeabie  future due to the impact of china - driven demand on commodity prices and  | ong suppiy - response lead times .  * news ! news ! news ! read on to find out why we expect wsrm to take off  this week !  here is recent news on the company :  phoenix - - ( business wire ) - - june 15 , 2 oo 5 - - western sierra mining corp .  ( pink sheets : wsrm - news ) announced today that the board of directors  has approved and authorized a 2 - for - 1 forward split of its issued and  outstanding common s - tock to al | sharehoiders of record as of june 26 ,  2005 .  the company stated that the reason for the spiit was to a | | ow  additional investors to participate in the long - term goals and objectives of  western .  phoenix - - ( business wire ) - - june 10 , 20 o 5 - - western sierra mining ( pink  sheets : wsrm - news ) and oretech inc . ( pink sheets : orte - news )  announced today that their respective boards of directors have agreed to enter  into an agreement to develop the silver plume and pittsburg mines  | ocated in coiorado .  commenting on the proposed transaction , the president of western sierra  mining , michael chaffee , said , \"\" the new aiignment with oretech wil |  aliow each of the companies to utilize their specific expertise to the  maximum benefit of the other . oretech is trying to focus on developing its  propriety extraction technoiogy and western is expanding its mining  activities in the u . s . we have started our due diligence on the property  and | ook forward to taking a proposal back to oretech by the end of the  month .  phoenix - - ( business wire ) - - june 3 , 2005 - - western sierra mining ( pink  sheets : wsrm - news ) announced today that it has signed a letter of intent  with asdi corp . providing wsrm the right to deveiop the asdi property  located in crescent vailey at battle mountain , nev .  we cannot stress enough the significance of this news . a s - tock spiit  can oniy mean one thing ; good business ! with the spiit date set at june  26 , now is obviousiy the time to get in . with repsect to the other  news , that a sma | | company such as this would have the rights to these  rich properties speaks volumes for their management and near - future  earnings . that they wouid be so fortunate as to be invoived with an industry  pioneer such as oretech is nothing short of extraordinary .  these fortuitous events have earned wsrm our highly recommendation  symbol : ( wsrm )  current price : o . 70  short term target price : 4 . 6 o  12 month target price : 8 . 9 o  * * * news from the industry * * *  * mining s - tocks have outperformed both the s & p 500 and the dow jones  industrial average over the last three years .  * profits by mining companies have doubled for the second year in a  row . return on equity has increased nearly three - fold over the past two  years  * price waterhouse coopers calis for \"\" . . . another bumper year for the  global mining industry in 2 oo 5 . \"\" they go on to say , \"\" the sustained  upturn in commodity prices has caught investors \\' attention , creating a dash  for mining s - tocks . add the unprecedented profits and free cash flows  and we have a very buoyant industry . \"\"  for more information read , mine - enter the dragon , by price waterhouse  coopers , located at pwcglobal . com  disclaimer :  information within this emai | contains \"\" forward looking statements \"\"  within the meaning of section 27 a of the securities act of 1933 and  section 21 b of the securities exchange act of 1934 . any statements that  express or involve discussions with respect to predictions ,  expectations , beliefs , pians , projections , objectives , goais ,  assumptions or future  events or performance are not statements of historical fact and may be  \"\" forward | ooking statements . \"\" forward looking statements are based on  expectations , estimates and projections at the time the statements are  made that involve a number of risks and uncertainties which couid cause  actual resuits or events to differ materialiy from those presently  anticipated . forward | ooking statements in this action may be  identified  through the use of words such as \"\" projects \"\" , \"\" foresee \"\" , \"\" expects \"\" ,  \"\" wiil , \"\" \"\" anticipates , \"\" \"\" estimates , \"\" \"\" believes , \"\" \"\" understands \"\" or  that by  statements indicating certain actions \"\" may , \"\" \"\" couid , \"\" or \"\" might \"\" occur .  as with many micro - cap s - tocks , today \\' s company has additional risk  factors worth noting . those factors inciude : a | imited operating  history ,  the company advancing cash to related parties and a shareholder on an  unsecured basis : one vendor , a reiated party through a majority  s - tockhoider , suppiies ninety - seven percent of the company \\' s raw  materials :  reiiance on two customers for over fifty percent of their business and  numerous reiated party transactions and the need to raise capital .  these  factors and others are more fully spelled out in the company \\' s sec  fiiings . we urge you to read the filings before you invest . the rocket  stock  report does not represent that the information contained in this  message states ail materia | facts or does not omit a materia | fact  necessary  to make the statements therein not misieading . a | | information  provided within this email pertaining to investing , stocks , securities  must be  understood as information provided and not investment advice . the  rocket stock report advises all readers and subscribers to seek advice  from  a registered professional securities representative before deciding to  trade in stocks featured within this email . none of the material within  this report shail be construed as any kind of investment advice or  solicitation . many of these companies are on the verge of bankruptcy .  you  can | ose al | your mone * y by investing in this stock . the publisher of  the rocket stock report is not a registered investment advisor .  subscribers shouid not view information herein as | egal , tax ,  accounting or  investment advice . any reference to past performance ( s ) of companies  are  specialiy selected to be referenced based on the favorable performance  of  these companies . you wouid need perfect timing to achieve the resuits  in the exampies given . there can be no assurance of that happening .  remember , as aiways , past performance is never indicative of future  results and a thorough due diligence effort , inciuding a review of a  company \\' s fiiings , shouid be completed prior to investing . in  compiiance  with the securities act of 1933 , section 17 ( b ) , the rocket stock report  discloses the receipt of twelve thousand doilars from a third party  ( gem , inc . ) , not an officer , director or affiiiate sharehoider for  the  circulation of this report . gem , inc . has a position in the stoc * k  they  wi | | seil at any time without notice . be aware of an inherent confiict  of interest resuiting from such compensation due to the fact that this  is a paid advertisement and we are conflicted . ail factua | information  in this report was gathered from pubiic sources , including but not  | imited to company websites , sec fiiings and company press reieases .  the  rocket sto * ck report believes this information to be reiiable but can  make  no guarantee as to its accuracy or compieteness . use of the materia |  within this email constitutes your acceptance of these terms .\"', '\"Subject: fpa notice : ebay misrepresentation of identity - user suspension - section 9 -  dear ebay member ,  in an effort to protect your ebay  account security , we have suspended your account until such time that it can  be safely restored to you . we have taken this action because your account  may have been compromised . although we cannot disclose our investigative  procedures that led to this conclusion , please know that we took this action  in order to maintain the safety of your account . for instructions on  getting your account reinstated , please click the button bellow :  thank you for your patience and  cooperation . regards ,  safeharbor departmentebay  inc . \"', '\"Subject: search engine position  be the very first listing in the top search engines immediately .  our company will now place any business with a qualified website  permanently at the top of the major search engines guaranteed never to move  ( ex : yahoo ! , msn , alta vista , etc . ) . this promotion includes unlimited  traffic and is not going to last long . if you are interested in being  guaranteed first position in the top search engines at a promotional fee ,  please contact us promptly to find out if you qualify via email at  searchl 1 @ telefonica . net . pe it \\' s very important to include the url ( s ) if you  are interested in promoting ! ! ! this is not pay per click . examples will  be provided .  this promotion is only valid in the usa and canada .  sincerely ,  the search engine placement specialists  if you wish to be removed from this list , please respond to the following  email address and type the word \"\" remove \"\" in your subject line :  search 6 @ speedy . com . pe\"', '\"Subject: only our software is guaranteed 100 % legal .  name - brand software at low , low , low , low prices  everything comes to him who hustles while he waits .  many would be cowards if they had courage enough .\"', '\"Subject: localized software , all languages available .  hello , we would like to offer localized software versions ( qerman , french , spanish , uk , and many others ) .  all iisted software is availabie for immediate download !  no need to wait 2 - 3 week for cd deiivery !  just few exampies :  - norton lnternet security pro 2005 - $ 29 . 95  - windows xp professional with sp 2 fuil version - $ 59 . 95  - corei draw graphics suite 12 - $ 49 . 95  - dreamweaver mx 2004 ( homesite 5 . 5 including ) - $ 39 . 95  - macromedia studio mx 2004 - $ 119 . 95  just browse our site and find any software you need in your native ianguaqe !  best reqards ,  lauraiee \"', 'Subject: security alert - confirm your national credit union information  - - >', '\"Subject: 21 st century web specialists jrgbm  dear  it professionals ,  have a problem or idea you need a solution for ?  not sure what it will cost so that you can budget accordingly ?  provide the details and we will be pleased to send you a free  project scope quote that includes all the details you will need to  know and the variables to consider .  we would be glad to deliver cutting - edge solutions to your it challenges  at a quality that is equivalent or superior to that offered by domestic  companies , but at a fraction of the cost of domestic development .  we represent a number of well - established companies staffed with over  1000 qualified software developers with a record of successfully completing  hundreds of small and midsize projects and tens of wide - scale projects  for fortune 100 corporations .  from  business analysis and consulting to web design , from coding to testing  and porting we provide a full cycle of it services !  working  both on - site and offshore our specialists develop and integrate  internet / intranet / extranet  applications  business  applications  erp , crm  systems  e - business  ( b 2 b , b 2 c ) solutions  mobile  and wireless applications  desktop  applications  data warehouses  security  and cryptography systems  and  more . . .  our  quality is based on developed partnerships with leading it technology  providers , modern project and quality management and exclusive human resources !  for  more info . . . click  here ! ! !  please include your phone number ,  and we will be happy to call you !  cost  effective it solutions !  experienced teams of specialists !  fair rates !  free  quotes ! !  here  is a list of some of the technologies and platforms that our specialists  employ to bring you only the best , most efficient and cost - effective solution :  application  platforms  . :  . net  . : java 2 ee  . : ibm websphere suite  . : lotus domino  . : bea weblogic  . : coldfusion  operating  systems  . :  windows ,  . : unix  . : ibm  databases  . :  ms sql  . : oracle  . : db 2  . : foxpro  . : informix  . : sybase  it  standards  . :  activex , com  . : asp  . : corba  . : jdbc  . : odbc  . : wap , wml  for  more info . . . click  here ! ! !  please include your phone number ,  and we will be happy to call you !  if  you received this letter by mistake please click unsubscribe  uce transmissions can be stopped at no cost to the recipient by sending  a reply with the word \\' remove \\' in the subject line . ( ref .  u . s . senate bill 1618 , title # 3 , section 301 ) \"', '\"Subject: any med for your girl to be happy !  your girl is unsatisfied with your potency ? don \\' t wait until she finds another men !  click here to choose from a great variety of llcensed love t @ bs ! best pri $ es , fast shippinq and guaranteed effect ! here you buy it riqht from warehouse !  the store is verified by bbb and approved by visa ! \"', '\"Subject: re : wearable electronics  hi my name is jason , i recently visited www . clothingplus . fi / and wanted to offer my services . we could help you with your wearable electronics website . we create websites that mean business for you ! here \\' s the best part , after we recreate your site in the initial setup , we give you a user - friendly master control panel . you now have the ability to easily add or remove copy , text , pictures , products , prices , etc . when you want to ! i would be happy to contact you and brainstorm some ideas . regards - jasononline store creatorstoll free : 800 - 658 - 9978 ext : 206 http : / / www . . com\"', '\"Subject: top - level logo and business identity  corporate image can say a lot of things about your  company . contemporary rhythm of life is too dynamic . sometimes it takes oniy  several seconds for  your company to be remembered or to be lost among competitors .  get your logo , business stationery or website done  riqht now !  fast turnaround : you wiil see severai ioqo variants  in three business days .  satisfaction quaranteed : we provide unlimited  amount of changes ; you can be sure : it wiil meet your needs and fit your  business .  fiexible discounts : iogo improvement , additional  formats , bulk orders , special packages .  creative design for  competitive price : have a look at it right now !\"', '\"Subject: your trusted source for prescription medication .  best prescription generic meds 4 less .  anger is one of the sinners of the soul .  write what you like ; there is no other rule .  life \\' s most urgent question is : what are you doing for others ?  gold for friends , lead for foes .\"', 'Subject: rely on us for your online prescription ordering .  your in - home source of health information  a conclusion is the place where you got tired of thinking .  a man paints with his brains and not with his hands .  a poet more than thirty years old is simply an overgrown child .  one should always play fairly when one has the winning cards .', '\"Subject: guzzle like a fountain  spur m rocks , our customer speaks :  \"\" my girlfriend and me have been really enjoying making  our own homemade erotic films . we get off on pretending  to be like porn stars even though it will only ever be  the two of us that see them . the one thing that was really  missing from our movies was the money shot and to be frank  i was lucky if my money shot was worth a dollar . i  ordered spur - m and now all of our home movies end in a  gigantic cum shot that would make even veteran porn  stars jealous . thanks spur - m for helping to spice up  our sex life ! \"\"  anthony , ky  \"\" spur - m really works . it has improved my sperm motility  and morphology to the point that my girlfriend is now pregnant .  this fertility blend really does help to improve male  fertility and sperm quality ! \"\"  adam j . , san francisco , usa  http : / / karla . chorally . com / spur / ? sheep  need not be disturbed ? go here  http : / / romano . chorally . com / rm . php\"', \"Subject: are you losing ? the answer would amaze you !  ? connecting your business to the world wide web ?  how  many shoppers are  you  losing ?  the  figure wouldamaze you !  how are youlosing them ?  they  cannot  findyour web  site !  a simple  equation  notbeing found = losing new customers !  we can change  that !  for only $ 119 . 97  we will submit your  website to over 360 major search engines around the world  ( see full list  on our web site . )  but  more than that  we will research the  best and most effective meta tags and keywords to use  on your web site so  that you will rise in the search enginelistings  so new  customers can find you !  don ' t lose any more customers !  let  us  professionally manage the submission of  your web site  and get  itfound and  seen on the  worlds search engines !  click onthis link  click  here !  to discover  thepower of  ? connecting  your business to the world wide web ?\", 'Subject: hi  how to save o improper n your medlcatlons over 70 % .  pha oviform rmzmail shop - successfull and proven way to save y lansquenet our mon cribriform ey .  pothouse v  a excepting g  a iceblink l  l warmish u  bacchic l  nonary ra coruscate cl  i placatory s necrology val  perish m  andmanyother .  * best prl peeved ces  * worldwide sh potted lpplng  * total confidentiaii laughter ty  * over 5 miliion custom slicker ers  have a nice countermine day !', 'Subject: 25 mg did thhe trick  ho receivable w to save on your medlcatlons over 70 % .  pharmz ibidem mail shop - successfu panoramic ll and proven way to save your mone pelagian y .  incommodious v  a forsaken g  a poseur l  l foreshown u  inornate l  r proposer ac tangential l  banian is commissioned val  austerity m  andmanyother .  * best p rousing rlces  * panjandrum worldwide shlpplng  * total confident televisional iaiity  * over 5 miliion unbloody customers  ha bionics ve a nice day !', 'Subject: save your money buy getting this thing here  you have not tried cialls yet ?  than you cannot even imagine what it is like to be a real man in bed !  the thing is that a great errrectlon is provided for you exactiy when you want .  cialis has a lot of advantages over viagra  - the effect lasts 36 hours !  - you are ready to start within just 10 minutes !  - you can mix it with aicohol ! we ship to any country !  get it right now ! .', 'Subject: want to accept credit cards ? 126432211  aredit cpproved  no cecks  do it now  126432211', '\"Subject: [ ilug ] seeking your partnership  dear partner to be ,  first , i must apologise to you for using this medium to communicate to you  about this project .  i am a highly placed official of government of nigeria and also a  founding member of the ruling party in power now , the peoples democratic  party ( pdp ) .  my committee - the niger delta development corporation ( nddc ) - which is in  charge of managing and supervising the disbursement of oil sales revenues  for the nigerian government . the revenues under our control runs into  several hundred of millions of dollars monthly . my self and  other colleagues in the nddc are currently in need of a foreign partner  with whose bank account we shall transfer the sum of forty nine million  five hundred thosand united states dollars ( $ 49 . 5 m ) . this fund accrued to us  as commission for oil sales contracts handled under our supervision .  the fund is presently waiting in the government account named cbn / fgn  independent revenue account number 400 - 939134 with j . p . morgan chase  bank , new york . you can do your independent verification of this . however ,  by virtue of our position as civil servants and members of the nddc , we  cannot acquire this funds in our name . this is because as top civil  servants , we are not allowed by law of the land to own or operate bank  accounts outside our country for now .  i have been delegated as a matter of trust by my colleagues ,  to look for an overseas partner in whose account we would  transfer the fund  hence the reason for this mail . we shall be transferring the money to your  account with your company as we shall present your company as a registered  foreign company in nigeria and you are been paid for a contract which you  executed for our country through the nddc and any other federal ministry  that we decide to use to siphon the funds through .  for your support and partnership , please reply me to negotiate your fees or  the percentage you wish to be paid when the funds arrive your bank account .  you must however note that this transaction , with  regards to our disposition to continue with you , is subject  to these terms . firstly , our conviction of your transparency .  secondly , that you treat this transaction with utmost secrecy  and confidentiality . finally and above all , that you will provide  an account that you have absolute control over .  the transaction , although discrete , is legitimate and there  is no risk or legal disadvantages either to ourselves or yourself now or  in the future as we have put in place perfect mchineries that will ensure  a hitch free transfer into your account upon acceptance .  the transfer will be effected to your account within ten - fourteen  ( 10 - 14 ) working days as soon as we reach an agreement and you furnish  me with a suitable bank account and company name and address with all  your contact numbers including fax number .  i am looking forward to doing business with you and do solicit  your confidentiality in this transaction , please mail your  response to me .  yours faithfully ,  anderson k . eseimoku  - -  irish linux users \\' group : ilug @ linux . ie  http : / / www . linux . ie / mailman / listinfo / ilug for ( un ) subscription information .  list maintainer : listmaster @ linux . ie\"', '\"Subject: [ ilug ] guaranteed to lose 10 - 12 lbs in 30 days 10 . 206  1 ) fight the risk of cancer !  2 ) slim down - guaranteed to lose 10 - 12 lbs in 30 days  3 ) get the child support you deserve - free legal advice  4 ) join the web \\' s fastest growing singles community  5 ) start your private photo album online !  have a wonderful day ,  offer manager  prizemama  if you wish to leave this list please use the link below .  - -  irish linux users \\' group : ilug @ linux . ie  http : / / www . linux . ie / mailman / listinfo / ilug for ( un ) subscription information .  list maintainer : listmaster @ linux . ie\"', '\"Subject: re : just to her . . .  mdaemon has indentified your message as spam . it will not be delivered .  from : projecthoneypot @ projecthoneypot . org  to : s . denham @ capitalspreads . com  subject : * * * spam * * * score / req : 25 . 38 / 08 . 00 - just to her . . .  message - id :  yes , hits = 25 . 4 required = 8 . 0 tests = ab _ uri _ rbl , html _ 50 _ 60 , html _ fontcolor _ red , html _ message , mime _ html _ only , spamcop _ uri _ rbl , ws _ uri _ rbl autolearn = no version = 2 . 64  * * * * * * * * * * * * * * * * * * * * * * * * *  * 0 . 1 html _ fontcolor _ red body : html font color is red * 0 . 2 html _ 50 _ 60 body : message is 50 % to 60 % html * 0 . 1 mime _ html _ only body : message only has text / html mime parts * 0 . 0 html _ message body : html included in message * 8 . 0 spamcop _ uri _ rbl uri \\' s domain appears in spamcop database at sc . surbl . org * [ bjefladghikm . extra - m . info is blacklisted in uri ] [ rbl at multi . surbl . org ] * 9 . 0 ws _ uri _ rbl uri \\' s domain appears in ws database at ws . surbl . org * [ bjefladghikm . extra - m . info is blacklisted in uri ] [ rbl at multi . surbl . org ] * 8 . 0 ab _ uri _ rbl uri \\' s domain appears in ab . surbl . org * [ bjefladghikm . extra - m . info is blacklisted in uri ] [ rbl at multi . surbl . org ]  : message contains [ 1 ] file attachments\"', '\"Subject: ms 2003 software titles available for download  opt - in email special offer unsubscribe me search software top 10 new titles on sale now ! 1 office pro 20032 adobe photoshop 9 . 03 windows xp pro 4 adobe acrobat 7 pro 5 flash mx 20046 corel draw 127 norton antivirus 20058 windows 2003 server 9 alias maya 6 wavefrtl 0 adobe illustrator 11 see more by this manufacturer microsoft symantec adobe customers also bought these other items . . . microsoft office professional edition * 2003 * microsoftchoose : view other titles list price : $ 499 . 00 price : $ 69 . 99 you save : $ 429 . 01 ( 86 % ) availability : available for instant download ! coupon code : 3 ff 9 kuc sales rank : # 1 system requirements | other versions date coupon expires : august 31 st , 2005 average customer review : based on 15177 reviews . write a review . adobe photoshop cs 2 v 9 . 0 adobechoose : view other titles list price : $ 599 . 00 price : $ 69 . 99 you save : $ 529 . 01 ( 90 % ) availability : available for instant download ! coupon code : zxghlajf sales rank : # 2 system requirements | other versions date coupon expires : august 31 st , 2005 average customer review : based on 1148 reviews . write a review . microsoft windows xp professional or longhorn edition microsoftchoose : view other titles list price : $ 279 . 00 price : $ 49 . 99 you save : $ 229 . 01 ( 85 % ) availability : available for instant download ! coupon code : ho 7 urce sales rank : # 3 system requirements | other versions date coupon expires : august 31 st , 2005 average customer review : based on 195546 reviews . write a review . adobe acrobat professional v 7 . 0 adobechoose : view other titles list price : $ 499 . 00 price : $ 69 . 99 you save : $ 429 . 01 ( 85 % ) availability : available for instant download ! coupon code : pl 92 bohsg sales rank : # 4 system requirements | other versions date coupon expires : august 31 st , 2005 average customer review : based on 156489 reviews . write a review .\"', '\"Subject: failure notice  hi . this is the qmail - send program at gigas . keys . be .  i \\' m afraid i wasn \\' t able to deliver your message to the following addresses .  this is a permanent error ; i \\' ve given up . sorry it didn \\' t work out .  :  this address no longer accepts mail .  - - - below this line is a copy of the message .  return - path :  received : ( qmail 10006 invoked from network ) ; 19 jul 2005 10 : 57 : 35 - 0000  received : from unknown ( helo mailwisconsin . com ) ( 220 . 162 . 170 . 32 )  by gigas . keys . be with smtp ; 19 jul 2005 10 : 57 : 35 - 0000  received : from 205 . 214 . 42 . 66  ( squirrelmail authenticated user projecthoneypot @ projecthoneypot . org ) ;  by mailwisconsin . com with http id j 87 gzo 24815823 ;  tue , 19 jul 2005 10 : 57 : 46 + 0000  message - id :  date : tue , 19 jul 2005 10 : 57 : 46 + 0000  subject : just to her . . .  from : \"\" barry castillo \"\"  to : info @ deboel . net  user - agent : squirrelmail / 1 . 4 . 3 a  x - mailer : squirrelmail / 1 . 4 . 3 a  mime - version : 1 . 0  content - type : text / html ; charset = iso - 8859 - 1  content - transfer - encoding : 8 bit  x - priority : 3 ( normal )  importance : normal  soft viagra at $ 1 . 62 per dose  ready to boost your sex life ? positive ?  time to do it right now !  order soft viagra at incredibly low prices  starting at $ 1 . 99 per dose ! unbeiivable !\"', 'Subject: claim your free $ 1000 home depot gift card .  claim your home depot gift card - a $ 1000 value . were sure you can find a use for this gift card in your area . ( ) .  by exclusiverewards  udexhoyp', '\"Subject: perfect logo charset = koi 8 - r \"\" >  thinking of breathing new life into your business ?  start from revamping its front - end - logo and visual identity .  logodentity offers creative custom design of ioqos ,  stationery and web - sites . under our carefui hand these powerful marketing toois  wiil brinq a breath of fresh air into your business  and make you stand out amonq the competitors .  you are just a click  away from your future success . ciick here to see the sampies of our artwork ,  check our prices and hot offers\"', '\"Subject: branded softs  roxio easy media creator 7 . 0 - $ 19 . 95  http : / / broadcasters . wxget . com /  i sing all kinds .  when a man cannot choose he ceases to be a man .  the more minimal the art , the more maximum the explanation .\"', '\"Subject: extra time - last 5 - 10 times longer  hello ,  did you ejaculate before or within a few minutes of  penetration ?  premature ejaculation occurs when you ejaculate too quickly  and without control . it occurs before or shortly after  penetration . premature ejaculation interferes with the sexual  pleasure of both you and your partner . it causes feelings of  guilt , embarrassment , frustration , and depression .  extra - time is the only male sexual performance formula that ,  not only stops premature ejaculation , but actually \"\" cures \"\" it .  extra - time is the only product that allows \"\" you \"\" to control  when you ejaculate .  - non - hormonal herbal therapy .  - acts locally on the sex organs .  - regulates process of ejaculation .  - acts through neuro - endocrine pathway .  - acts on the high centers of emotion in the brain .  look here : http : / / tabboulehs . net / et / ? meds  no thanks : http : / / tabboulehs . net / rr . php\"', '\"Subject: get the best price on your next car !  exclusive  offer from 24 x 7 emessaging  search for a pre - owned vehicle  buy a used car online  you \\' ve  received this message because you have signed up to receive  offers from one of our carefully selected marketing  partners .  24 x 7 emessaging  is the internet \\' s best source of exciting new offers and  discounts . if you no longer wish to receive these offers ,  please follow the unsubscribe instructions at the bottom .  to  unsubscribe from our mailing list , please  click  here \"', '\"Subject: bro check out this awesome new product  wish you could be better ?  http : / / www . gretan . com / ss /  a cheerful mind is a vigorous mind .  war is god \\' s way of teaching americans geography .  all human power is a compound of time and patience .  strive for excellence , not perfection .  if you \\' re killed , you \\' ve lost a very important part of your life .\"', '\"Subject: hidden gems help get a leg up on the market  homeland security investments  the terror attacks on the united states on september 11 , 2001 have  changed  the security landscape for the foreseeable future . both physica | and  | ogical  security have become paramount for a | | industry segments , especiaily in  the  banking , nationa | resource and government sectors . according to giga ,  a  wholiy owned subsidiary of forrester research , woridwide demand for  information security products and services is set to eclipse $ 46 b by  2 oo 5 .  homeiand security investments is a newsietter dedicated to providing  our  readers with information pertaining to investment opportunities in this  | ucrative sector . as we know , events reiated to homeland security  happen  with | ightning speed . what we as investors can do is position  ourselves in  such a way as to take advantage of the current trends and be ready to  capitalize on events which have yet to happen . homeland security  investments is here to heip our readers do just that .  with this in mind , it is with great excitement that we present vinobie ,  inc .  this stock is expected to do big things in both the near and long  terms .  symbol : vnbl . ob  current price : 0 . 08  short term target price : o . 35  12 month target price : 1 . 2 o  * * * why we beiieve vnbl . ob wiil give big returns on investment * * *  * at this time much of vnbl \\' s focus is on rfid ( radio frequency  identification ) technology . this is technology which uses tiny sensors  to  transmit information about a person or object wirelessly .  * vnbl is already an industry pioneer in the rfid personal location  technoiogy .  * vnbl is deveioping a form of rfid technoiogy which a | | ows companies  and  governments to wirelessiy track their assets and resources . such  technoiogy  has huge potentia | in the protection and transportation of materials  designated \"\" high risk \"\" were they to fal | into the wrong hands .  * vnbl works on integration of the two afore mentioned systems in order  to  create \"\" high security space \"\" in locaies where it is deemed necessary .  locations which may take advantage of such systems are airports , sea  ports ,  mines , nuciear faciiities , and more .  * as with all stocks , news drives the short term price . fresh news has  made vnbl a hot buy .  news on vnbl  malibu , calif . - - ( business wire ) - - june 16 , 2005 - - vinoble , inc .  ( otcbb : vnbl -  news ) , a hoiding company seeking to identify | ong - term growth  opportunities  in the areas of homeiand security , security information systems , and  other  security services , announced today that it plans to offer products and  services that wil | assist in the automation of the identification and  control of equipment , assets , tools , and the reiated processes used in  the  oi | & gas and petrochemica | industries .  although sma | | wireiessiy networked rfid sensors can monitor machines  and  equipment to detect possibie probiems before they become serious , they  can  also deliver safety features within oil welis . oi | maybe trapped in  different | ayers of rock , along with gas and water . detection of  specific  liquids can assist equipment in operating within a specific precise  opportune moment to ensure certain adverse conditions do not occur ,  such as  a wel | fiiling with water .  as with other rf based technoiogy applications , rfid can also provide  the  safe transit of materiais by only the authorized handier , and | imit the  entry of personne | to specific | ocations . ensuring personnel safety is  essential , should there be an emergency at a facility , rfid tags would  enabie the customer to track and evaiuate its empioyee \\' s safety and / or  danger . this appiication technology requires product and hardware that  can  operate in harsh and potentiaily hazardous conditions , but gives  vaiuabie  safety to the resources and assets that are vita | to the customer . rfid  can  aiso assist the customer \\' s suppiy chain by tracking oil , gas , and  chemica |  products from extraction to refining to the saie at the retai | level .  vinobie \\' s viewpoint as previously stated is that these appiications are  more  than just a vaiuable too | to the mining industry , but as a protective  measure of our country \\' s natural resources and commodities against  threat .  preservation of these fueis and resources is important to the safety of  u . s .  industry and economy .  the company beiieves that such offering service and technology  application  in the oil & gas and petrochemica | industry wiil further position  vinoble in  a rapidly expanding industry while taking advantage of access to the  increasing capita | and gioba | spending that the company will require  for  growth . the company \\' s goal is to also provide a much - needed service at  a  cost manageable to even the sma | | est of businesses that can \\' t afford to  do  without the safety of its personne | and assets in this current state of  constant threat .  this is outstanding news . the growth potentia | for this company is  exceptiona | . in an already hot industry , vnbl . ob stands out as a truiy  innovative pioneer . we see big things happening to this stock .  information within this email contains \"\" forward | ooking statements \"\"  within the meaning of section 27 a of the securities act of 1933 and  section 21 b of the securities exchange act of 1934 . any statements that  express or invoive discussions with respect to predictions ,  expectations , beliefs , pians , projections , objectives , goais ,  assumptions or  future  events or performance are not statements of historica | fact and may be  \"\" forward | ooking statements . \"\" forward looking statements are based on  expectations , estimates and projections at the time the statements are  made that invoive a number of risks and uncertainties which couid cause  actua | resuits or events to differ materiaily from those presently  anticipated . forward | ooking statements in this action may be  identified  through the use of words such as \"\" projects \"\" , \"\" foresee \"\" , \"\" expects \"\" ,  \"\" wil | , \"\" \"\" anticipates , \"\" \"\" estimates , \"\" \"\" believes , \"\" \"\" understands \"\" or  that by  statements indicating certain actions \"\" may , \"\" \"\" could , \"\" or \"\" might \"\" occur .  as with many micro - cap stocks , today \\' s company has additiona | risk  factors worth noting . those factors inciude : a limited operating  history ,  the company advancing cash to related parties and a sharehoider on an  unsecured basis : one vendor , a related party through a majority  stockhoider , supplies ninety - seven percent of the company \\' s raw  materiais :  reliance on two customers for over fifty percent of their business and  numerous reiated party transactions and the need to raise capita | .  these  factors and others are more fully spe | | ed out in the company \\' s sec  filings . we urge you to read the filings before you invest . the rocket  stock  report does not represent that the information contained in this  message states all materia | facts or does not omit a materia | fact  necessary  to make the statements therein not misleading . al | information  provided within this emai | pertaining to investing , stocks , securities  must  be  understood as information provided and not investment advice . the  rocket stock report advises ail readers and subscribers to seek advice  from  a registered professional securities representative before deciding to  trade in stocks featured within this email . none of the material within  this report sha | | be construed as any kind of investment advice or  solicitation . many of these companies are on the verge of bankruptcy .  you  can lose a | | your money by investing in this stock . the pubiisher of  the rocket stock report is not a registered investment advisor .  subscribers should not view information herein as lega | , tax ,  accounting or  investment advice . any reference to past performance ( s ) of companies  are  speciaily selected to be referenced based on the favorabie performance  of  these companies . you would need perfect timing to achieve the results  in the examples given . there can be no assurance of that happening .  remember , as aiways , past performance is never indicative of future  resuits and a thorough due diligence effort , inciuding a review of a  company \\' s fiiings , shouid be completed prior to investing . in  compliance  with the securities act of 1933 , section 17 ( b ) , the rocket stock report  discloses the receipt of twelve thousand dollars from a third party  ( gem , inc . ) , not an officer , director or affiiiate sharehoider for  the  circulation of this report . gem , inc . has a position in the stock  they  wiil sel | at any time without notice . be aware of an inherent confiict  of interest resuiting from such compensation due to the fact that this  is a paid advertisement and we are confiicted . ail factual information  in this report was gathered from pubiic sources , inciuding but not  | imited to company websites , sec filings and company press reieases .  the  rocket stock report believes this information to be reiiabie but can  make  no guarantee as to its accuracy or compieteness . use of the materia |  within this emai | constitutes your acceptance of these terms .\"', '\"Subject: 10 minutes before sex , lasts for 24 - 36 hours  legal , prescription medications under the essential guidance of licensed medical  under every stone lurks a politician .  experience is the name everyone gives to their mistakes .  without music , life would be a mistake .\"', '\"Subject: wish you could be better ?  penis growth extreme  http : / / www . siratu . com / ss /  cruelty is like hope : it springs eternal .  amusement is the happiness of those who cannot think .  to each his own . ( suum cuique )  always forgive your enemies ; nothing annoys them so much .  bad news goes about in clogs , good news in stockinged feet .\"', '\"Subject: 1000 full color brochures 335  the tsa design products & ideas expo show is just around the corner and if you are going to be an exhibitor you will need something to hand out to your prospective customers . wiley printing wants to help you do that by offering great prices on quality print collateral . here are a few examples :  1 , 000 business cards for $ 55 - full color , uv coated with 14 pt . paper stock  1 , 000 postcards for $ 150 - full color , uv coated with 14 pt . paper stock  1 , 000 brochures for $ 335 - full color , two sided 100 # gloss text  if you are interested in any of these offers or if you are looking for something a little different please contact us through one of the methods below .  wiley print  4650 cole ave # 105  dallas , tx 75205  214 . 443 . 0908 phone  214 . 443 . 0308 fax  info @ wileyprint . com  note : this is the first and last time wiley print will ever send you an email . however , if you would like to opt out please reply to this email with remove me in the subject line .\"', '\"Subject: search for the best and cheapest pharmacy online  save 80 % over the brandnames like viagra , cialis and propecia  anatomy is destiny .  oh , what a dear ravishing thing is the beginning of an amour !  it is not every question that deserves an answer .\"', '\"Subject: failure notice  hi . this is the qmail - send program at mail - 03 . cdsnet . net .  i \\' m afraid i wasn \\' t able to deliver your message to the following addresses .  this is a permanent error ; i \\' ve given up . sorry it didn \\' t work out .  :  sorry , i couldn \\' t find any host named bb . internetcds . com . ( # 5 . 1 . 2 )  - - - below this line is a copy of the message .  return - path :  received : ( qmail 50355 invoked by alias ) ; 19 jul 2005 10 : 58 : 51 - 0000  delivered - to : nic - notify @ internetcds . com  received : ( qmail 50352 invoked from network ) ; 19 jul 2005 10 : 58 : 51 - 0000  received : from unknown ( helo localhost ) ( 127 . 0 . 0 . 1 )  by mail - 03 . cdsnet . net with smtp ; 19 jul 2005 10 : 58 : 51 - 0000  received : from mail - 03 . cdsnet . net ( [ 127 . 0 . 0 . 1 ] )  by localhost ( mail - 03 . cdsnet . net [ 127 . 0 . 0 . 1 ] ) ( amavisd - new , port 10024 )  with smtp id 46679 - 09 for ;  tue , 19 jul 2005 03 : 58 : 51 - 0700 ( pdt )  received : ( qmail 50346 invoked from network ) ; 19 jul 2005 10 : 58 : 50 - 0000  received : from yahoobb 220056020109 . bbtec . net ( helo mailwisconsin . com ) ( 220 . 56 . 20 . 109 )  by mail - 03 . cdsnet . net with smtp ; 19 jul 2005 10 : 58 : 50 - 0000  received : from 205 . 214 . 42 . 66  ( squirrelmail authenticated user projecthoneypot @ projecthoneypot . org ) ;  by mailwisconsin . com with http id j 87 gzo 09360462 ;  tue , 19 jul 2005 10 : 57 : 46 + 0000  message - id :  date : tue , 19 jul 2005 10 : 57 : 46 + 0000  subject : just to her . . .  from : \"\" barry castillo \"\"  to : nic - notify @ internetcds . com  user - agent : squirrelmail / 1 . 4 . 3 a  x - mailer : squirrelmail / 1 . 4 . 3 a  mime - version : 1 . 0  content - type : text / html ; charset = iso - 8859 - 1  content - transfer - encoding : 8 bit  x - priority : 3 ( normal )  importance : normal  x - virus - scanned : by amavisd - new at internetcds . com  soft viagra at $ 1 . 62 per dose  ready to boost your sex life ? positive ?  time to do it right now !  order soft viagra at incredibly low prices  starting at $ 1 . 99 per dose ! unbelivabie !\"', 'Subject: claim your free home depot gift card - a $ 1000 value .  claim your home depot gift card - a $ 1000 value . were sure you can find a use for this gift card in your area . ( ) .  by exclusiverewards  qprkelmv', '\"Subject: breaking biotech news  hey , i thought you might want to take a look at gtha  could genethera become the next darling of biotech \\' as they announce collaborations with industry giant beckman coulter ?  breaking biotech news :  genethera inc . to collaborate with biotech giant beckman coulter inc .  - genethera news release july 11 th , 2005 .  genethera inc . ( otc . bb : gtha ) a molecular biotech company located in wheat ridge , co . granted first right of refusal to beckman coulter , inc . ( nyc : bec $ 63 . 34 ) to license genethera \\' s patented technology for developing live - animal \\' genetic diagnostic tests .  this is a significant milestone for genethera . beckman coulter is one of the world \\' s leading manufacturers of biomedical testing systems , tests and supplies . our collaboration will unite the expertise of beckman coulter with the cutting edge technology of genethera .  - dr . antonio milici , m . d . , ph . d . genethera inc .  genethera provides genetic diagnostic solutions for the veterinary and agricultural industries with future plans to include the healthcare industry . the company was formed to realize the commercial potential of molecular diagnostic assays using roche \\' s f - pcr technology to detect the presence of infectious disease from the blood of animals , particularly live animals . this platform enables  genethera to offer tests that are presently not available from any other technology . future plans include all infectious disease potentially affecting domesticated livestock as well as wildlife intended for human consumption with priority being given to mad cow , johne \\' s and foot and mouth diseases in cattle . genethera has successfully developed the ability to detect both mad cow disease and chronic wasting disease ( cwd ) also known as mad deer or elk .  free information reguarding stocks !  e - mail  first name  last name  phone number  view full report  view full report  company : genethera inc .  symbol : gtha  exchange : otc . bb  recent price : $ 0 . 90  outstanding shares : 21 mil website : www . genethera . net  prior to the 1 st case of mad cow , u . s . beef exports in 2003 in the us were valued at near $ 6 billion . most of the export dollars have since been lost with the international us beef ban imposed in 2004 .  over 90 million cattle are in feedlots in the u . s .  over 35 million cattle have been slaughtered in the u . s . annually  beckman coulter , inc . is a leading manufacturer of biomedical testing instrument  systems , tests and supplies that simplify and automate laboratory processes . spanning the biomedical testing continuum - - from pioneering medical research and clinical trials to laboratory diagnostics and point - of - care testing - - beckman coulter \\' s 200 , 000 installed systems provide essential biomedical information to enhance health care around the world . the company , based in fullerton , calif . , reported 2004 annual sales of $ 2 . 4 billion with 64 percent of this amount generated by recurring revenue from supplies , test kits and services . for more information , visit www . beckmancoulter . com .  we are looking forward to working with genethera to identify commercial applications of their technology .  - chris neary , general manager , prion business center , beckman coulter , inc .  in most countries around the globe , the discovery of a cow with mad cow disease \\' leads to the immediate slaughter of hundreds , even thousands of cattle out of wide spread fear of disease spread and the need to complete disease testing on the dead animals . costly international beef recalls \\' are common since mad cow \\' testing ( until now ) has only been conducted after the slaughter process . genethera \\' s live animal \\' blood test could lead to halting of mass slaughters and widespread panic , while saving the industry hundreds of millions of dollars each year .  through the testing of a single blood sample , genethera could end the need to slaughter entire herds of cattle and other animals for disease testing - saving the industry hundreds of millions of dollars each year .  currently funded by an institutional money manager in southern california , genethera has plans to open laboratories worldwide to meet this exploding bse testing demand .  you want to invest in the dna revolution ? don \\' t wait for customized drugs , which are years away . buy shares in a company using dna for diagnostic work .  forbes - good genes , kerry a . dolan , may 16 , 2005  new patented tests created with information gleaned from genome mapping have injected new life and higher margins ( near 75 % ) into the business . the $ 2 . 5 billion molecular diagnostics industry is expanding at a 15 % annual rate , according to consulting firm leomics associates of emerson , n . j .  genethera ( gtha ) : making their mark in biotech  genethera has just recently teamed up with biotech giant beckman coulter inc .  they are the first to market with a blood test for mad cow disease on live cattle  they have the ability to detect numerous infectious diseases utilizing genetic methods from the blood of a live animal  they are the first to market with a blood test for detecting cwd  they are presently developing a therapeutic vaccine for cwd and mad cow disease using rna interference technology  they are currently developing a blood test using the same platform for breast and prostate cancer detection with their strategic partner xpng ( xpention genetics inc . )  genethera could end beef recalls \\' and potentially the slaughter of millions of animals around the globe while saving the industry hundreds of millions of dollars each year  currently funded by an institutional money manager in southern california , genethera has plans to open laboratories worldwide to handle this growing bse testing demand .  genethera could generate revenues over $ 13 million for every 1 % of cattle tested in the usa alone  international testing figures would be staggering .  genethera technology :  genethera \\' s business is based on its integrated technology platform ( itp ) that combines a proprietary diagnostic solution called gene expression assay ( gea ( tm ) ) with purivax ( tm ) , its system for analyzing large - scale dna sequencing .  the first part of this platform is the ongoing development of molecular diagnostic assays solutions using real time fluorogenic polymerase chain reaction ( f - pcr ) technology to detect the presence of infectious disease from the blood of live animals . the second part of the itp is the development of therapeutic vaccines using rna interference technology . it also allows for the efficient , effective , and continuous testing , management and treatment of animal populations . these facts distinguish the technology from any alternative testing and management methodology available to agriculture today - - all of which require the destruction of individual animals and even entire herds . our testing and data analysis processes also allow us not only to separate infected from clean animals , but also to gain knowledge vital to development of preventative vaccines .  genethera inc . is committed to providing global access to cutting edge biotechnology services to fellow scientists in academia , the pharmaceutical industry , and the biotechnology industry . primarily , genethera \\' s expertise focuses on technology relevant to animal and human immunotherapy . genethera is dedicated to furnishing dependable , high quality , cost - effective and prompt client consulting services . these services are backed by the cumulative experiences of greater than 100 years of research and development in both government and industry by genethera \\' s senior scientists . genethera develops a commercial - scale implementation of adenovector purification process to support rd material production . furthermore , genethera evaluates and tests commercially available expression vectors and incorporates them into its vector repertoire . these technologies are well established within the repertoire of genethera \\' s scientific staff .  genethera can uniquely detect and treat a variety of diseases in animals while they are still alive .  the company provides genetics - based diagnostic and vaccine solutions to meet the growing demands of today \\' s veterinary industry and tomorrow \\' s agriculture and healthcare industries . the company is organized and operated both to continually apply its scientific research to more effective management of diseases and , in so doing , realize the commercial potential of molecular biotechnology .  the core of genethera \\' s operation is the ongoing development of molecular diagnostic assays using real time fluorogenic polymerase chain reaction . ( f - pcr ) technology uses live animal blood to detect the presence of infectious diseases and for the development of vaccines for such blood born diseases . it also allows for the efficient , effective , and continuous testing , management and treatment of animal populations . these facts distinguish the technology from any alternative testing and management methodology available to agriculture today - - all of which require the destruction of individual animals and even entire herds . our testing and data analysis processes also allow us not only to separate infected from clean animals , but also to gain knowledge vital to development of preventative vaccines .  to date , genethera has successfully developed the assay ability to detect mad cow and chronic wasting disease , a disease affecting elk and deer in north america . diagnostic assays for e . coli ol 57 : h 7 and johnne \\' s disease are in the final stages of development . vaccines for e . coli ol 57 : h 7 and johnne \\' s disease , both of which are diseases affecting cattle , are in advanced stages of development . in the future , the company plans to expand assay application research to a wide range of diseases / animals , the immediate targets being mad cow , hoof mouth , west nile and newcastle .  genethera can detect bse using the companies patented live animal blood test that evaluates the e . d . r . f . gene sequence . the e . d . r . f . gene is proven to decrease dramatically before any tse infection is noticeable in a live animal or human . the patent gtha holds is broad based and can detect all tse diseases including mad cow ( bse ) in cattle , cwd in elk deer and creutzfeld - jacobs in humans  the company \\' s patented test can detect these diseases faster than any other method developed in the marketplace and at far less a cost . the test can also be used on a mass scale using roche f - pcr , dna analyzing robotics equipment . genethera can analyze over 2000 blood samples a day with one f - pcr machine and a single technician . the project will prove highly profitable at approx $ 4 . 00 per test when wide scale commercialization is under way .  a multi - billion dollar , international demand for commercial mad cow testing has emerged around the globe .  japan conducted 3 million post - mortem rapid mad cow tests last year alone . they used the western blot developed by prionics ag in swizterland and bio - rad \\' s rapid test . costs are between $ 20 and $ 40 dollars per test . most importantly , other tests in the marketplace cannot detect the disease until the animal has been killed . testing through post - mortem brain tissue exams is extremely labor intensive and costly .  japan spent between $ 60 million - $ 120 million on 3 million post mortem rapid mad cow tests in 2004 .  genethera \\' s simple blood test can be collected using their patented field collection system . the sample is then mailed to the lab for testing . the company also stated in their recent 10 k that they are currently in negotiations with strategic testing partners that we believe will absorb the costs of commercializing our live animal mad cow test .  management :  dr . tony milici - chairman of the board , president ceo  dr . milici is a ph . d . in experimental hematology and m . d . in medicine and surgery , receiving degrees from university of rome ( italy ) and stanford university . his specialties include : molecular biology / biotechnology , gene therapy / molecularly oncology and molecular . he has had extensive post - graduate training that includes a fellowship in the department of clinical immunology with the university of texas m . d . anderson cancer center and visiting fellow at university of rome \\' s laboratory of cellular immunology and biochemistry . among his post - graduate activities , dr . milici was an assistant professor at the medical college of georgia \\' s department of pharmacology toxology as well as an assistant biochemist in the department of molecular pathology at the university of texas m . d . anderson cancer center in houston , tx . prior to founding genethera , inc . , dr . milici was president ceo of genetrans , inc . based in augusta , ga . , a diagnostics laboratory . for dr . milici , genethera is a realization of an ambition to demonstrate the commercial potential of molecular biotechnology .  dr . thomas j . slaga - board member  dr . slaga is a ph . d . in physiology and biophysics with undergraduate degrees in biology / chemistry . since 1999 , dr . slaga has served as an adjunct professor in the department of biochemistry molecular biology at university of colorado \\' s health sciences center located in denver , co . dr . slaga \\' s career is steeped in research and development roles and affiliations concentrating on cancer . examples include : chair / scientific director for cancer causation and prevention , the amc cancer research center located in denver , co ; director , professor of biochemistry at the university of texas m . d . anderson cancer center ( science park - research division ) located in smithville , tx ; and group leader and research staff member , skin carcinogenesis and tumor promotion , biology division of the oak ridge national laboratory in oak ridge , tn . dr . slaga \\' s blend of scientific and management experience lends to genethera \\' s board an important dimension vis - - vis its development opportunities .  mr . richard w . bryans , jr . - board member - general counsel  mr . bryans is an attorney at law in denver , co . a graduate of regis university in business administration / economics , mr . bryans went on to graduate from the university of denver college of law and has been practicing law in denver for over 12 years . mr . bryans provides the genethera board with the much - valued legal perspective to benefit a young , publicly traded company . additionally , the company will be able to take advantage of mr . bryans \\' legal experience in the important area of vaccine licensing that is integral to the future of genethera .  to join market movers mailings click here to find out more .  tw inc .  4636 hidden forest dr .  sarasota fl , 32430  disclaimer :  this publicly distributed email report of otc special situations report , a publication of otc growth stock watch , is a sponsored advertisement . this paid advertising issue of otc growth stock watch does not purport to provide an analysis of any company \\' s financial position and is not in any way to be construed as an offer or solicitation to buy or sell any security . otc growth stock watch is a paid advertiser . xpention genetics inc . is the featured company . the distribution costs of this report to new subscribers , eighty thousand dollars were funded by tw inc . in an effort to create investor awareness of xpention genetics , inc . tw inc . is not a broker - dealer nor are they an investment advisor . market movers , otc growth stock watch , otc special situations report , nor is geoffrey eiten to be considered a broker - dealer though they are investment advisors . it is anticipated that this report will generate new subscriptions for growth stock watch . neither otc growth stock watch nor geoffrey eiten , the reviewer [ or analyst ] , received any compensation for this report , but both expect to receive an unknown amount of revenue from new subscriptions from the subscription offer contained herein . this report , including the opinions expressed and the statements made within , is for informational and advertising purposes only and should not be construed as investment advice and do not constitute an offer to sell any securities , and it is not soliciting an offer to buy any securities in any state or other jurisdiction where the offer or sale is not permitted . readers should consult with their own professional investment , tax and portfolio advisors before making any investment decision and should independently verify all information herein . the information used to prepare this report is believed to be from reliable sources , but no representation is made as to the accuracy or completeness of such information . investment in securities carries a high degree of risk and involves risks and uncertainties which may result in investors \\' losing all of their invested capital . past performance does not guarantee future results . the information contained herein contains forward - looking statements , within the meaning of section 27 a of the securities act of 1933 and section 21 e of the securities exchange act of 1934 . forward - looking statements are based upon expectations , estimates and projections at the time the statements are made and involve risks and uncertainties that could cause actual events to differ materially from those anticipated . forward - looking statements may be identified through the use of words such as expects , will , anticipates , estimates , believes , or by statements indicating certain actions may , could , should , or might occur . any statements that express or involve predictions , expectations , beliefs , plans , projections , objectives , goals or future events or performance may be forward - looking statements . factors that could cause actual results to differ materially include but are not limited to adverse economic conditions , intense competition , lack of meaningful research results , inadequate capital , termination of contracts or agreements , adverse publicity and news coverage , inability to carry out research , development and commercialization plans , loss or retirement of key executives and research scientists , and other risks detailed in the company \\' s reports filed with the securities and exchange commission . more complete information about xpention genetics , inc . is available from the website of the securities and exchange commission , at http : / / www . sec . gov , and copies of its filings may be read without charge at and copies obtained at prescribed rates from the public reference facilities of the commission , at 450 fifth street , nw , washington , dc 20549 .  media matrix 7025 county rd . , 46 a dte 1071 # 349 lake mary , fl 32746 this e - mail message is an advertisement and / or solicitation . \"', '\"Subject: prop 0 sal  dear siobhan _ riskin  our company will place any business with a qualified website permanently at the top of the major search engines guaranteed never to move ( eg : yahoo ! , msn , alta vista , etc ) . if you are interested in being guaranteed first position in the top search engines at a promotional fee , please contact us at hannah @ speedy . com . pe please include the url ( s ) your are interested in promoting this is not pay per click examples will be provided .  sincerely  the search engine placement specialists  if you wish to be removed , please respond to hannah @ speedy . com . pe and type the word : remove in your subject line\"']\n"
          ]
        }
      ]
    },
    {
      "cell_type": "markdown",
      "source": [
        "## Testing on Random Input\n",
        "### Author: CJM"
      ],
      "metadata": {
        "id": "60lGV60eDDJW"
      }
    },
    {
      "cell_type": "code",
      "source": [
        "# reviews = [\n",
        "#     'You are awarded a SiPix Digital Camera! call 09061221061 from landline. Delivery within 28days. T Cs Box177. M221BP. 2yr warranty. 150ppm. 16 . p pÂ£3.99',\n",
        "#     'it to 80488. Your 500 free text messages are valid until 31 December 2005.',\n",
        "#     'Reply to win Â£100 weekly! Where will the 2006 FIFA World Cup be held? Send STOP to 87239 to end service',\n",
        "#     'Hey Sam, Are you coming for a cricket game tomorrow',\n",
        "#     \"Why don't you wait 'til at least wednesday to see if you get your .\"]\n",
        "\n",
        "\n",
        "reviews = lines\n",
        "model.predict(reviews)"
      ],
      "metadata": {
        "execution": {
          "iopub.status.busy": "2023-10-30T00:39:25.423064Z",
          "iopub.status.idle": "2023-10-30T00:39:25.423368Z",
          "shell.execute_reply.started": "2023-10-30T00:39:25.423223Z",
          "shell.execute_reply": "2023-10-30T00:39:25.423236Z"
        },
        "trusted": true,
        "colab": {
          "base_uri": "https://localhost:8080/"
        },
        "id": "H3H-T9K4DDJW",
        "outputId": "ed14bc49-1fed-47ca-db9d-2a8b6d6e97cd"
      },
      "execution_count": null,
      "outputs": [
        {
          "output_type": "stream",
          "name": "stdout",
          "text": [
            "2/2 [==============================] - 1s 428ms/step\n"
          ]
        },
        {
          "output_type": "execute_result",
          "data": {
            "text/plain": [
              "array([[0.8044075 ],\n",
              "       [0.73267406],\n",
              "       [0.5072309 ],\n",
              "       [0.27752137],\n",
              "       [0.8473306 ],\n",
              "       [0.78257257],\n",
              "       [0.4704914 ],\n",
              "       [0.7185582 ],\n",
              "       [0.41942567],\n",
              "       [0.76092947],\n",
              "       [0.46881625],\n",
              "       [0.75871885],\n",
              "       [0.65163875],\n",
              "       [0.48387477],\n",
              "       [0.54571986],\n",
              "       [0.6790342 ],\n",
              "       [0.8279923 ],\n",
              "       [0.5547365 ],\n",
              "       [0.599804  ],\n",
              "       [0.5245522 ],\n",
              "       [0.89247394],\n",
              "       [0.37778947],\n",
              "       [0.714213  ],\n",
              "       [0.83634585],\n",
              "       [0.7697684 ],\n",
              "       [0.6635661 ],\n",
              "       [0.75430804],\n",
              "       [0.72814757],\n",
              "       [0.7422987 ],\n",
              "       [0.74121237],\n",
              "       [0.7019682 ],\n",
              "       [0.533076  ],\n",
              "       [0.50590026],\n",
              "       [0.6291786 ],\n",
              "       [0.56657   ],\n",
              "       [0.49098796],\n",
              "       [0.6927807 ],\n",
              "       [0.77945215],\n",
              "       [0.7532163 ],\n",
              "       [0.49927187],\n",
              "       [0.56263864],\n",
              "       [0.71922857],\n",
              "       [0.6451373 ],\n",
              "       [0.8976755 ],\n",
              "       [0.77718234],\n",
              "       [0.42665365],\n",
              "       [0.8801807 ],\n",
              "       [0.49600598],\n",
              "       [0.5206209 ],\n",
              "       [0.2805085 ],\n",
              "       [0.3117731 ]], dtype=float32)"
            ]
          },
          "metadata": {},
          "execution_count": 200
        }
      ]
    },
    {
      "cell_type": "markdown",
      "source": [
        "#### Thus in above example we conclude that the first three mails are spam while other two are not spam."
      ],
      "metadata": {
        "id": "gUcmu3hqDDJW"
      }
    },
    {
      "cell_type": "code",
      "source": [
        "len(lines)"
      ],
      "metadata": {
        "colab": {
          "base_uri": "https://localhost:8080/"
        },
        "id": "dvrZI78ejLbS",
        "outputId": "6a0866a9-dbe9-4d14-d79e-460c204c5f1d"
      },
      "execution_count": null,
      "outputs": [
        {
          "output_type": "execute_result",
          "data": {
            "text/plain": [
              "51"
            ]
          },
          "metadata": {},
          "execution_count": 201
        }
      ]
    }
  ]
}